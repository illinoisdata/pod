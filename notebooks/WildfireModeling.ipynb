{
 "cells": [
  {
   "cell_type": "markdown",
   "metadata": {
    "slideshow": {
     "slide_type": "slide"
    }
   },
   "source": [
    "# Modeling and simulation of wildfires\n",
    "\n",
    "Modeling the details of actual wildfires is extremely complicated, and obviously very important in helping to protect life and property.  Such detail is beyond the scope of this exercise.  \n",
    "\n",
    "We're interested here in using the process of wildfire spread to learn about how to build simulation models, and seeing if we can reproduce some basic elements of what is seen in the historical wildfire data, such as a broad distribution of fire sizes and durations. \n",
    "\n",
    "Dynamical models typically have three key components:\n",
    "* state variables describing the configuration of the system at any time\n",
    "* rules for the time dynamics of the state variables (usually based on their interactions)\n",
    "* parameters that help to specify the rules\n",
    "\n",
    "What sorts of ingredients ought to go into a simulation model of wildfires?"
   ]
  },
  {
   "cell_type": "markdown",
   "metadata": {
    "slideshow": {
     "slide_type": "slide"
    }
   },
   "source": [
    "## A simple forest fire model (with a long history in the scientific literature)\n",
    "\n",
    "1. The forest consists of an LxL array of sites.  Each site is either empty (0), filled with a tree (1), or filled with a burning tree (2).\n",
    "2. The system advances in time steps. At every step, the following updates take place:\n",
    "    * An empty site will fill with a new tree with probability g.\n",
    "    * A tree will become a burning tree if any of its 4 neighbors are burning.\n",
    "    * A burning tree will burn to the ground and the site will become empty.\n",
    "3. In our version of the model, the forest is surrounded by freeways, also empty of trees.  (In other versions, fires are allowed to \"wrap around\" left-right and top-bottom).\n",
    "4. After a fire has completely extinguished itself, a new fire can be initiated by a random lightning strike at one of the filled tree sites.\n",
    "5. In our version of the model, lightning strikes are rare, so there is only one strike per fire.  (In other versions, any filled tree site is struck by lightning with probability s and is turned into a burning tree.)\n",
    "\n",
    "Further information: \n",
    "* https://en.wikipedia.org/wiki/Forest-fire_model\n",
    "* http://aryan.app/randomstuff/forestfire.html  (Live online demo of a similar model)"
   ]
  },
  {
   "cell_type": "markdown",
   "metadata": {
    "slideshow": {
     "slide_type": "slide"
    }
   },
   "source": [
    "For example, consider a 10x10 forest, where:\n",
    "* purple = empty (0)\n",
    "* green = tree (1)\n",
    "* yellow = burning (2)\n",
    "\n",
    "An initial configuration such as the one on the left at t=0 would be transformed into the next configurations at t=1 and t=2 (assuming no new trees grew in empty sites).\n",
    "\n",
    "t = 0 | t = 1 | t = 2\n",
    "- | - | -\n",
    "![alt](step0.jpg) | ![alt](step1.jpg) | ![alt](step2.jpg)\n",
    "\n",
    "What would the next time step look like?"
   ]
  },
  {
   "cell_type": "markdown",
   "metadata": {
    "slideshow": {
     "slide_type": "slide"
    }
   },
   "source": [
    "### Getting started\n",
    "\n",
    "We'll do our work in this notebook, but if you want, you can also start up your Spyder IDE and copy the steps so you have a full working code at the end.\n",
    "\n",
    "First we want to import the numpy module to get arrays and random numbers, and the matplotlib.pyplot module to do plotting.\n",
    "\n",
    "Let's also set the tree growth rate to be g=0.0001 .  We are setting g to be small, so we're assuming that new trees don't grow much during an actual fire event."
   ]
  },
  {
   "cell_type": "code",
   "execution_count": 1,
   "metadata": {
    "slideshow": {
     "slide_type": "-"
    }
   },
   "outputs": [],
   "source": [
    "import numpy as np\n",
    "import matplotlib.pyplot as plt\n",
    "\n",
    "g = 0.0001"
   ]
  },
  {
   "cell_type": "markdown",
   "metadata": {
    "slideshow": {
     "slide_type": "slide"
    }
   },
   "source": [
    "### Assignment #1\n",
    "\n",
    "Write a function named <code>make_random_forest</code> that takes two inputs (L and p), and returns an LxL numpy array that is filled randomly with 0's and 1's (empty sites and trees), where each site is filled with a tree with probability p.  In addition, set the four boundaries (left, right, top, bottom) to be all empty."
   ]
  },
  {
   "cell_type": "code",
   "execution_count": 2,
   "metadata": {},
   "outputs": [],
   "source": [
    "def make_random_forest(L, p):\n",
    "    # first generate random array containing 1's with probability p\n",
    "    # now set all the boundary elements to be 0\n",
    "    return forest"
   ]
  },
  {
   "cell_type": "markdown",
   "metadata": {
    "slideshow": {
     "slide_type": "-"
    }
   },
   "source": [
    "Hint #1: If you were flipping a fair coin, the following code would generate 10 random coin flips, with heads=1 and tails=0 (or vice versa): `1 * (np.random.random(10) < 0.5)`\n",
    "    \n",
    "Hint #2: A specific row or column in a 2D array can be sliced out and reset. `a[0,:] = 0` sets the entire first row to be 0;\n",
    "`a[:,-1] = 0` sets the entire last column to be 0."
   ]
  },
  {
   "cell_type": "markdown",
   "metadata": {
    "slideshow": {
     "slide_type": "slide"
    }
   },
   "source": [
    "### Solution #1"
   ]
  },
  {
   "cell_type": "code",
   "execution_count": 3,
   "metadata": {
    "slideshow": {
     "slide_type": "-"
    }
   },
   "outputs": [],
   "source": [
    "def make_random_forest(L, p):\n",
    "    # first generate random array containing 1's with probability p\n",
    "    forest = 1 * (np.random.random((L,L)) < p)\n",
    "    # now set all the boundary elements to be 0\n",
    "    forest[ 0,:] = 0\n",
    "    forest[-1,:] = 0\n",
    "    forest[:, 0] = 0\n",
    "    forest[:,-1] = 0\n",
    "    return forest"
   ]
  },
  {
   "cell_type": "markdown",
   "metadata": {
    "slideshow": {
     "slide_type": "slide"
    }
   },
   "source": [
    "### Assignment #2\n",
    "\n",
    "Enter commands in the preceding cell to test out your <code>make_random_forest</code> function, for a small array (e.g., L=10 and p=0.2).  Print it out.  It should look something like this (with zeros around all 4 boundaries, and ones at random locations):\n",
    "\n",
    "<code>\n",
    "[[0 0 0 0 0 0 0 0 0 0]\n",
    " [0 0 0 1 0 0 0 0 0 0]\n",
    " [0 0 0 0 0 0 0 0 1 0]\n",
    " [0 0 0 0 0 1 0 0 0 0]\n",
    " [0 0 1 0 0 1 0 1 0 0]\n",
    " [0 0 0 0 0 0 0 0 0 0]\n",
    " [0 1 1 0 0 1 0 0 0 0]\n",
    " [0 0 0 0 0 0 0 0 0 0]\n",
    " [0 0 0 0 0 0 0 0 1 0]\n",
    " [0 0 0 0 0 0 0 0 0 0]]\n",
    "    </code>"
   ]
  },
  {
   "cell_type": "markdown",
   "metadata": {
    "slideshow": {
     "slide_type": "slide"
    }
   },
   "source": [
    "### Assignment #3\n",
    "\n",
    "Write a function named <code>plot_forest</code> that takes one input (a forest array), and makes a plot of the current state.  Test it out with a forest array that you've generated.\n",
    "\n",
    "Hint #1: Use the <code>plt.pcolor</code> to draw a heatmap of the array based on each site's values.  Set the vmin and vmax arguments to get consistent plotting for different arrays.\n",
    "\n",
    "Hint #2: If you want to get a square plot (since it's a square forest), you can preinitialize a figure with a square aspect ratio instead of the default rectangular one, e.g., <code>plt.figure(figsize=(6,6))</code>."
   ]
  },
  {
   "cell_type": "markdown",
   "metadata": {
    "slideshow": {
     "slide_type": "slide"
    }
   },
   "source": [
    "### Solution #3"
   ]
  },
  {
   "cell_type": "code",
   "execution_count": 4,
   "metadata": {
    "slideshow": {
     "slide_type": "-"
    }
   },
   "outputs": [
    {
     "data": {
      "image/png": "[encoded data removed]",
      "text/plain": [
       "<Figure size 600x600 with 1 Axes>"
      ]
     },
     "metadata": {},
     "output_type": "display_data"
    }
   ],
   "source": [
    "def plot_forest(forest):\n",
    "    plt.figure(figsize=(6,6))\n",
    "    plt.pcolor(forest, vmin=0, vmax=2)\n",
    "    \n",
    "forest = make_random_forest(10, 0.2)\n",
    "plot_forest(forest)"
   ]
  },
  {
   "cell_type": "markdown",
   "metadata": {
    "slideshow": {
     "slide_type": "slide"
    }
   },
   "source": [
    "### Identifying which sites have burning neighbors\n",
    "\n",
    "One step of the update algorithm involves identifying those sites in the lattice that (a) are occupied by a tree and (b) have any of their 4 nearest neighbors burning.\n",
    "\n",
    "A straightforward way to do this would be to loop over all sites in the forest, and at each site investigate whether it has a tree (=1) and has any of its 4 neighbors are burning.  That might look something like this:"
   ]
  },
  {
   "cell_type": "code",
   "execution_count": 5,
   "metadata": {},
   "outputs": [],
   "source": [
    "def to_burn_next_step_loop(forest):\n",
    "\n",
    "    burn_next_step = np.zeros_like(forest)   # initialize new array to all zeros\n",
    "\n",
    "    L = forest.shape[0]\n",
    "    for i in range(L):\n",
    "        for j in range(L):\n",
    "            if forest[i,j] != 1:\n",
    "                continue       # don't need to look further if there is no tree here\n",
    "                \n",
    "            if (forest[i+1,j] == 2) or (forest[i-1,j] == 2) or (forest[i,j+1] == 2) or (forest[i,j-1] == 2):\n",
    "                burn_next_step[i,j] = 1\n",
    "    \n",
    "    return burn_next_step"
   ]
  },
  {
   "cell_type": "code",
   "execution_count": 6,
   "metadata": {
    "slideshow": {
     "slide_type": "slide"
    }
   },
   "outputs": [],
   "source": [
    "def to_burn_next_step_loop(forest):\n",
    "\n",
    "    burn_next_step = np.zeros_like(forest)   # initialize new array to all zeros\n",
    "\n",
    "    L = forest.shape[0]\n",
    "    for i in range(L):\n",
    "        for j in range(L):\n",
    "            if forest[i,j] != 1:\n",
    "                continue       # don't need to look further if there is no tree here\n",
    "                \n",
    "            if (forest[i+1,j] == 2) or (forest[i-1,j] == 2) or (forest[i,j+1] == 2) or (forest[i,j-1] == 2):\n",
    "                burn_next_step[i,j] = 1\n",
    "    \n",
    "    return burn_next_step"
   ]
  },
  {
   "cell_type": "markdown",
   "metadata": {
    "slideshow": {
     "slide_type": "fragment"
    }
   },
   "source": [
    "<b>Question</b>:  In the code above, why don't we have to worry about indices like i+1 and i-1 spilling off the edge of the array?"
   ]
  },
  {
   "cell_type": "markdown",
   "metadata": {
    "slideshow": {
     "slide_type": "fragment"
    }
   },
   "source": [
    "<b>Answer</b>:  i-1 could spill off the array, but be interpreted as the last row (or last column, for j-1).  On the other hand, i+1 would spill off the end of the array, and would normally generate an indexing error.  <b>But</b>, because we are enforcing there to be no trees (=0) along the array boundaries, for those sites we will never reach line 11 where the neighbor tests are done."
   ]
  },
  {
   "cell_type": "markdown",
   "metadata": {
    "slideshow": {
     "slide_type": "slide"
    }
   },
   "source": [
    "### Investigating the forest using array operations\n",
    "\n",
    "The loop-over-all-sites approach like the one described above is relatively slow in an interpreted language like Python, since each time a query is done (e.g., forest[i,j]), the code must switch between the interpreted Python layer and the compiled C layer that is used to store NumPy arrays.\n",
    "\n",
    "Fortunately, NumPy provides fast array-level operations that bundle lots of queries into one call.  (Other languages, such as MATLAB, also provide support for these types of operations.)  We can use some fancy array operations to ask about the status of neighboring sites -- for every site in the lattice -- all at once.  That code looks like this:\n",
    "\n"
   ]
  },
  {
   "cell_type": "code",
   "execution_count": 7,
   "metadata": {},
   "outputs": [],
   "source": [
    "def to_burn_next_step_array(forest):\n",
    "\n",
    "    # identify everywhere the forest is burning\n",
    "    b = np.where(forest == 2, 1, 0)\n",
    "    # count the number of burning neighbors at each site\n",
    "    nb = np.roll(b, 1, axis=0) + np.roll(b, -1, axis=0) + np.roll(b, 1, axis=1) + np.roll(b, -1, axis=1)\n",
    "    # return an array with 1 everywhere the forest has a tree and at least 1 neighbor is burning\n",
    "    return np.where( (forest == 1) * (nb > 0) , 1, 0)"
   ]
  },
  {
   "cell_type": "markdown",
   "metadata": {},
   "source": [
    "Let's look in more detail at what each of these 3 steps is doing."
   ]
  },
  {
   "cell_type": "markdown",
   "metadata": {
    "slideshow": {
     "slide_type": "slide"
    }
   },
   "source": [
    "![](arrayroll.jpg)"
   ]
  },
  {
   "cell_type": "markdown",
   "metadata": {
    "slideshow": {
     "slide_type": "slide"
    }
   },
   "source": [
    "### Timing information\n",
    "\n",
    "Let's compare how long it takes to compute each of these functions.  The array-based function runs approximately 50-70x faster than the loop-based function."
   ]
  },
  {
   "cell_type": "code",
   "execution_count": 8,
   "metadata": {
    "slideshow": {
     "slide_type": "-"
    }
   },
   "outputs": [
    {
     "data": {
      "text/plain": [
       "array([[0, 0, 0, ..., 0, 0, 0],\n",
       "       [0, 0, 0, ..., 0, 0, 0],\n",
       "       [0, 0, 0, ..., 0, 0, 0],\n",
       "       ...,\n",
       "       [0, 0, 0, ..., 0, 0, 0],\n",
       "       [0, 0, 0, ..., 0, 0, 0],\n",
       "       [0, 0, 0, ..., 0, 0, 0]])"
      ]
     },
     "execution_count": 8,
     "metadata": {},
     "output_type": "execute_result"
    }
   ],
   "source": [
    "forest = make_random_forest(200, 0.2)\n",
    "to_burn_next_step_loop(forest)\n",
    "to_burn_next_step_array(forest)"
   ]
  },
  {
   "cell_type": "code",
   "execution_count": 9,
   "metadata": {},
   "outputs": [
    {
     "data": {
      "text/plain": [
       "61.69590643274854"
      ]
     },
     "execution_count": 9,
     "metadata": {},
     "output_type": "execute_result"
    }
   ],
   "source": [
    "# Ratio of times\n",
    "21.1e-3 / 342e-6"
   ]
  },
  {
   "cell_type": "markdown",
   "metadata": {
    "slideshow": {
     "slide_type": "slide"
    }
   },
   "source": [
    "## Update rules\n",
    "\n",
    "* An empty site will fill with a new tree with probability g.\n",
    "* A tree will become a burning tree if any of its 4 neighbors are burning.\n",
    "* A burning tree will burn to the ground and the site will become empty.\n",
    "\n",
    "We can implement this by creating a new array (call it <code>updated</code>) that will represent the forest configuration at the next time step.  We want to set the elements of <code>updated</code> based on various criteria:\n",
    "\n",
    "* If a site is empty AND a random number at that site < g, set the site to 1 (else leave it empty as is).\n",
    "* If a site has a tree AND has one or more burning neighbors, set the site to 2 (else leave the tree as is).\n",
    "* If a site is burning, set the site to 0 (empty)."
   ]
  },
  {
   "cell_type": "markdown",
   "metadata": {
    "slideshow": {
     "slide_type": "slide"
    }
   },
   "source": [
    "### Assignment #4\n",
    "\n",
    "1. Assume we are going to create a copy of the forest array named updated: <code>updated = forest.copy()</code>.  This will allow us to reset some of the elements of the <code>updated</code> for the next time step without disturbing the forest array at the current step.\n",
    "\n",
    "2. Write a function <code>update_empty(forest, updated)</code> that sets the elements of <code>updated</code> to 1 if the site is empty AND a random number < g, otherwise leave it as is.\n",
    "\n",
    "Hint #1:  The following code will convert all empty sites (<code>forest==0</code>) to tree sites (=1).  \n",
    "\n",
    "<code>updated = np.where( (forest==0), 1, updated)</code>\n",
    "\n",
    "Hint #2: You want to modify the above code to convert only <i>some</i> empty sites to trees, with probability g.  You can implement an AND on two conditions by multiplying those condition arrays together, as we did previously in the function <code>to_burn_next_step_array</code>."
   ]
  },
  {
   "cell_type": "markdown",
   "metadata": {
    "slideshow": {
     "slide_type": "slide"
    }
   },
   "source": [
    "### Solution #4"
   ]
  },
  {
   "cell_type": "code",
   "execution_count": 10,
   "metadata": {
    "slideshow": {
     "slide_type": "-"
    }
   },
   "outputs": [
    {
     "data": {
      "text/plain": [
       "\u001b[0;31mDocstring:\u001b[0m\n",
       "where(condition, [x, y], /)\n",
       "\n",
       "Return elements chosen from `x` or `y` depending on `condition`.\n",
       "\n",
       ".. note::\n",
       "    When only `condition` is provided, this function is a shorthand for\n",
       "    ``np.asarray(condition).nonzero()``. Using `nonzero` directly should be\n",
       "    preferred, as it behaves correctly for subclasses. The rest of this\n",
       "    documentation covers only the case where all three arguments are\n",
       "    provided.\n",
       "\n",
       "Parameters\n",
       "----------\n",
       "condition : array_like, bool\n",
       "    Where True, yield `x`, otherwise yield `y`.\n",
       "x, y : array_like\n",
       "    Values from which to choose. `x`, `y` and `condition` need to be\n",
       "    broadcastable to some shape.\n",
       "\n",
       "Returns\n",
       "-------\n",
       "out : ndarray\n",
       "    An array with elements from `x` where `condition` is True, and elements\n",
       "    from `y` elsewhere.\n",
       "\n",
       "See Also\n",
       "--------\n",
       "choose\n",
       "nonzero : The function that is called when x and y are omitted\n",
       "\n",
       "Notes\n",
       "-----\n",
       "If all the arrays are 1-D, `where` is equivalent to::\n",
       "\n",
       "    [xv if c else yv\n",
       "     for c, xv, yv in zip(condition, x, y)]\n",
       "\n",
       "Examples\n",
       "--------\n",
       ">>> a = np.arange(10)\n",
       ">>> a\n",
       "array([0, 1, 2, 3, 4, 5, 6, 7, 8, 9])\n",
       ">>> np.where(a < 5, a, 10*a)\n",
       "array([ 0,  1,  2,  3,  4, 50, 60, 70, 80, 90])\n",
       "\n",
       "This can be used on multidimensional arrays too:\n",
       "\n",
       ">>> np.where([[True, False], [True, True]],\n",
       "...          [[1, 2], [3, 4]],\n",
       "...          [[9, 8], [7, 6]])\n",
       "array([[1, 8],\n",
       "       [3, 4]])\n",
       "\n",
       "The shapes of x, y, and the condition are broadcast together:\n",
       "\n",
       ">>> x, y = np.ogrid[:3, :4]\n",
       ">>> np.where(x < y, x, 10 + y)  # both x and 10+y are broadcast\n",
       "array([[10,  0,  0,  0],\n",
       "       [10, 11,  1,  1],\n",
       "       [10, 11, 12,  2]])\n",
       "\n",
       ">>> a = np.array([[0, 1, 2],\n",
       "...               [0, 2, 4],\n",
       "...               [0, 3, 6]])\n",
       ">>> np.where(a < 4, a, -1)  # -1 is broadcast\n",
       "array([[ 0,  1,  2],\n",
       "       [ 0,  2, -1],\n",
       "       [ 0,  3, -1]])\n",
       "\u001b[0;31mType:\u001b[0m      function\n"
      ]
     },
     "metadata": {},
     "output_type": "display_data"
    }
   ],
   "source": [
    "def update_empty(forest, updated):\n",
    "    updated = np.where( (forest==0) * (np.random.random(forest.shape) < g), 1, updated)\n",
    "    return updated"
   ]
  },
  {
   "cell_type": "markdown",
   "metadata": {
    "slideshow": {
     "slide_type": "slide"
    }
   },
   "source": [
    "### Assignment #5\n",
    "\n",
    "Now write a similar function for <code>update_trees(forest, updated)</code>.  We've already written the hard part, figuring out which trees will burn next in the function <code>to_burn_next_step_array(forest)</code>.  \n",
    "\n",
    "Write the function <code>update_trees(forest, updated)</code> to update the tree sites by calling <code>to_burn_next_step_array(forest)</code>."
   ]
  },
  {
   "cell_type": "markdown",
   "metadata": {
    "slideshow": {
     "slide_type": "slide"
    }
   },
   "source": [
    "### Solution #5"
   ]
  },
  {
   "cell_type": "code",
   "execution_count": 11,
   "metadata": {
    "slideshow": {
     "slide_type": "-"
    }
   },
   "outputs": [],
   "source": [
    "def update_trees(forest, updated):\n",
    "    to_burn = to_burn_next_step_array(forest)\n",
    "    updated = np.where( to_burn, 2, updated)\n",
    "    return updated"
   ]
  },
  {
   "cell_type": "markdown",
   "metadata": {
    "slideshow": {
     "slide_type": "slide"
    }
   },
   "source": [
    "### Assignment #6\n",
    "\n",
    "Now finally write a similar function for <code>update_burning(forest, updated)</code>.  This should be pretty straightforward, since the update rule for burning trees is simple.  "
   ]
  },
  {
   "cell_type": "markdown",
   "metadata": {
    "slideshow": {
     "slide_type": "slide"
    }
   },
   "source": [
    "### Solution #6"
   ]
  },
  {
   "cell_type": "code",
   "execution_count": 12,
   "metadata": {
    "slideshow": {
     "slide_type": "-"
    }
   },
   "outputs": [],
   "source": [
    "def update_burning(forest, updated):\n",
    "    updated = np.where( (forest == 2), 0, updated)\n",
    "    return updated"
   ]
  },
  {
   "cell_type": "markdown",
   "metadata": {
    "slideshow": {
     "slide_type": "slide"
    }
   },
   "source": [
    "### Assignment #7\n",
    "\n",
    "### Enforcing boundary conditions\n",
    "\n",
    "We need to make sure that we enforce the no-trees boundary conditions at the 4 external boundaries, since our model states that the forest is enclosed by freeways where trees can't grow.  In our initialization routine, we already set the boundaries to empty, so let's just write a function that does the same thing at every time step.\n",
    "\n",
    "Write a function <code>enforce_boundary_conditions(updated)</code> that zeros out the 4 boundaries, and returns the newly updated array."
   ]
  },
  {
   "cell_type": "markdown",
   "metadata": {
    "slideshow": {
     "slide_type": "slide"
    }
   },
   "source": [
    "### Solution #7"
   ]
  },
  {
   "cell_type": "code",
   "execution_count": 13,
   "metadata": {
    "slideshow": {
     "slide_type": "-"
    }
   },
   "outputs": [],
   "source": [
    "def enforce_boundary_conditions(updated):\n",
    "    updated[0,:] = 0\n",
    "    updated[:,0] = 0\n",
    "    updated[-1,:] = 0\n",
    "    updated[:,-1] = 0\n",
    "    return updated"
   ]
  },
  {
   "cell_type": "markdown",
   "metadata": {
    "slideshow": {
     "slide_type": "slide"
    }
   },
   "source": [
    "### Assignment #8\n",
    "\n",
    "Now we can start putting the pieces together.  Let's write a function named <code>step(forest)</code> that takes the current forest array and returns the updated array at the next time step. The first few parts are already written; you should complete the rest:"
   ]
  },
  {
   "cell_type": "code",
   "execution_count": 14,
   "metadata": {
    "slideshow": {
     "slide_type": "-"
    }
   },
   "outputs": [],
   "source": [
    "def step(forest):\n",
    "    # make a copy of the forest for the next time step\n",
    "    updated = forest.copy()\n",
    "\n",
    "    # insert code to do empty (0) -> tree (1)\n",
    "    updated = update_empty(forest, updated)\n",
    "\n",
    "    # insert code to do tree (1) -> burning (2)\n",
    "\n",
    "    # insert code to do tree (2) -> empty (0)\n",
    "\n",
    "    # insert code to enforce boundary conditions\n",
    "\n",
    "    return updated"
   ]
  },
  {
   "cell_type": "markdown",
   "metadata": {
    "slideshow": {
     "slide_type": "slide"
    }
   },
   "source": [
    "### Solution #8"
   ]
  },
  {
   "cell_type": "code",
   "execution_count": 15,
   "metadata": {
    "slideshow": {
     "slide_type": "-"
    }
   },
   "outputs": [],
   "source": [
    "def step(forest):\n",
    "    # make a copy of the forest for the next time step\n",
    "    updated = forest.copy()\n",
    "    \n",
    "    # empty (0) -> tree (1)\n",
    "    updated = update_empty(forest, updated)\n",
    "    \n",
    "    # tree (1) -> burning (2)\n",
    "    updated = update_trees(forest, updated)\n",
    "    \n",
    "    # tree (2) -> empty (0)\n",
    "    updated = update_burning(forest, updated)\n",
    "    \n",
    "    # boundary conditions: 0 along boundary\n",
    "    updated = enforce_boundary_conditions(updated)\n",
    "    \n",
    "\n",
    "    return updated"
   ]
  },
  {
   "cell_type": "markdown",
   "metadata": {
    "slideshow": {
     "slide_type": "slide"
    }
   },
   "source": [
    "### Assignment #9\n",
    "\n",
    "Test out your <code>step(forest)</code> function.  First, let's test the burning behavior.\n",
    "\n",
    "Make a small forest that's mostly empty except for a little fire:\n",
    "<code>\n",
    "f = np.zeros((10,10), int)\n",
    "f[5,5] = 1; f[5,6] = 1; f[6,6] = 2; \n",
    "</code>\n",
    "\n",
    "Now:\n",
    "* plot the initial forest\n",
    "* update the forest by one time step, and plot it\n",
    "* update the forest again by one time step, and plot it\n",
    "\n",
    "Does the burning behavior look reasonable?"
   ]
  },
  {
   "cell_type": "markdown",
   "metadata": {
    "slideshow": {
     "slide_type": "slide"
    }
   },
   "source": [
    "### Solution #9a"
   ]
  },
  {
   "cell_type": "code",
   "execution_count": 16,
   "metadata": {},
   "outputs": [
    {
     "data": {
      "image/png": "[encoded data removed]",
      "text/plain": [
       "<Figure size 600x600 with 1 Axes>"
      ]
     },
     "metadata": {},
     "output_type": "display_data"
    },
    {
     "data": {
      "image/png": "[encoded data removed]",
      "text/plain": [
       "<Figure size 600x600 with 1 Axes>"
      ]
     },
     "metadata": {},
     "output_type": "display_data"
    },
    {
     "data": {
      "image/png": "[encoded data removed]",
      "text/plain": [
       "<Figure size 600x600 with 1 Axes>"
      ]
     },
     "metadata": {},
     "output_type": "display_data"
    }
   ],
   "source": [
    "f = np.zeros((10,10), int)\n",
    "f[5,5] = 1; f[5,6] = 1; f[6,6] = 2; \n",
    "plot_forest(f)\n",
    "f2 = step(f)\n",
    "plot_forest(f2)\n",
    "f3 = step(f2)\n",
    "plot_forest(f3)"
   ]
  },
  {
   "cell_type": "markdown",
   "metadata": {
    "slideshow": {
     "slide_type": "slide"
    }
   },
   "source": [
    "### Assignment #9 (continued)\n",
    "\n",
    "Now, let's test the tree-growing behavior.\n",
    "\n",
    "Make a bigger forest (200x200) that's completely empty and let it run for 100 time steps:\n",
    "\n",
    "<code>\n",
    "f = np.zeros((200,200), int)\n",
    "for n in range(100):\n",
    "    f = step(f)\n",
    "</code>\n",
    "\n",
    "Some trees should have grown (randomly) during those 100 steps.  How many would you expect should have grown? (Remember: the tree growth rate is g=0.0001)"
   ]
  },
  {
   "cell_type": "markdown",
   "metadata": {
    "slideshow": {
     "slide_type": "slide"
    }
   },
   "source": [
    "### Assignment #9 (continued)\n",
    "\n",
    "There are 200 * 200 sites, 100 time steps for trees to grow, and a growth probability g=0.0001 per site per time step.  Since the growth events are mostly independent (unless a new tree tries to grow where a tree already is), we would expect <code>200 * 200 * 100 * 0.0001 = 400</code> trees to have grown.\n",
    "\n",
    "How many have actually grown?  How can we compute that?  (Hint: we want to know how many non-zero entries there are in the forest array.)  We wouldn't expect <i>exactly</i> 400 trees to have grown since it's a random process, but it should be close.  How much variance about 400 would we expect?"
   ]
  },
  {
   "cell_type": "markdown",
   "metadata": {
    "slideshow": {
     "slide_type": "slide"
    }
   },
   "source": [
    "### Solution #9b"
   ]
  },
  {
   "cell_type": "code",
   "execution_count": 17,
   "metadata": {},
   "outputs": [
    {
     "name": "stdout",
     "output_type": "stream",
     "text": [
      "377\n"
     ]
    }
   ],
   "source": [
    "f = np.zeros((200,200), int)\n",
    "for n in range(100):\n",
    "    f = step(f)\n",
    "\n",
    "print(np.count_nonzero(f))"
   ]
  },
  {
   "cell_type": "markdown",
   "metadata": {
    "slideshow": {
     "slide_type": "slide"
    }
   },
   "source": [
    "### Simulating fire spread\n",
    "\n",
    "Now that we can implement the update rules, we can simulate fires burning.  This will be done in two parts:\n",
    "\n",
    "1. We'll write a function named <code>lightning_strike(forest)</code> that randomly selects one site with a tree, and sets in on fire.\n",
    "\n",
    "2. Then we'll write a function named <code>simulate_one_fire(forest)</code> that takes a forest array, starts a fire with a lightning strike, and updates the dynamics until there are no more trees burning.  \n",
    "\n",
    "These functions are both a little complicated, so we'll provide them for you given the limitations on time.  But it's good to study them a bit to understand what's going on."
   ]
  },
  {
   "cell_type": "markdown",
   "metadata": {
    "slideshow": {
     "slide_type": "slide"
    }
   },
   "source": [
    "### First: a function to generate a random lightning strike"
   ]
  },
  {
   "cell_type": "code",
   "execution_count": 18,
   "metadata": {
    "slideshow": {
     "slide_type": "-"
    }
   },
   "outputs": [],
   "source": [
    "def lightning_strike(forest):\n",
    "    \"\"\"randomly strike sites with lightning until a tree is hit\"\"\"\n",
    "    hits_a_tree = False\n",
    "    L = forest.shape[0]\n",
    "    while not hits_a_tree:\n",
    "        random_site_i = np.random.randint(0,L)\n",
    "        random_site_j = np.random.randint(0,L)\n",
    "        if forest[random_site_i, random_site_j] == 1:\n",
    "            hits_a_tree = True\n",
    "    forest[random_site_i, random_site_j] = 2\n",
    "    return forest\n",
    "\n",
    "# This is not the most efficient way to start a fire\n",
    "# Here is some code that will select a random site only among those that have trees\n",
    "# random_tree_site = tuple([np.random.choice(idx) for idx in np.where(forest==1)])"
   ]
  },
  {
   "cell_type": "markdown",
   "metadata": {
    "slideshow": {
     "slide_type": "slide"
    }
   },
   "source": [
    "### Next: a function to step through until all the burning stops"
   ]
  },
  {
   "cell_type": "code",
   "execution_count": 19,
   "metadata": {
    "slideshow": {
     "slide_type": "-"
    }
   },
   "outputs": [],
   "source": [
    "def simulate_one_fire(forest):\n",
    "    num_trees = np.count_nonzero(forest==1)\n",
    "    if num_trees == 0:\n",
    "        print(\"No trees left to burn\")\n",
    "        return forest, 0, 0\n",
    "    \n",
    "    forest = lightning_strike(forest)\n",
    "    num_burning = np.count_nonzero(forest==2)\n",
    "    total_burned = num_burning\n",
    "    duration = 0\n",
    "    while (num_burning > 0):\n",
    "        forest = step(forest)\n",
    "        num_burning = np.count_nonzero(forest==2)\n",
    "        total_burned += num_burning\n",
    "        duration += 1\n",
    "    return forest, total_burned, duration"
   ]
  },
  {
   "cell_type": "markdown",
   "metadata": {
    "slideshow": {
     "slide_type": "slide"
    }
   },
   "source": [
    "### Assignment #10\n",
    "\n",
    "Write a function named <code>simulate_many_fires(forest, Nfires)</code> that:\n",
    "* starts with the forest, and simulates Nfires fires\n",
    "* calls the <code>simulate_one_fire</code> function written previously\n",
    "* initializes two empty lists (<code>sizes</code> and <code>durations</code>)\n",
    "* append the size and duration for each fire to the corresponding list\n",
    "* on completion, return the forest array in its current state, and the lists of sizes and durations"
   ]
  },
  {
   "cell_type": "markdown",
   "metadata": {
    "slideshow": {
     "slide_type": "slide"
    }
   },
   "source": [
    "The initial code looks something like this:"
   ]
  },
  {
   "cell_type": "code",
   "execution_count": 20,
   "metadata": {},
   "outputs": [],
   "source": [
    "def simulate_many_fires(forest, Nfires):\n",
    "    # initialize empty sizes and durations lists\n",
    "    for n in range(Nfires):\n",
    "        # burn one fire in the forest\n",
    "        # append size and duration to the running list\n",
    "        pass  # call pass just to have some valid code in this loop -- remove once completed\n",
    "    return forest, sizes, durations"
   ]
  },
  {
   "cell_type": "markdown",
   "metadata": {
    "slideshow": {
     "slide_type": "slide"
    }
   },
   "source": [
    "### Solution #10"
   ]
  },
  {
   "cell_type": "code",
   "execution_count": 21,
   "metadata": {
    "slideshow": {
     "slide_type": "-"
    }
   },
   "outputs": [],
   "source": [
    "def simulate_many_fires(forest, Nfires):\n",
    "    sizes = []\n",
    "    durations = []\n",
    "    for n in range(Nfires):\n",
    "        forest, total_burned, duration = simulate_one_fire(forest)\n",
    "        sizes.append(total_burned)\n",
    "        durations.append(duration)\n",
    "    return forest, sizes, durations"
   ]
  },
  {
   "cell_type": "markdown",
   "metadata": {
    "slideshow": {
     "slide_type": "slide"
    }
   },
   "source": [
    "### Investigating the dynamics and statistics of many fires\n",
    "\n",
    "Let's start with a randomly planted forest, and see how the structure of the forest changes as a result of repeated wildires.  Notice that the trees are pretty much uniformly spread throughout the forest, which makes sense given how we planted them."
   ]
  },
  {
   "cell_type": "code",
   "execution_count": 22,
   "metadata": {},
   "outputs": [
    {
     "data": {
      "image/png": "[encoded data removed]",
      "text/plain": [
       "<Figure size 600x600 with 1 Axes>"
      ]
     },
     "metadata": {},
     "output_type": "display_data"
    }
   ],
   "source": [
    "f = make_random_forest(200, 0.4)  # 200 x 200 forest, with approximately 40% trees\n",
    "plot_forest(f)"
   ]
  },
  {
   "cell_type": "markdown",
   "metadata": {
    "slideshow": {
     "slide_type": "slide"
    }
   },
   "source": [
    "### Assignment #11\n",
    "\n",
    "Now let's simulate many fires.\n",
    "\n",
    "1. Run a simulation of 2000 fires in the forest, collecting statistics on sizes and durations.\n",
    "\n",
    "2. Plot the forest configuration."
   ]
  },
  {
   "cell_type": "markdown",
   "metadata": {
    "slideshow": {
     "slide_type": "slide"
    }
   },
   "source": [
    "### Solution #11\n",
    "\n",
    "Note that the forest is now more patchy. There are bigger gaps where there are no trees (presumably because a fire has recently burned there and left it empty), and clustered regions where there are lots of trees (presumably fuel for a future fire)."
   ]
  },
  {
   "cell_type": "code",
   "execution_count": 23,
   "metadata": {
    "scrolled": true,
    "slideshow": {
     "slide_type": "-"
    }
   },
   "outputs": [
    {
     "data": {
      "image/png": "[encoded data removed]",
      "text/plain": [
       "<Figure size 600x600 with 1 Axes>"
      ]
     },
     "metadata": {},
     "output_type": "display_data"
    }
   ],
   "source": [
    "f = make_random_forest(200, 0.4)\n",
    "f, sizes, durations = simulate_many_fires(f, 2000)\n",
    "plot_forest(f)"
   ]
  },
  {
   "cell_type": "markdown",
   "metadata": {
    "slideshow": {
     "slide_type": "slide"
    }
   },
   "source": [
    "### Plotting individual fires\n",
    "\n",
    "Before simulating lots of fires to generate statistics, it might be nice to see what the structure of fires looks like in the forest.  There are various ways of doing this.  One simple way is to start with a forest array, simulate several fires, and then to plot the site-by-site difference between the new forest array and the one we started with.  Here's some code that does this, and makes a plot of 200 fires.  The plot is on the following slide."
   ]
  },
  {
   "cell_type": "code",
   "execution_count": 24,
   "metadata": {
    "slideshow": {
     "slide_type": "-"
    }
   },
   "outputs": [],
   "source": [
    "def simulate_and_plot_many_fires(forest, Nfires):\n",
    "    plt.figure(figsize=(8,8))\n",
    "    forest_start = forest.copy()\n",
    "    for n in range(Nfires):\n",
    "        forest, total_burned, duration = simulate_one_fire(forest)\n",
    "        if total_burned == 0:\n",
    "            break\n",
    "    diff = forest - forest_start\n",
    "    plt.pcolor(diff)\n",
    "    return forest"
   ]
  },
  {
   "cell_type": "markdown",
   "metadata": {
    "slideshow": {
     "slide_type": "slide"
    }
   },
   "source": [
    "In this plot, the sites that are green haven't changed at all, the sites that are purple are those that have burned (forming spindly, but connected, clusters), and the sites that are yellow are new trees that have sprung up at random. You should see that the burned fires (purple clusters) are of a variety of sizes.  Consider how this process can lead to the patchy structure observed previously."
   ]
  },
  {
   "cell_type": "code",
   "execution_count": 25,
   "metadata": {
    "slideshow": {
     "slide_type": "-"
    }
   },
   "outputs": [
    {
     "data": {
      "image/png": "[encoded data removed]",
      "text/plain": [
       "<Figure size 800x800 with 1 Axes>"
      ]
     },
     "metadata": {},
     "output_type": "display_data"
    }
   ],
   "source": [
    "f = simulate_and_plot_many_fires(f, 200)"
   ]
  },
  {
   "cell_type": "markdown",
   "metadata": {
    "slideshow": {
     "slide_type": "slide"
    }
   },
   "source": [
    "### Assignment #12\n",
    "\n",
    "The statistics for the first few thousand fires might not be very reliable, since we were starting from an atypical state (uniform random) and needed to let the patchy pattern develop.  Now that it has developed, let's run for another 2000 fires to collect some new statistics.  After that completes, plot the histograms of the fire sizes and durations.  \n",
    "\n",
    "Do these distributions look at least qualitatively similar to the distributions we observed in the historical wildfire data?\n",
    "\n",
    "You might notice that, while there is a heavy tail in the distributions, they tend to fall off faster for large sizes and durations.  This might be due to <i>finite-size effects</i>: because our lattice is only 200x200 sites, there is a limit to how large the fires can be.  If we made a bigger lattice (which would take more time to simulate), we should see this finite-size cutoff move out to larger sizes."
   ]
  },
  {
   "cell_type": "markdown",
   "metadata": {
    "slideshow": {
     "slide_type": "slide"
    }
   },
   "source": [
    "### Solution #12"
   ]
  },
  {
   "cell_type": "code",
   "execution_count": 26,
   "metadata": {
    "slideshow": {
     "slide_type": "-"
    }
   },
   "outputs": [],
   "source": [
    "f, sizes, durations = simulate_many_fires(f, 2000)"
   ]
  },
  {
   "cell_type": "code",
   "execution_count": 27,
   "metadata": {
    "slideshow": {
     "slide_type": "-"
    }
   },
   "outputs": [
    {
     "data": {
      "text/plain": [
       "Text(0, 0.5, 'P(T)')"
      ]
     },
     "execution_count": 27,
     "metadata": {},
     "output_type": "execute_result"
    },
    {
     "data": {
      "image/png": "[encoded data removed]",
      "text/plain": [
       "<Figure size 1280x480 with 2 Axes>"
      ]
     },
     "metadata": {},
     "output_type": "display_data"
    }
   ],
   "source": [
    "plt.figure(figsize=[12.8,4.8])\n",
    "plt.subplot(1,2,1)\n",
    "plt.hist(sizes, bins=100)\n",
    "plt.loglog()\n",
    "plt.xlabel('size S'); plt.ylabel('P(S)')\n",
    "plt.subplot(1,2,2)\n",
    "plt.hist(durations, bins=100)\n",
    "plt.loglog()\n",
    "plt.xlabel('duration T'); plt.ylabel('P(T)')"
   ]
  },
  {
   "cell_type": "markdown",
   "metadata": {
    "slideshow": {
     "slide_type": "slide"
    }
   },
   "source": [
    "### Assignment #13\n",
    "\n",
    "Even though the actual historical wildfire data did not show strong correlations between fire sizes and durations, let's look at the simulation data.\n",
    "\n",
    "Make a scatterplot of the fire sizes and durations for the simulated fires."
   ]
  },
  {
   "cell_type": "markdown",
   "metadata": {
    "slideshow": {
     "slide_type": "slide"
    }
   },
   "source": [
    "### Solution #13"
   ]
  },
  {
   "cell_type": "code",
   "execution_count": 28,
   "metadata": {
    "slideshow": {
     "slide_type": "-"
    }
   },
   "outputs": [
    {
     "data": {
      "text/plain": [
       "Text(0, 0.5, 'duration T')"
      ]
     },
     "execution_count": 28,
     "metadata": {},
     "output_type": "execute_result"
    },
    {
     "data": {
      "image/png": "[encoded data removed]",
      "text/plain": [
       "<Figure size 640x480 with 1 Axes>"
      ]
     },
     "metadata": {},
     "output_type": "display_data"
    }
   ],
   "source": [
    "plt.scatter(sizes, durations)\n",
    "plt.loglog()\n",
    "plt.xlabel('size S'); plt.ylabel('duration T')"
   ]
  },
  {
   "cell_type": "markdown",
   "metadata": {},
   "source": [
    "We see in the simulation data that sizes and durations are more closely associated, although with a nonlinear (power-law) relationship.  They form roughly a straight line on a log-log plot: what is the slope of the relationship between T and S?"
   ]
  },
  {
   "cell_type": "markdown",
   "metadata": {
    "slideshow": {
     "slide_type": "slide"
    }
   },
   "source": [
    "## Revisiting the model\n",
    "\n",
    "What sorts of things are missing from the model? How might we incorporate them?\n",
    "\n",
    "* Wind\n",
    "    * a tree burns only if its upwind neighbor(s) are burning (not just any neighbor)\n",
    "* Topography\n",
    "    * growth, spread and lightning parameters that vary spatially over the forest\n",
    "* Drought\n",
    "    * increase rate of fire started by lightning strike\n",
    "    * maybe a burning neighbor doesn't always burn a tree, but does so with probability depending on drought\n",
    "* Suppression strategies\n",
    "    * digging firebreaks and lighting controlled burns: what is the optimal placement?\n",
    "* Climate change\n",
    "    * parameters for model might change over longer times\n",
    " "
   ]
  },
  {
   "cell_type": "markdown",
   "metadata": {
    "slideshow": {
     "slide_type": "slide"
    }
   },
   "source": [
    "### Connections to other models\n",
    "\n",
    "* Infection disease spread: mathematically very similar\n",
    "    * Tree = Person susceptible to disease\n",
    "    * Burning Tree = Person infected with disease\n",
    "    * Tree burns down = Person recovers from disease (or worse)\n",
    "    * New trees grow = New people are born, susceptible to the infection\n",
    "    * Infection spreads from infectious to susceptible people through nearby contact or transport through air\n",
    "    * Control strategies: vaccination, quarantine, etc.\n",
    "    \n",
    "![](infection.jpg)"
   ]
  },
  {
   "cell_type": "markdown",
   "metadata": {
    "slideshow": {
     "slide_type": "slide"
    }
   },
   "source": [
    "### Multiprocessing"
   ]
  },
  {
   "cell_type": "markdown",
   "metadata": {},
   "source": [
    "The multiprocessing module is part of the Python Standard Library and provides capabilities for running multiple processes concurrently on a multicore machine (and, if desired, communicate among those processes).  This can be useful for generating lots of statistics for our forest fire model.  In its simplest form, the module provides support for starting up a Pool of worker processes, which can run concurrently.  In the code below, we use a multiprocessing Pool to generate independent runs of our fire simulation.\n",
    "\n",
    "The three following code cells are used to illustrate this basic operation, but they are configured by default not to actually run, e.g., if one were to try to do a \"Restart and Run All\" for this notebook.  The first code cell defines a new Jupyter cell magic called do_not_run_in_jupyter that runs no code if it is included in a cell, and the remaining two code cells have code which is protected by this cell magic.\n",
    "\n",
    "The reason for doing this is that is some problems can arise running multiprocessing code within a Jupyter notebook.  These problems are intermittent and not entirely reproducible, and probably depend to some extent on operating systems and package versions.  One could export the Python code from this notebook, organize it in a .py source file, and run the resulting code using the python interpreter without problems on a multicore machine."
   ]
  },
  {
   "cell_type": "code",
   "execution_count": 31,
   "metadata": {},
   "outputs": [],
   "source": [
    "def get_stats(L, p, Nfires, Ntrans):\n",
    "    f = make_random_forest(L,p)\n",
    "    f, sizes, durations = simulate_many_fires(f, Ntrans)\n",
    "    f, sizes, durations = simulate_many_fires(f, Nfires)\n",
    "    return f, sizes, durations\n",
    "\n",
    "def get_multi_stats(L, p, Nfires, Ntrans, Nmodels, filename=None):\n",
    "    res = []\n",
    "    n_fillup = [(L, p, Nfires, Ntrans)] * Nmodels\n",
    "    for item in n_fillup:\n",
    "        res.append(get_stats(*item))\n",
    "    \n",
    "    #\n",
    "    allsizes = []\n",
    "    alldurations = []\n",
    "    for elem in res:\n",
    "        allsizes.extend(elem[1])\n",
    "        alldurations.extend(elem[2])\n",
    "    ST = np.stack((allsizes, alldurations), axis=1)\n",
    "    if filename is not None:\n",
    "        np.savetxt(filename, ST)\n",
    "    return ST"
   ]
  },
  {
   "cell_type": "code",
   "execution_count": 32,
   "metadata": {
    "slideshow": {
     "slide_type": "slide"
    }
   },
   "outputs": [
    {
     "data": {
      "text/plain": [
       "Text(0, 0.5, 'P(T)')"
      ]
     },
     "execution_count": 32,
     "metadata": {},
     "output_type": "execute_result"
    },
    {
     "data": {
      "image/png": "[encoded data removed]",
      "text/plain": [
       "<Figure size 1280x480 with 2 Axes>"
      ]
     },
     "metadata": {},
     "output_type": "display_data"
    }
   ],
   "source": [
    "ST = get_multi_stats(200, 0.4, 2000, 1000, 4, '/data/elastic-notebook/tmp/multi_stats.txt')\n",
    "plt.figure(figsize=[12.8,4.8])\n",
    "plt.subplot(1,2,1)\n",
    "plt.hist(ST[:,0], bins=100)\n",
    "plt.loglog()\n",
    "plt.xlabel('size S'); plt.ylabel('P(S)')\n",
    "plt.subplot(1,2,2)\n",
    "plt.hist(ST[:,1], bins=100)\n",
    "plt.loglog()\n",
    "plt.xlabel('duration T'); plt.ylabel('P(T)')"
   ]
  }
 ],
 "metadata": {
  "celltoolbar": "Slideshow",
  "kernelspec": {
   "display_name": "Python 3 (ipykernel)",
   "language": "python",
   "name": "python3"
  },
  "language_info": {
   "codemirror_mode": {
    "name": "ipython",
    "version": 3
   },
   "file_extension": ".py",
   "mimetype": "text/x-python",
   "name": "python",
   "nbconvert_exporter": "python",
   "pygments_lexer": "ipython3",
   "version": "3.8.10"
  }
 },
 "nbformat": 4,
 "nbformat_minor": 4
}

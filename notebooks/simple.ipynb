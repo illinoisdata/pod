{
 "cells": [
  {
   "cell_type": "code",
   "execution_count": 67,
   "metadata": {
    "collapsed": false,
    "execution": {
     "iopub.execute_input": "2022-10-24T13:32:03.875549Z",
     "iopub.status.busy": "2022-10-24T13:32:03.875001Z",
     "iopub.status.idle": "2022-10-24T13:32:03.893254Z",
     "shell.execute_reply": "2022-10-24T13:32:03.892612Z",
     "shell.execute_reply.started": "2022-10-24T13:32:03.875523Z"
    },
    "jupyter": {
     "outputs_hidden": false
    },
    "pycharm": {
     "name": "#%%\n"
    },
    "tags": []
   },
   "outputs": [],
   "source": [
    "import sys"
   ]
  },
  {
   "cell_type": "code",
   "execution_count": 68,
   "metadata": {},
   "outputs": [],
   "source": [
    "x = 1"
   ]
  },
  {
   "cell_type": "code",
   "execution_count": 69,
   "metadata": {},
   "outputs": [],
   "source": [
    "y = x\n",
    "x = x + 1\n",
    "z = 1\n",
    "a = 1\n",
    "del a\n",
    "a = 2\n",
    "test1 = y*x\n",
    "test2 = y**2\n",
    "test3 = a+y\n",
    "b = a*y"
   ]
  },
  {
   "cell_type": "code",
   "execution_count": 70,
   "metadata": {
    "collapsed": false,
    "execution": {
     "iopub.execute_input": "2022-10-24T13:32:04.434785Z",
     "iopub.status.busy": "2022-10-24T13:32:04.433609Z",
     "iopub.status.idle": "2022-10-24T13:32:04.448579Z",
     "shell.execute_reply": "2022-10-24T13:32:04.447364Z",
     "shell.execute_reply.started": "2022-10-24T13:32:04.434749Z"
    },
    "jupyter": {
     "outputs_hidden": false
    },
    "pycharm": {
     "name": "#%%\n"
    },
    "tags": []
   },
   "outputs": [],
   "source": [
    "y = x\n",
    "x = x + 1\n",
    "z = 1\n",
    "a = 1\n",
    "del a\n",
    "a = 2"
   ]
  },
  {
   "cell_type": "code",
   "execution_count": 71,
   "metadata": {
    "collapsed": false,
    "execution": {
     "iopub.execute_input": "2022-10-24T13:32:04.777204Z",
     "iopub.status.busy": "2022-10-24T13:32:04.776389Z",
     "iopub.status.idle": "2022-10-24T13:32:04.789207Z",
     "shell.execute_reply": "2022-10-24T13:32:04.788173Z",
     "shell.execute_reply.started": "2022-10-24T13:32:04.777146Z"
    },
    "jupyter": {
     "outputs_hidden": false
    },
    "pycharm": {
     "name": "#%%\n"
    },
    "tags": []
   },
   "outputs": [],
   "source": [
    "import numpy as np\n",
    "from numpy import random"
   ]
  },
  {
   "cell_type": "code",
   "execution_count": 72,
   "metadata": {
    "collapsed": false,
    "pycharm": {
     "name": "#%%\n"
    }
   },
   "outputs": [],
   "source": [
    "b = 1"
   ]
  },
  {
   "cell_type": "code",
   "execution_count": 73,
   "metadata": {
    "collapsed": false,
    "pycharm": {
     "name": "#%%\n"
    }
   },
   "outputs": [],
   "source": [
    "def func(a):\n",
    "    b = 0\n",
    "    b += a**2\n",
    "    a = 100\n",
    "    n = a*b\n",
    "func(a)"
   ]
  },
  {
   "cell_type": "code",
   "execution_count": 74,
   "metadata": {},
   "outputs": [],
   "source": [
    "arr = np.zeros(10)\n",
    "copy = arr[:9]\n",
    "test4 = copy[0]+test1*test2"
   ]
  },
  {
   "cell_type": "code",
   "execution_count": 75,
   "metadata": {},
   "outputs": [],
   "source": [
    "test5 = a+b+test1+test2\n",
    "test6 = test1*test3\n",
    "test7 = test4*test5"
   ]
  },
  {
   "cell_type": "code",
   "execution_count": 76,
   "metadata": {},
   "outputs": [],
   "source": [
    "t1 = a**b\n",
    "t2 = test1**test2\n",
    "t3 = test5*test6\n",
    "t4 = [int(x)**2 for x in range(20)]"
   ]
  },
  {
   "cell_type": "code",
   "execution_count": 77,
   "metadata": {},
   "outputs": [],
   "source": [
    "arr1 = t4[:10]+[int(x) for x in range(10)]\n",
    "arr2 = t4[:10] + arr1[10:]\n",
    "arr3 = list(set(arr1)-(set(arr2)))"
   ]
  },
  {
   "cell_type": "code",
   "execution_count": 78,
   "metadata": {},
   "outputs": [],
   "source": [
    "arr5 = list(set(arr3)-(set(arr2)))\n",
    "t11 = t10**5\n",
    "t12 = sum(arr2)"
   ]
  }
 ],
 "metadata": {
  "kernelspec": {
   "display_name": "Python 3",
   "language": "python",
   "name": "python3"
  },
  "language_info": {
   "codemirror_mode": {
    "name": "ipython",
    "version": 3
   },
   "file_extension": ".py",
   "mimetype": "text/x-python",
   "name": "python",
   "nbconvert_exporter": "python",
   "pygments_lexer": "ipython3",
   "version": "3.10.7"
  },
  "vscode": {
   "interpreter": {
    "hash": "26de051ba29f2982a8de78e945f0abaf191376122a1563185a90213a26c5da77"
   }
  }
 },
 "nbformat": 4,
 "nbformat_minor": 4
}

{
 "cells": [
  {
   "cell_type": "markdown",
   "metadata": {},
   "source": [
    "## Combining of  SAKT with Riiid LGBM bagging2 then remove some features"
   ]
  },
  {
   "cell_type": "markdown",
   "metadata": {},
   "source": [
    "Source Kernels\n",
    "* SAKT + Riiid LGBM bagging2 LB 0.780 [https://www.kaggle.com/leadbest/sakt-riiid-lgbm-bagging2](http://)\n",
    "* SAKT with Randomization & State Updates LB0.771 https://www.kaggle.com/leadbest/sakt-with-randomization-state-updates\n",
    "* Riiid! LGBM bagging2 LB0.772 https://www.kaggle.com/zephyrwang666/riiid-lgbm-bagging2"
   ]
  },
  {
   "cell_type": "code",
   "execution_count": 1,
   "metadata": {
    "_cell_guid": "79c7e3d0-c299-4dcb-8224-4455121ee9b0",
    "_uuid": "d629ff2d2480ee46fbb7e2d37f6b5fab8052498a",
    "papermill": {
     "duration": 1.363915,
     "end_time": "2020-12-14T22:09:10.620601",
     "exception": false,
     "start_time": "2020-12-14T22:09:09.256686",
     "status": "completed"
    },
    "tags": []
   },
   "outputs": [],
   "source": [
    "import numpy as np\n",
    "import pandas as pd\n",
    "import psutil\n",
    "\n",
    "from collections import defaultdict\n",
    "import lightgbm as lgb\n",
    "from matplotlib import pyplot as plt\n",
    "import random\n",
    "from sklearn.metrics import roc_auc_score\n",
    "import gc \n",
    "\n",
    "_ = np.seterr(divide='ignore', invalid='ignore')"
   ]
  },
  {
   "cell_type": "markdown",
   "metadata": {
    "papermill": {
     "duration": 0.055281,
     "end_time": "2020-12-14T22:09:10.732909",
     "exception": false,
     "start_time": "2020-12-14T22:09:10.677628",
     "status": "completed"
    },
    "tags": []
   },
   "source": [
    "# Preprocess"
   ]
  },
  {
   "cell_type": "code",
   "execution_count": 2,
   "metadata": {
    "papermill": {
     "duration": 0.065985,
     "end_time": "2020-12-14T22:09:10.854782",
     "exception": false,
     "start_time": "2020-12-14T22:09:10.788797",
     "status": "completed"
    },
    "tags": []
   },
   "outputs": [],
   "source": [
    "data_types_dict = {\n",
    "    'timestamp': 'int64',\n",
    "    'user_id': 'int32', \n",
    "    'content_id': 'int16', \n",
    "    'content_type_id':'int8', \n",
    "    'task_container_id': 'int16',\n",
    "    #'user_answer': 'int8',\n",
    "    'answered_correctly': 'int8', \n",
    "    'prior_question_elapsed_time': 'float32', \n",
    "    'prior_question_had_explanation': 'bool'\n",
    "    }\n",
    "target = 'answered_correctly'"
   ]
  },
  {
   "cell_type": "code",
   "execution_count": 3,
   "metadata": {
    "papermill": {
     "duration": 115.682341,
     "end_time": "2020-12-14T22:11:06.593434",
     "exception": false,
     "start_time": "2020-12-14T22:09:10.911093",
     "status": "completed"
    },
    "tags": []
   },
   "outputs": [],
   "source": [
    "train_df = pd.read_csv('/data/elastic-notebook/data/riiid-test-answer-prediction/train.csv')"
   ]
  },
  {
   "cell_type": "code",
   "execution_count": 4,
   "metadata": {},
   "outputs": [
    {
     "name": "stdout",
     "output_type": "stream",
     "text": [
      "row_id                              int64\n",
      "timestamp                           int64\n",
      "user_id                             int64\n",
      "content_id                          int64\n",
      "content_type_id                     int64\n",
      "task_container_id                   int64\n",
      "user_answer                         int64\n",
      "answered_correctly                  int64\n",
      "prior_question_elapsed_time       float64\n",
      "prior_question_had_explanation     object\n",
      "dtype: object\n"
     ]
    }
   ],
   "source": [
    "print(train_df.dtypes)"
   ]
  },
  {
   "cell_type": "code",
   "execution_count": 5,
   "metadata": {
    "papermill": {
     "duration": 0.067953,
     "end_time": "2020-12-14T22:11:06.722134",
     "exception": false,
     "start_time": "2020-12-14T22:11:06.654181",
     "status": "completed"
    },
    "tags": []
   },
   "outputs": [
    {
     "name": "stdout",
     "output_type": "stream",
     "text": [
      "14.6\n"
     ]
    }
   ],
   "source": [
    "print(psutil.virtual_memory().percent)"
   ]
  },
  {
   "cell_type": "code",
   "execution_count": 6,
   "metadata": {
    "papermill": {
     "duration": 0.088265,
     "end_time": "2020-12-14T22:11:06.86783",
     "exception": false,
     "start_time": "2020-12-14T22:11:06.779565",
     "status": "completed"
    },
    "tags": []
   },
   "outputs": [],
   "source": [
    "#reading in lecture df\n",
    "lectures_df = pd.read_csv('/data/elastic-notebook/data/riiid-test-answer-prediction/lectures.csv')"
   ]
  },
  {
   "cell_type": "code",
   "execution_count": 7,
   "metadata": {
    "papermill": {
     "duration": 0.105008,
     "end_time": "2020-12-14T22:11:07.030257",
     "exception": false,
     "start_time": "2020-12-14T22:11:06.925249",
     "status": "completed"
    },
    "tags": []
   },
   "outputs": [],
   "source": [
    "lectures_df['type_of'] = lectures_df['type_of'].replace('solving question', 'solving_question')\n",
    "\n",
    "lectures_df = pd.get_dummies(lectures_df, columns=['part', 'type_of'])\n",
    "\n",
    "part_lectures_columns = [column for column in lectures_df.columns if column.startswith('part')]\n",
    "\n",
    "types_of_lectures_columns = [column for column in lectures_df.columns if column.startswith('type_of_')]"
   ]
  },
  {
   "cell_type": "code",
   "execution_count": 8,
   "metadata": {
    "papermill": {
     "duration": 1.402796,
     "end_time": "2020-12-14T22:11:08.491762",
     "exception": false,
     "start_time": "2020-12-14T22:11:07.088966",
     "status": "completed"
    },
    "tags": []
   },
   "outputs": [],
   "source": [
    "train_lectures = train_df[train_df.content_type_id == True].merge(lectures_df, left_on='content_id', right_on='lecture_id', how='left')"
   ]
  },
  {
   "cell_type": "code",
   "execution_count": 9,
   "metadata": {
    "papermill": {
     "duration": 0.786932,
     "end_time": "2020-12-14T22:11:09.335809",
     "exception": false,
     "start_time": "2020-12-14T22:11:08.548877",
     "status": "completed"
    },
    "tags": []
   },
   "outputs": [],
   "source": [
    "user_lecture_stats_part = train_lectures.groupby('user_id',as_index = False)[part_lectures_columns + types_of_lectures_columns].sum()"
   ]
  },
  {
   "cell_type": "code",
   "execution_count": 10,
   "metadata": {
    "papermill": {
     "duration": 0.076567,
     "end_time": "2020-12-14T22:11:09.47006",
     "exception": false,
     "start_time": "2020-12-14T22:11:09.393493",
     "status": "completed"
    },
    "tags": []
   },
   "outputs": [],
   "source": [
    "lecturedata_types_dict = {   \n",
    "    'user_id': 'int32', \n",
    "    'part_1': 'int8',\n",
    "    'part_2': 'int8',\n",
    "    'part_3': 'int8',\n",
    "    'part_4': 'int8',\n",
    "    'part_5': 'int8',\n",
    "    'part_6': 'int8',\n",
    "    'part_7': 'int8',\n",
    "    'type_of_concept': 'int8',\n",
    "    'type_of_intention': 'int8',\n",
    "    'type_of_solving_question': 'int8',\n",
    "    'type_of_starter': 'int8'\n",
    "    }\n",
    "user_lecture_stats_part = user_lecture_stats_part.astype(lecturedata_types_dict)"
   ]
  },
  {
   "cell_type": "code",
   "execution_count": 11,
   "metadata": {
    "papermill": {
     "duration": 0.077949,
     "end_time": "2020-12-14T22:11:09.606571",
     "exception": false,
     "start_time": "2020-12-14T22:11:09.528622",
     "status": "completed"
    },
    "tags": []
   },
   "outputs": [],
   "source": [
    "for column in user_lecture_stats_part.columns:\n",
    "    #bool_column = column + '_boolean'\n",
    "    if(column !='user_id'):\n",
    "        user_lecture_stats_part[column] = (user_lecture_stats_part[column] > 0).astype('int8')"
   ]
  },
  {
   "cell_type": "code",
   "execution_count": 12,
   "metadata": {
    "papermill": {
     "duration": 0.094854,
     "end_time": "2020-12-14T22:11:09.759798",
     "exception": false,
     "start_time": "2020-12-14T22:11:09.664944",
     "status": "completed"
    },
    "tags": []
   },
   "outputs": [
    {
     "data": {
      "text/html": [
       "<div>\n",
       "<style scoped>\n",
       "    .dataframe tbody tr th:only-of-type {\n",
       "        vertical-align: middle;\n",
       "    }\n",
       "\n",
       "    .dataframe tbody tr th {\n",
       "        vertical-align: top;\n",
       "    }\n",
       "\n",
       "    .dataframe thead th {\n",
       "        text-align: right;\n",
       "    }\n",
       "</style>\n",
       "<table border=\"1\" class=\"dataframe\">\n",
       "  <thead>\n",
       "    <tr style=\"text-align: right;\">\n",
       "      <th></th>\n",
       "      <th>row_id</th>\n",
       "      <th>timestamp</th>\n",
       "      <th>user_id</th>\n",
       "      <th>content_id</th>\n",
       "      <th>content_type_id</th>\n",
       "      <th>task_container_id</th>\n",
       "      <th>user_answer</th>\n",
       "      <th>answered_correctly</th>\n",
       "      <th>prior_question_elapsed_time</th>\n",
       "      <th>prior_question_had_explanation</th>\n",
       "      <th>...</th>\n",
       "      <th>part_2</th>\n",
       "      <th>part_3</th>\n",
       "      <th>part_4</th>\n",
       "      <th>part_5</th>\n",
       "      <th>part_6</th>\n",
       "      <th>part_7</th>\n",
       "      <th>type_of_concept</th>\n",
       "      <th>type_of_intention</th>\n",
       "      <th>type_of_solving_question</th>\n",
       "      <th>type_of_starter</th>\n",
       "    </tr>\n",
       "  </thead>\n",
       "  <tbody>\n",
       "    <tr>\n",
       "      <th>1</th>\n",
       "      <td>117</td>\n",
       "      <td>10183847</td>\n",
       "      <td>5382</td>\n",
       "      <td>16736</td>\n",
       "      <td>1</td>\n",
       "      <td>21</td>\n",
       "      <td>-1</td>\n",
       "      <td>-1</td>\n",
       "      <td>NaN</td>\n",
       "      <td>False</td>\n",
       "      <td>...</td>\n",
       "      <td>0</td>\n",
       "      <td>0</td>\n",
       "      <td>0</td>\n",
       "      <td>0</td>\n",
       "      <td>0</td>\n",
       "      <td>0</td>\n",
       "      <td>1</td>\n",
       "      <td>0</td>\n",
       "      <td>0</td>\n",
       "      <td>0</td>\n",
       "    </tr>\n",
       "    <tr>\n",
       "      <th>2</th>\n",
       "      <td>212</td>\n",
       "      <td>1424348597</td>\n",
       "      <td>5382</td>\n",
       "      <td>30207</td>\n",
       "      <td>1</td>\n",
       "      <td>104</td>\n",
       "      <td>-1</td>\n",
       "      <td>-1</td>\n",
       "      <td>NaN</td>\n",
       "      <td>False</td>\n",
       "      <td>...</td>\n",
       "      <td>0</td>\n",
       "      <td>0</td>\n",
       "      <td>0</td>\n",
       "      <td>1</td>\n",
       "      <td>0</td>\n",
       "      <td>0</td>\n",
       "      <td>1</td>\n",
       "      <td>0</td>\n",
       "      <td>0</td>\n",
       "      <td>0</td>\n",
       "    </tr>\n",
       "    <tr>\n",
       "      <th>3</th>\n",
       "      <td>216</td>\n",
       "      <td>1425557777</td>\n",
       "      <td>5382</td>\n",
       "      <td>18545</td>\n",
       "      <td>1</td>\n",
       "      <td>121</td>\n",
       "      <td>-1</td>\n",
       "      <td>-1</td>\n",
       "      <td>NaN</td>\n",
       "      <td>False</td>\n",
       "      <td>...</td>\n",
       "      <td>0</td>\n",
       "      <td>0</td>\n",
       "      <td>0</td>\n",
       "      <td>1</td>\n",
       "      <td>0</td>\n",
       "      <td>0</td>\n",
       "      <td>1</td>\n",
       "      <td>0</td>\n",
       "      <td>0</td>\n",
       "      <td>0</td>\n",
       "    </tr>\n",
       "  </tbody>\n",
       "</table>\n",
       "<p>3 rows × 23 columns</p>\n",
       "</div>"
      ],
      "text/plain": [
       "   row_id   timestamp  user_id  content_id  content_type_id  \\\n",
       "1     117    10183847     5382       16736                1   \n",
       "2     212  1424348597     5382       30207                1   \n",
       "3     216  1425557777     5382       18545                1   \n",
       "\n",
       "   task_container_id  user_answer  answered_correctly  \\\n",
       "1                 21           -1                  -1   \n",
       "2                104           -1                  -1   \n",
       "3                121           -1                  -1   \n",
       "\n",
       "   prior_question_elapsed_time prior_question_had_explanation  ...  part_2  \\\n",
       "1                          NaN                          False  ...       0   \n",
       "2                          NaN                          False  ...       0   \n",
       "3                          NaN                          False  ...       0   \n",
       "\n",
       "   part_3  part_4  part_5  part_6  part_7  type_of_concept  type_of_intention  \\\n",
       "1       0       0       0       0       0                1                  0   \n",
       "2       0       0       1       0       0                1                  0   \n",
       "3       0       0       1       0       0                1                  0   \n",
       "\n",
       "   type_of_solving_question  type_of_starter  \n",
       "1                         0                0  \n",
       "2                         0                0  \n",
       "3                         0                0  \n",
       "\n",
       "[3 rows x 23 columns]"
      ]
     },
     "execution_count": 12,
     "metadata": {},
     "output_type": "execute_result"
    }
   ],
   "source": [
    "train_lectures[train_lectures.user_id==5382]"
   ]
  },
  {
   "cell_type": "code",
   "execution_count": 13,
   "metadata": {
    "papermill": {
     "duration": 0.078545,
     "end_time": "2020-12-14T22:11:09.897063",
     "exception": false,
     "start_time": "2020-12-14T22:11:09.818518",
     "status": "completed"
    },
    "tags": []
   },
   "outputs": [
    {
     "data": {
      "text/html": [
       "<div>\n",
       "<style scoped>\n",
       "    .dataframe tbody tr th:only-of-type {\n",
       "        vertical-align: middle;\n",
       "    }\n",
       "\n",
       "    .dataframe tbody tr th {\n",
       "        vertical-align: top;\n",
       "    }\n",
       "\n",
       "    .dataframe thead th {\n",
       "        text-align: right;\n",
       "    }\n",
       "</style>\n",
       "<table border=\"1\" class=\"dataframe\">\n",
       "  <thead>\n",
       "    <tr style=\"text-align: right;\">\n",
       "      <th></th>\n",
       "      <th>user_id</th>\n",
       "      <th>part_1</th>\n",
       "      <th>part_2</th>\n",
       "      <th>part_3</th>\n",
       "      <th>part_4</th>\n",
       "      <th>part_5</th>\n",
       "      <th>part_6</th>\n",
       "      <th>part_7</th>\n",
       "      <th>type_of_concept</th>\n",
       "      <th>type_of_intention</th>\n",
       "      <th>type_of_solving_question</th>\n",
       "      <th>type_of_starter</th>\n",
       "    </tr>\n",
       "  </thead>\n",
       "  <tbody>\n",
       "    <tr>\n",
       "      <th>1</th>\n",
       "      <td>5382</td>\n",
       "      <td>1</td>\n",
       "      <td>0</td>\n",
       "      <td>0</td>\n",
       "      <td>0</td>\n",
       "      <td>1</td>\n",
       "      <td>0</td>\n",
       "      <td>0</td>\n",
       "      <td>1</td>\n",
       "      <td>0</td>\n",
       "      <td>0</td>\n",
       "      <td>0</td>\n",
       "    </tr>\n",
       "  </tbody>\n",
       "</table>\n",
       "</div>"
      ],
      "text/plain": [
       "   user_id  part_1  part_2  part_3  part_4  part_5  part_6  part_7  \\\n",
       "1     5382       1       0       0       0       1       0       0   \n",
       "\n",
       "   type_of_concept  type_of_intention  type_of_solving_question  \\\n",
       "1                1                  0                         0   \n",
       "\n",
       "   type_of_starter  \n",
       "1                0  "
      ]
     },
     "execution_count": 13,
     "metadata": {},
     "output_type": "execute_result"
    }
   ],
   "source": [
    "user_lecture_stats_part[user_lecture_stats_part.user_id==5382]"
   ]
  },
  {
   "cell_type": "code",
   "execution_count": 14,
   "metadata": {
    "papermill": {
     "duration": 0.080295,
     "end_time": "2020-12-14T22:11:10.036894",
     "exception": false,
     "start_time": "2020-12-14T22:11:09.956599",
     "status": "completed"
    },
    "tags": []
   },
   "outputs": [
    {
     "data": {
      "text/html": [
       "<div>\n",
       "<style scoped>\n",
       "    .dataframe tbody tr th:only-of-type {\n",
       "        vertical-align: middle;\n",
       "    }\n",
       "\n",
       "    .dataframe tbody tr th {\n",
       "        vertical-align: top;\n",
       "    }\n",
       "\n",
       "    .dataframe thead th {\n",
       "        text-align: right;\n",
       "    }\n",
       "</style>\n",
       "<table border=\"1\" class=\"dataframe\">\n",
       "  <thead>\n",
       "    <tr style=\"text-align: right;\">\n",
       "      <th></th>\n",
       "      <th>user_id</th>\n",
       "      <th>part_1</th>\n",
       "      <th>part_2</th>\n",
       "      <th>part_3</th>\n",
       "      <th>part_4</th>\n",
       "      <th>part_5</th>\n",
       "      <th>part_6</th>\n",
       "      <th>part_7</th>\n",
       "      <th>type_of_concept</th>\n",
       "      <th>type_of_intention</th>\n",
       "      <th>type_of_solving_question</th>\n",
       "      <th>type_of_starter</th>\n",
       "    </tr>\n",
       "  </thead>\n",
       "  <tbody>\n",
       "    <tr>\n",
       "      <th>149601</th>\n",
       "      <td>2147419988</td>\n",
       "      <td>1</td>\n",
       "      <td>0</td>\n",
       "      <td>1</td>\n",
       "      <td>0</td>\n",
       "      <td>1</td>\n",
       "      <td>1</td>\n",
       "      <td>0</td>\n",
       "      <td>1</td>\n",
       "      <td>0</td>\n",
       "      <td>1</td>\n",
       "      <td>0</td>\n",
       "    </tr>\n",
       "    <tr>\n",
       "      <th>149602</th>\n",
       "      <td>2147469944</td>\n",
       "      <td>1</td>\n",
       "      <td>0</td>\n",
       "      <td>0</td>\n",
       "      <td>1</td>\n",
       "      <td>1</td>\n",
       "      <td>0</td>\n",
       "      <td>0</td>\n",
       "      <td>1</td>\n",
       "      <td>0</td>\n",
       "      <td>0</td>\n",
       "      <td>0</td>\n",
       "    </tr>\n",
       "    <tr>\n",
       "      <th>149603</th>\n",
       "      <td>2147470770</td>\n",
       "      <td>0</td>\n",
       "      <td>0</td>\n",
       "      <td>0</td>\n",
       "      <td>0</td>\n",
       "      <td>1</td>\n",
       "      <td>0</td>\n",
       "      <td>0</td>\n",
       "      <td>1</td>\n",
       "      <td>0</td>\n",
       "      <td>0</td>\n",
       "      <td>0</td>\n",
       "    </tr>\n",
       "    <tr>\n",
       "      <th>149604</th>\n",
       "      <td>2147470777</td>\n",
       "      <td>0</td>\n",
       "      <td>0</td>\n",
       "      <td>0</td>\n",
       "      <td>1</td>\n",
       "      <td>1</td>\n",
       "      <td>0</td>\n",
       "      <td>0</td>\n",
       "      <td>1</td>\n",
       "      <td>0</td>\n",
       "      <td>0</td>\n",
       "      <td>0</td>\n",
       "    </tr>\n",
       "    <tr>\n",
       "      <th>149605</th>\n",
       "      <td>2147482216</td>\n",
       "      <td>0</td>\n",
       "      <td>1</td>\n",
       "      <td>0</td>\n",
       "      <td>0</td>\n",
       "      <td>0</td>\n",
       "      <td>0</td>\n",
       "      <td>0</td>\n",
       "      <td>1</td>\n",
       "      <td>1</td>\n",
       "      <td>0</td>\n",
       "      <td>0</td>\n",
       "    </tr>\n",
       "  </tbody>\n",
       "</table>\n",
       "</div>"
      ],
      "text/plain": [
       "           user_id  part_1  part_2  part_3  part_4  part_5  part_6  part_7  \\\n",
       "149601  2147419988       1       0       1       0       1       1       0   \n",
       "149602  2147469944       1       0       0       1       1       0       0   \n",
       "149603  2147470770       0       0       0       0       1       0       0   \n",
       "149604  2147470777       0       0       0       1       1       0       0   \n",
       "149605  2147482216       0       1       0       0       0       0       0   \n",
       "\n",
       "        type_of_concept  type_of_intention  type_of_solving_question  \\\n",
       "149601                1                  0                         1   \n",
       "149602                1                  0                         0   \n",
       "149603                1                  0                         0   \n",
       "149604                1                  0                         0   \n",
       "149605                1                  1                         0   \n",
       "\n",
       "        type_of_starter  \n",
       "149601                0  \n",
       "149602                0  \n",
       "149603                0  \n",
       "149604                0  \n",
       "149605                0  "
      ]
     },
     "execution_count": 14,
     "metadata": {},
     "output_type": "execute_result"
    }
   ],
   "source": [
    "user_lecture_stats_part.tail()"
   ]
  },
  {
   "cell_type": "code",
   "execution_count": 15,
   "metadata": {
    "papermill": {
     "duration": 0.073115,
     "end_time": "2020-12-14T22:11:10.171077",
     "exception": false,
     "start_time": "2020-12-14T22:11:10.097962",
     "status": "completed"
    },
    "tags": []
   },
   "outputs": [
    {
     "data": {
      "text/plain": [
       "user_id                     int32\n",
       "part_1                       int8\n",
       "part_2                       int8\n",
       "part_3                       int8\n",
       "part_4                       int8\n",
       "part_5                       int8\n",
       "part_6                       int8\n",
       "part_7                       int8\n",
       "type_of_concept              int8\n",
       "type_of_intention            int8\n",
       "type_of_solving_question     int8\n",
       "type_of_starter              int8\n",
       "dtype: object"
      ]
     },
     "execution_count": 15,
     "metadata": {},
     "output_type": "execute_result"
    }
   ],
   "source": [
    "user_lecture_stats_part.dtypes"
   ]
  },
  {
   "cell_type": "code",
   "execution_count": 16,
   "metadata": {
    "papermill": {
     "duration": 0.076116,
     "end_time": "2020-12-14T22:11:10.308804",
     "exception": false,
     "start_time": "2020-12-14T22:11:10.232688",
     "status": "completed"
    },
    "tags": []
   },
   "outputs": [],
   "source": [
    "#clearing memory\n",
    "del(train_lectures)"
   ]
  },
  {
   "cell_type": "code",
   "execution_count": 17,
   "metadata": {
    "papermill": {
     "duration": 0.072449,
     "end_time": "2020-12-14T22:11:10.442709",
     "exception": false,
     "start_time": "2020-12-14T22:11:10.37026",
     "status": "completed"
    },
    "tags": []
   },
   "outputs": [
    {
     "name": "stdout",
     "output_type": "stream",
     "text": [
      "14.7\n"
     ]
    }
   ],
   "source": [
    "print(psutil.virtual_memory().percent)"
   ]
  },
  {
   "cell_type": "code",
   "execution_count": 18,
   "metadata": {
    "papermill": {
     "duration": 21.271033,
     "end_time": "2020-12-14T22:11:31.776714",
     "exception": false,
     "start_time": "2020-12-14T22:11:10.505681",
     "status": "completed"
    },
    "tags": []
   },
   "outputs": [],
   "source": [
    "cum = train_df.groupby('user_id')['content_type_id'].agg(['cumsum', 'cumcount'])\n",
    "train_df['user_lecture_cumsum'] = cum['cumsum'] \n",
    "train_df['user_lecture_lv'] = cum['cumsum'] / cum['cumcount']\n",
    "\n",
    "\n",
    "train_df.user_lecture_lv=train_df.user_lecture_lv.astype('float16')\n",
    "train_df.user_lecture_cumsum=train_df.user_lecture_cumsum.astype('int8')\n",
    "user_lecture_agg = train_df.groupby('user_id')['content_type_id'].agg(['sum', 'count'])"
   ]
  },
  {
   "cell_type": "code",
   "execution_count": 19,
   "metadata": {
    "papermill": {
     "duration": 29.982909,
     "end_time": "2020-12-14T22:12:01.821971",
     "exception": false,
     "start_time": "2020-12-14T22:11:31.839062",
     "status": "completed"
    },
    "tags": []
   },
   "outputs": [],
   "source": [
    "train_df['prior_question_had_explanation'].fillna(False, inplace=True)\n",
    "train_df = train_df.astype(data_types_dict)\n",
    "train_df = train_df[train_df[target] != -1].reset_index(drop=True)\n",
    "prior_question_elapsed_time_mean=train_df['prior_question_elapsed_time'].mean()\n",
    "train_df['prior_question_elapsed_time'].fillna(prior_question_elapsed_time_mean, inplace=True)"
   ]
  },
  {
   "cell_type": "code",
   "execution_count": 20,
   "metadata": {
    "papermill": {
     "duration": 4.50086,
     "end_time": "2020-12-14T22:12:06.385033",
     "exception": false,
     "start_time": "2020-12-14T22:12:01.884173",
     "status": "completed"
    },
    "tags": []
   },
   "outputs": [],
   "source": [
    "max_timestamp_u = train_df[['user_id','timestamp']].groupby(['user_id']).agg(['max']).reset_index()\n",
    "#max_timestamp_u = train_df[['user_id','timestamp']].groupby(['user_id']).agg(['max'])\n",
    "max_timestamp_u.columns = ['user_id', 'max_time_stamp']"
   ]
  },
  {
   "cell_type": "code",
   "execution_count": 21,
   "metadata": {
    "papermill": {
     "duration": 7.071433,
     "end_time": "2020-12-14T22:12:13.518689",
     "exception": false,
     "start_time": "2020-12-14T22:12:06.447256",
     "status": "completed"
    },
    "tags": []
   },
   "outputs": [],
   "source": [
    "\n",
    "train_df['lagtime'] = train_df.groupby('user_id')['timestamp'].shift()\n",
    "train_df['lagtime']=train_df['timestamp']-train_df['lagtime']\n",
    "train_df['lagtime'].fillna(0, inplace=True)\n",
    "train_df.lagtime=train_df.lagtime.astype('int32')\n",
    "#train_df.drop(columns=['timestamp'], inplace=True)"
   ]
  },
  {
   "cell_type": "code",
   "execution_count": 22,
   "metadata": {
    "papermill": {
     "duration": 5.524562,
     "end_time": "2020-12-14T22:12:19.105531",
     "exception": false,
     "start_time": "2020-12-14T22:12:13.580969",
     "status": "completed"
    },
    "tags": []
   },
   "outputs": [],
   "source": [
    "lagtime_agg = train_df.groupby('user_id')['lagtime'].agg(['mean'])\n",
    "train_df['lagtime_mean'] = train_df['user_id'].map(lagtime_agg['mean'])\n",
    "train_df.lagtime_mean=train_df.lagtime_mean.astype('int32')"
   ]
  },
  {
   "cell_type": "code",
   "execution_count": 23,
   "metadata": {
    "papermill": {
     "duration": 8.788197,
     "end_time": "2020-12-14T22:12:27.958535",
     "exception": false,
     "start_time": "2020-12-14T22:12:19.170338",
     "status": "completed"
    },
    "tags": []
   },
   "outputs": [],
   "source": [
    "user_prior_question_elapsed_time = train_df[['user_id','prior_question_elapsed_time']].groupby(['user_id']).tail(1)\n",
    "#max_timestamp_u = train_df[['user_id','timestamp']].groupby(['user_id']).agg(['max'])\n",
    "user_prior_question_elapsed_time.columns = ['user_id', 'prior_question_elapsed_time']"
   ]
  },
  {
   "cell_type": "code",
   "execution_count": 24,
   "metadata": {
    "papermill": {
     "duration": 5.702995,
     "end_time": "2020-12-14T22:12:33.726163",
     "exception": false,
     "start_time": "2020-12-14T22:12:28.023168",
     "status": "completed"
    },
    "tags": []
   },
   "outputs": [],
   "source": [
    "\n",
    "train_df['delta_prior_question_elapsed_time'] = train_df.groupby('user_id')['prior_question_elapsed_time'].shift()\n",
    "train_df['delta_prior_question_elapsed_time']=train_df['prior_question_elapsed_time']-train_df['delta_prior_question_elapsed_time']\n",
    "train_df['delta_prior_question_elapsed_time'].fillna(0, inplace=True)\n"
   ]
  },
  {
   "cell_type": "code",
   "execution_count": 25,
   "metadata": {
    "papermill": {
     "duration": 0.458647,
     "end_time": "2020-12-14T22:12:34.249967",
     "exception": false,
     "start_time": "2020-12-14T22:12:33.79132",
     "status": "completed"
    },
    "tags": []
   },
   "outputs": [],
   "source": [
    "train_df.delta_prior_question_elapsed_time=train_df.delta_prior_question_elapsed_time.astype('int32')"
   ]
  },
  {
   "cell_type": "code",
   "execution_count": 26,
   "metadata": {
    "papermill": {
     "duration": 0.936785,
     "end_time": "2020-12-14T22:12:35.254101",
     "exception": false,
     "start_time": "2020-12-14T22:12:34.317316",
     "status": "completed"
    },
    "tags": []
   },
   "outputs": [],
   "source": [
    "train_df['timestamp']=train_df['timestamp']/(1000*3600)\n",
    "train_df.timestamp=train_df.timestamp.astype('int16')\n",
    "#"
   ]
  },
  {
   "cell_type": "code",
   "execution_count": 27,
   "metadata": {
    "papermill": {
     "duration": 28.371163,
     "end_time": "2020-12-14T22:13:03.690081",
     "exception": false,
     "start_time": "2020-12-14T22:12:35.318918",
     "status": "completed"
    },
    "tags": []
   },
   "outputs": [],
   "source": [
    "\n",
    "train_df['lag'] = train_df.groupby('user_id')[target].shift()\n",
    "\n",
    "cum = train_df.groupby('user_id')['lag'].agg(['cumsum', 'cumcount'])\n",
    "train_df['user_correctness'] = cum['cumsum'] / cum['cumcount']\n",
    "train_df['user_correct_cumsum'] = cum['cumsum']\n",
    "train_df['user_correct_cumcount'] = cum['cumcount']\n",
    "train_df.drop(columns=['lag'], inplace=True)\n",
    "\n",
    "# train_df['user_correctness'].fillna(1, inplace=True)\n",
    "train_df['user_correct_cumsum'].fillna(0, inplace=True)\n",
    "#train_df['user_correct_cumcount'].fillna(0, inplace=True)\n",
    "train_df.user_correctness=train_df.user_correctness.astype('float16')\n",
    "train_df.user_correct_cumcount=train_df.user_correct_cumcount.astype('int16')\n",
    "train_df.user_correct_cumsum=train_df.user_correct_cumsum.astype('int16')"
   ]
  },
  {
   "cell_type": "code",
   "execution_count": 28,
   "metadata": {
    "papermill": {
     "duration": 5.623095,
     "end_time": "2020-12-14T22:13:09.389113",
     "exception": false,
     "start_time": "2020-12-14T22:13:03.766018",
     "status": "completed"
    },
    "tags": []
   },
   "outputs": [],
   "source": [
    "train_df.prior_question_had_explanation=train_df.prior_question_had_explanation.astype('int8')\n",
    "\n",
    "train_df['lag'] = train_df.groupby('user_id')['prior_question_had_explanation'].shift()"
   ]
  },
  {
   "cell_type": "code",
   "execution_count": 29,
   "metadata": {
    "papermill": {
     "duration": 18.824904,
     "end_time": "2020-12-14T22:13:28.277723",
     "exception": false,
     "start_time": "2020-12-14T22:13:09.452819",
     "status": "completed"
    },
    "tags": []
   },
   "outputs": [],
   "source": [
    "\n",
    "cum = train_df.groupby('user_id')['lag'].agg(['cumsum', 'cumcount'])\n",
    "train_df['explanation_mean'] = cum['cumsum'] / cum['cumcount']\n",
    "train_df['explanation_cumsum'] = cum['cumsum'] \n",
    "train_df.drop(columns=['lag'], inplace=True)\n",
    "\n",
    "train_df['explanation_mean'].fillna(0, inplace=True)\n",
    "train_df['explanation_cumsum'].fillna(0, inplace=True)\n",
    "train_df.explanation_mean=train_df.explanation_mean.astype('float16')\n",
    "train_df.explanation_cumsum=train_df.explanation_cumsum.astype('int16')"
   ]
  },
  {
   "cell_type": "code",
   "execution_count": 30,
   "metadata": {
    "papermill": {
     "duration": 0.172289,
     "end_time": "2020-12-14T22:13:28.514524",
     "exception": false,
     "start_time": "2020-12-14T22:13:28.342235",
     "status": "completed"
    },
    "tags": []
   },
   "outputs": [
    {
     "data": {
      "text/plain": [
       "0"
      ]
     },
     "execution_count": 30,
     "metadata": {},
     "output_type": "execute_result"
    }
   ],
   "source": [
    "del cum\n",
    "gc.collect()"
   ]
  },
  {
   "cell_type": "code",
   "execution_count": 31,
   "metadata": {
    "papermill": {
     "duration": 56.097755,
     "end_time": "2020-12-14T22:14:24.677684",
     "exception": false,
     "start_time": "2020-12-14T22:13:28.579929",
     "status": "completed"
    },
    "tags": []
   },
   "outputs": [],
   "source": [
    "\n",
    "train_df[\"attempt_no\"] = 1\n",
    "train_df.attempt_no=train_df.attempt_no.astype('int8')\n",
    "train_df[\"attempt_no\"] = train_df[[\"user_id\",\"content_id\",'attempt_no']].groupby([\"user_id\",\"content_id\"])[\"attempt_no\"].cumsum()"
   ]
  },
  {
   "cell_type": "code",
   "execution_count": 32,
   "metadata": {
    "papermill": {
     "duration": 0.093719,
     "end_time": "2020-12-14T22:14:24.83777",
     "exception": false,
     "start_time": "2020-12-14T22:14:24.744051",
     "status": "completed"
    },
    "tags": []
   },
   "outputs": [
    {
     "data": {
      "text/html": [
       "<div>\n",
       "<style scoped>\n",
       "    .dataframe tbody tr th:only-of-type {\n",
       "        vertical-align: middle;\n",
       "    }\n",
       "\n",
       "    .dataframe tbody tr th {\n",
       "        vertical-align: top;\n",
       "    }\n",
       "\n",
       "    .dataframe thead th {\n",
       "        text-align: right;\n",
       "    }\n",
       "</style>\n",
       "<table border=\"1\" class=\"dataframe\">\n",
       "  <thead>\n",
       "    <tr style=\"text-align: right;\">\n",
       "      <th></th>\n",
       "      <th>row_id</th>\n",
       "      <th>timestamp</th>\n",
       "      <th>user_id</th>\n",
       "      <th>content_id</th>\n",
       "      <th>content_type_id</th>\n",
       "      <th>task_container_id</th>\n",
       "      <th>user_answer</th>\n",
       "      <th>answered_correctly</th>\n",
       "      <th>prior_question_elapsed_time</th>\n",
       "      <th>prior_question_had_explanation</th>\n",
       "      <th>...</th>\n",
       "      <th>user_lecture_lv</th>\n",
       "      <th>lagtime</th>\n",
       "      <th>lagtime_mean</th>\n",
       "      <th>delta_prior_question_elapsed_time</th>\n",
       "      <th>user_correctness</th>\n",
       "      <th>user_correct_cumsum</th>\n",
       "      <th>user_correct_cumcount</th>\n",
       "      <th>explanation_mean</th>\n",
       "      <th>explanation_cumsum</th>\n",
       "      <th>attempt_no</th>\n",
       "    </tr>\n",
       "  </thead>\n",
       "  <tbody>\n",
       "    <tr>\n",
       "      <th>0</th>\n",
       "      <td>0</td>\n",
       "      <td>0</td>\n",
       "      <td>115</td>\n",
       "      <td>5692</td>\n",
       "      <td>0</td>\n",
       "      <td>1</td>\n",
       "      <td>3</td>\n",
       "      <td>1</td>\n",
       "      <td>25423.853516</td>\n",
       "      <td>0</td>\n",
       "      <td>...</td>\n",
       "      <td>NaN</td>\n",
       "      <td>0</td>\n",
       "      <td>14523696</td>\n",
       "      <td>0</td>\n",
       "      <td>NaN</td>\n",
       "      <td>0</td>\n",
       "      <td>0</td>\n",
       "      <td>0.0</td>\n",
       "      <td>0</td>\n",
       "      <td>1</td>\n",
       "    </tr>\n",
       "    <tr>\n",
       "      <th>1</th>\n",
       "      <td>1</td>\n",
       "      <td>0</td>\n",
       "      <td>115</td>\n",
       "      <td>5716</td>\n",
       "      <td>0</td>\n",
       "      <td>2</td>\n",
       "      <td>2</td>\n",
       "      <td>1</td>\n",
       "      <td>37000.000000</td>\n",
       "      <td>0</td>\n",
       "      <td>...</td>\n",
       "      <td>0.0</td>\n",
       "      <td>56943</td>\n",
       "      <td>14523696</td>\n",
       "      <td>11576</td>\n",
       "      <td>1.0</td>\n",
       "      <td>1</td>\n",
       "      <td>1</td>\n",
       "      <td>0.0</td>\n",
       "      <td>0</td>\n",
       "      <td>1</td>\n",
       "    </tr>\n",
       "    <tr>\n",
       "      <th>2</th>\n",
       "      <td>2</td>\n",
       "      <td>0</td>\n",
       "      <td>115</td>\n",
       "      <td>128</td>\n",
       "      <td>0</td>\n",
       "      <td>0</td>\n",
       "      <td>0</td>\n",
       "      <td>1</td>\n",
       "      <td>55000.000000</td>\n",
       "      <td>0</td>\n",
       "      <td>...</td>\n",
       "      <td>0.0</td>\n",
       "      <td>61420</td>\n",
       "      <td>14523696</td>\n",
       "      <td>18000</td>\n",
       "      <td>1.0</td>\n",
       "      <td>2</td>\n",
       "      <td>2</td>\n",
       "      <td>0.0</td>\n",
       "      <td>0</td>\n",
       "      <td>1</td>\n",
       "    </tr>\n",
       "    <tr>\n",
       "      <th>3</th>\n",
       "      <td>3</td>\n",
       "      <td>0</td>\n",
       "      <td>115</td>\n",
       "      <td>7860</td>\n",
       "      <td>0</td>\n",
       "      <td>3</td>\n",
       "      <td>0</td>\n",
       "      <td>1</td>\n",
       "      <td>19000.000000</td>\n",
       "      <td>0</td>\n",
       "      <td>...</td>\n",
       "      <td>0.0</td>\n",
       "      <td>12804</td>\n",
       "      <td>14523696</td>\n",
       "      <td>-36000</td>\n",
       "      <td>1.0</td>\n",
       "      <td>3</td>\n",
       "      <td>3</td>\n",
       "      <td>0.0</td>\n",
       "      <td>0</td>\n",
       "      <td>1</td>\n",
       "    </tr>\n",
       "    <tr>\n",
       "      <th>4</th>\n",
       "      <td>4</td>\n",
       "      <td>0</td>\n",
       "      <td>115</td>\n",
       "      <td>7922</td>\n",
       "      <td>0</td>\n",
       "      <td>4</td>\n",
       "      <td>1</td>\n",
       "      <td>1</td>\n",
       "      <td>11000.000000</td>\n",
       "      <td>0</td>\n",
       "      <td>...</td>\n",
       "      <td>0.0</td>\n",
       "      <td>6798</td>\n",
       "      <td>14523696</td>\n",
       "      <td>-8000</td>\n",
       "      <td>1.0</td>\n",
       "      <td>4</td>\n",
       "      <td>4</td>\n",
       "      <td>0.0</td>\n",
       "      <td>0</td>\n",
       "      <td>1</td>\n",
       "    </tr>\n",
       "  </tbody>\n",
       "</table>\n",
       "<p>5 rows × 21 columns</p>\n",
       "</div>"
      ],
      "text/plain": [
       "   row_id  timestamp  user_id  content_id  content_type_id  task_container_id  \\\n",
       "0       0          0      115        5692                0                  1   \n",
       "1       1          0      115        5716                0                  2   \n",
       "2       2          0      115         128                0                  0   \n",
       "3       3          0      115        7860                0                  3   \n",
       "4       4          0      115        7922                0                  4   \n",
       "\n",
       "   user_answer  answered_correctly  prior_question_elapsed_time  \\\n",
       "0            3                   1                 25423.853516   \n",
       "1            2                   1                 37000.000000   \n",
       "2            0                   1                 55000.000000   \n",
       "3            0                   1                 19000.000000   \n",
       "4            1                   1                 11000.000000   \n",
       "\n",
       "   prior_question_had_explanation  ...  user_lecture_lv  lagtime  \\\n",
       "0                               0  ...              NaN        0   \n",
       "1                               0  ...              0.0    56943   \n",
       "2                               0  ...              0.0    61420   \n",
       "3                               0  ...              0.0    12804   \n",
       "4                               0  ...              0.0     6798   \n",
       "\n",
       "   lagtime_mean  delta_prior_question_elapsed_time  user_correctness  \\\n",
       "0      14523696                                  0               NaN   \n",
       "1      14523696                              11576               1.0   \n",
       "2      14523696                              18000               1.0   \n",
       "3      14523696                             -36000               1.0   \n",
       "4      14523696                              -8000               1.0   \n",
       "\n",
       "   user_correct_cumsum  user_correct_cumcount  explanation_mean  \\\n",
       "0                    0                      0               0.0   \n",
       "1                    1                      1               0.0   \n",
       "2                    2                      2               0.0   \n",
       "3                    3                      3               0.0   \n",
       "4                    4                      4               0.0   \n",
       "\n",
       "   explanation_cumsum  attempt_no  \n",
       "0                   0           1  \n",
       "1                   0           1  \n",
       "2                   0           1  \n",
       "3                   0           1  \n",
       "4                   0           1  \n",
       "\n",
       "[5 rows x 21 columns]"
      ]
     },
     "execution_count": 32,
     "metadata": {},
     "output_type": "execute_result"
    }
   ],
   "source": [
    "train_df.head()"
   ]
  },
  {
   "cell_type": "code",
   "execution_count": 33,
   "metadata": {
    "papermill": {
     "duration": 0.078126,
     "end_time": "2020-12-14T22:14:24.981329",
     "exception": false,
     "start_time": "2020-12-14T22:14:24.903203",
     "status": "completed"
    },
    "tags": []
   },
   "outputs": [
    {
     "data": {
      "text/plain": [
       "row_id                                 int64\n",
       "timestamp                              int16\n",
       "user_id                                int32\n",
       "content_id                             int16\n",
       "content_type_id                         int8\n",
       "task_container_id                      int16\n",
       "user_answer                            int64\n",
       "answered_correctly                      int8\n",
       "prior_question_elapsed_time          float32\n",
       "prior_question_had_explanation          int8\n",
       "user_lecture_cumsum                     int8\n",
       "user_lecture_lv                      float16\n",
       "lagtime                                int32\n",
       "lagtime_mean                           int32\n",
       "delta_prior_question_elapsed_time      int32\n",
       "user_correctness                     float16\n",
       "user_correct_cumsum                    int16\n",
       "user_correct_cumcount                  int16\n",
       "explanation_mean                     float16\n",
       "explanation_cumsum                     int16\n",
       "attempt_no                              int8\n",
       "dtype: object"
      ]
     },
     "execution_count": 33,
     "metadata": {},
     "output_type": "execute_result"
    }
   ],
   "source": [
    "train_df.dtypes"
   ]
  },
  {
   "cell_type": "code",
   "execution_count": 34,
   "metadata": {
    "papermill": {
     "duration": 4.517593,
     "end_time": "2020-12-14T22:14:29.565443",
     "exception": false,
     "start_time": "2020-12-14T22:14:25.04785",
     "status": "completed"
    },
    "tags": []
   },
   "outputs": [],
   "source": [
    "explanation_agg = train_df.groupby('user_id')['prior_question_had_explanation'].agg(['sum', 'count'])\n",
    "explanation_agg=explanation_agg.astype('int16')\n",
    "#train_df.drop(columns=['prior_question_had_explanation'], inplace=True)"
   ]
  },
  {
   "cell_type": "code",
   "execution_count": 35,
   "metadata": {
    "papermill": {
     "duration": 19.004727,
     "end_time": "2020-12-14T22:14:48.690651",
     "exception": false,
     "start_time": "2020-12-14T22:14:29.685924",
     "status": "completed"
    },
    "tags": []
   },
   "outputs": [],
   "source": [
    "user_agg = train_df.groupby('user_id')[target].agg(['sum', 'count'])\n",
    "content_agg = train_df.groupby('content_id')[target].agg(['sum', 'count','var'])\n",
    "task_container_agg = train_df.groupby('task_container_id')[target].agg(['sum', 'count','var'])\n",
    "\n",
    "#prior_question_elapsed_time_agg = train_df.groupby('user_id')['prior_question_elapsed_time'].agg(['sum', 'count'])"
   ]
  },
  {
   "cell_type": "code",
   "execution_count": 36,
   "metadata": {
    "papermill": {
     "duration": 0.079791,
     "end_time": "2020-12-14T22:14:48.838141",
     "exception": false,
     "start_time": "2020-12-14T22:14:48.75835",
     "status": "completed"
    },
    "tags": []
   },
   "outputs": [],
   "source": [
    "user_agg=user_agg.astype('int16')\n",
    "content_agg=content_agg.astype('float32')\n",
    "task_container_agg=task_container_agg.astype('float32')"
   ]
  },
  {
   "cell_type": "code",
   "execution_count": 37,
   "metadata": {
    "papermill": {
     "duration": 74.099687,
     "end_time": "2020-12-14T22:16:03.005423",
     "exception": false,
     "start_time": "2020-12-14T22:14:48.905736",
     "status": "completed"
    },
    "tags": []
   },
   "outputs": [],
   "source": [
    "attempt_no_agg=train_df.groupby([\"user_id\",\"content_id\"])[\"attempt_no\"].agg(['sum'])\n",
    "attempt_no_agg=attempt_no_agg.astype('int8')\n",
    "#attempt_series = train_df[['user_id', 'content_id','attempt_no']].groupby(['user_id','content_id'])['attempt_no'].max()"
   ]
  },
  {
   "cell_type": "code",
   "execution_count": 38,
   "metadata": {
    "papermill": {
     "duration": 9.889271,
     "end_time": "2020-12-14T22:16:12.964891",
     "exception": false,
     "start_time": "2020-12-14T22:16:03.07562",
     "status": "completed"
    },
    "tags": []
   },
   "outputs": [],
   "source": [
    "train_df['content_count'] = train_df['content_id'].map(content_agg['count']).astype('int32')\n",
    "train_df['content_sum'] = train_df['content_id'].map(content_agg['sum']).astype('int32')\n",
    "train_df['content_correctness'] = train_df['content_id'].map(content_agg['sum'] / content_agg['count'])\n",
    "train_df.content_correctness=train_df.content_correctness.astype('float16')\n",
    "train_df['task_container_sum'] = train_df['task_container_id'].map(task_container_agg['sum']).astype('int32')\n",
    "train_df['task_container_std'] = train_df['task_container_id'].map(task_container_agg['var']).astype('float16')\n",
    "train_df['task_container_correctness'] = train_df['task_container_id'].map(task_container_agg['sum'] / task_container_agg['count'])\n",
    "train_df.task_container_correctness=train_df.task_container_correctness.astype('float16')"
   ]
  },
  {
   "cell_type": "code",
   "execution_count": 39,
   "metadata": {
    "papermill": {
     "duration": 0.199894,
     "end_time": "2020-12-14T22:16:13.234126",
     "exception": false,
     "start_time": "2020-12-14T22:16:13.034232",
     "status": "completed"
    },
    "tags": []
   },
   "outputs": [],
   "source": [
    "questions_df = pd.read_csv(\n",
    "    '/data/elastic-notebook/data/riiid-test-answer-prediction/questions.csv', \n",
    "    usecols=[0, 1,3,4],\n",
    "    dtype={'question_id': 'int16','bundle_id': 'int16', 'part': 'int8','tags': 'str'}\n",
    "    )\n",
    "questions_df['part_bundle_id']=questions_df['part']*100000+questions_df['bundle_id']\n",
    "questions_df.part_bundle_id=questions_df.part_bundle_id.astype('int32')\n",
    "tag = questions_df[\"tags\"].str.split(\" \", n = 10, expand = True)\n",
    "tag.columns = ['tags1','tags2','tags3','tags4','tags5','tags6']\n",
    "#\n",
    "\n",
    "tag.fillna(0, inplace=True)\n",
    "tag = tag.astype('int16')\n",
    "questions_df =  pd.concat([questions_df,tag],axis=1).drop(['tags'],axis=1)"
   ]
  },
  {
   "cell_type": "code",
   "execution_count": 40,
   "metadata": {
    "papermill": {
     "duration": 0.07814,
     "end_time": "2020-12-14T22:16:13.381294",
     "exception": false,
     "start_time": "2020-12-14T22:16:13.303154",
     "status": "completed"
    },
    "tags": []
   },
   "outputs": [],
   "source": [
    "questions_df.rename(columns={'question_id':'content_id'}, inplace=True)"
   ]
  },
  {
   "cell_type": "code",
   "execution_count": 41,
   "metadata": {
    "papermill": {
     "duration": 0.098828,
     "end_time": "2020-12-14T22:16:13.548773",
     "exception": false,
     "start_time": "2020-12-14T22:16:13.449945",
     "status": "completed"
    },
    "tags": []
   },
   "outputs": [],
   "source": [
    "questions_df['content_correctness'] = questions_df['content_id'].map(content_agg['sum'] / content_agg['count'])\n",
    "questions_df.content_correctness=questions_df.content_correctness.astype('float16')\n",
    "questions_df['content_correctness_std'] = questions_df['content_id'].map(content_agg['var'])\n",
    "questions_df.content_correctness_std=questions_df.content_correctness_std.astype('float16')"
   ]
  },
  {
   "cell_type": "code",
   "execution_count": 42,
   "metadata": {
    "papermill": {
     "duration": 0.109602,
     "end_time": "2020-12-14T22:16:13.736624",
     "exception": false,
     "start_time": "2020-12-14T22:16:13.627022",
     "status": "completed"
    },
    "tags": []
   },
   "outputs": [],
   "source": [
    "part_agg = questions_df.groupby('part')['content_correctness'].agg(['mean', 'var'])\n",
    "questions_df['part_correctness_mean'] = questions_df['part'].map(part_agg['mean'])\n",
    "questions_df['part_correctness_std'] = questions_df['part'].map(part_agg['var'])\n",
    "questions_df.part_correctness_mean=questions_df.part_correctness_mean.astype('float16')\n",
    "questions_df.part_correctness_std=questions_df.part_correctness_std.astype('float16')"
   ]
  },
  {
   "cell_type": "code",
   "execution_count": 43,
   "metadata": {
    "papermill": {
     "duration": 0.099075,
     "end_time": "2020-12-14T22:16:13.915027",
     "exception": false,
     "start_time": "2020-12-14T22:16:13.815952",
     "status": "completed"
    },
    "tags": []
   },
   "outputs": [],
   "source": [
    "bundle_agg = questions_df.groupby('bundle_id')['content_correctness'].agg(['mean'])\n",
    "questions_df['bundle_correctness'] = questions_df['bundle_id'].map(bundle_agg['mean'])\n",
    "questions_df.bundle_correctness=questions_df.bundle_correctness.astype('float16')"
   ]
  },
  {
   "cell_type": "code",
   "execution_count": 44,
   "metadata": {
    "papermill": {
     "duration": 0.105536,
     "end_time": "2020-12-14T22:16:14.093814",
     "exception": false,
     "start_time": "2020-12-14T22:16:13.988278",
     "status": "completed"
    },
    "tags": []
   },
   "outputs": [],
   "source": [
    "tags1_agg = questions_df.groupby('tags1')['content_correctness'].agg(['mean', 'var'])\n",
    "questions_df['tags1_correctness_mean'] = questions_df['tags1'].map(tags1_agg['mean'])\n",
    "questions_df['tags1_correctness_std'] = questions_df['tags1'].map(tags1_agg['var'])\n",
    "questions_df.tags1_correctness_mean=questions_df.tags1_correctness_mean.astype('float16')\n",
    "questions_df.tags1_correctness_std=questions_df.tags1_correctness_std.astype('float16')"
   ]
  },
  {
   "cell_type": "code",
   "execution_count": 45,
   "metadata": {
    "papermill": {
     "duration": 0.092342,
     "end_time": "2020-12-14T22:16:14.261534",
     "exception": false,
     "start_time": "2020-12-14T22:16:14.169192",
     "status": "completed"
    },
    "tags": []
   },
   "outputs": [],
   "source": [
    "questions_df.drop(columns=['content_correctness'], inplace=True)"
   ]
  },
  {
   "cell_type": "code",
   "execution_count": 46,
   "metadata": {
    "papermill": {
     "duration": 0.083137,
     "end_time": "2020-12-14T22:16:14.414207",
     "exception": false,
     "start_time": "2020-12-14T22:16:14.33107",
     "status": "completed"
    },
    "tags": []
   },
   "outputs": [
    {
     "data": {
      "text/plain": [
       "content_id                   int16\n",
       "bundle_id                    int16\n",
       "part                          int8\n",
       "part_bundle_id               int32\n",
       "tags1                        int16\n",
       "tags2                        int16\n",
       "tags3                        int16\n",
       "tags4                        int16\n",
       "tags5                        int16\n",
       "tags6                        int16\n",
       "content_correctness_std    float16\n",
       "part_correctness_mean      float16\n",
       "part_correctness_std       float16\n",
       "bundle_correctness         float16\n",
       "tags1_correctness_mean     float16\n",
       "tags1_correctness_std      float16\n",
       "dtype: object"
      ]
     },
     "execution_count": 46,
     "metadata": {},
     "output_type": "execute_result"
    }
   ],
   "source": [
    "questions_df.dtypes"
   ]
  },
  {
   "cell_type": "code",
   "execution_count": 47,
   "metadata": {
    "papermill": {
     "duration": 0.094277,
     "end_time": "2020-12-14T22:16:14.826607",
     "exception": false,
     "start_time": "2020-12-14T22:16:14.73233",
     "status": "completed"
    },
    "tags": []
   },
   "outputs": [],
   "source": [
    "#pd.set_option(\"display.max_columns\",500)"
   ]
  },
  {
   "cell_type": "code",
   "execution_count": 48,
   "metadata": {
    "papermill": {
     "duration": 0.079108,
     "end_time": "2020-12-14T22:16:14.976261",
     "exception": false,
     "start_time": "2020-12-14T22:16:14.897153",
     "status": "completed"
    },
    "tags": []
   },
   "outputs": [],
   "source": [
    "#questions_df.drop(columns=['tags4','tags5','tags6'], inplace=True)"
   ]
  },
  {
   "cell_type": "code",
   "execution_count": 49,
   "metadata": {
    "papermill": {
     "duration": 0.083542,
     "end_time": "2020-12-14T22:16:15.133427",
     "exception": false,
     "start_time": "2020-12-14T22:16:15.049885",
     "status": "completed"
    },
    "tags": []
   },
   "outputs": [
    {
     "data": {
      "text/plain": [
       "99271300"
      ]
     },
     "execution_count": 49,
     "metadata": {},
     "output_type": "execute_result"
    }
   ],
   "source": [
    "len(train_df)"
   ]
  },
  {
   "cell_type": "code",
   "execution_count": 50,
   "metadata": {
    "papermill": {
     "duration": 2.916948,
     "end_time": "2020-12-14T22:16:18.121832",
     "exception": false,
     "start_time": "2020-12-14T22:16:15.204884",
     "status": "completed"
    },
    "tags": []
   },
   "outputs": [],
   "source": [
    "train_df['user_correctness'].fillna( 1, inplace=True)\n",
    "train_df['attempt_no'].fillna(1, inplace=True)\n",
    "#\n",
    "train_df.fillna(0, inplace=True)"
   ]
  },
  {
   "cell_type": "code",
   "execution_count": 51,
   "metadata": {
    "papermill": {
     "duration": 0.116075,
     "end_time": "2020-12-14T22:16:18.31564",
     "exception": false,
     "start_time": "2020-12-14T22:16:18.199565",
     "status": "completed"
    },
    "tags": []
   },
   "outputs": [
    {
     "data": {
      "text/html": [
       "<div>\n",
       "<style scoped>\n",
       "    .dataframe tbody tr th:only-of-type {\n",
       "        vertical-align: middle;\n",
       "    }\n",
       "\n",
       "    .dataframe tbody tr th {\n",
       "        vertical-align: top;\n",
       "    }\n",
       "\n",
       "    .dataframe thead th {\n",
       "        text-align: right;\n",
       "    }\n",
       "</style>\n",
       "<table border=\"1\" class=\"dataframe\">\n",
       "  <thead>\n",
       "    <tr style=\"text-align: right;\">\n",
       "      <th></th>\n",
       "      <th>row_id</th>\n",
       "      <th>timestamp</th>\n",
       "      <th>user_id</th>\n",
       "      <th>content_id</th>\n",
       "      <th>content_type_id</th>\n",
       "      <th>task_container_id</th>\n",
       "      <th>user_answer</th>\n",
       "      <th>answered_correctly</th>\n",
       "      <th>prior_question_elapsed_time</th>\n",
       "      <th>prior_question_had_explanation</th>\n",
       "      <th>...</th>\n",
       "      <th>user_correct_cumcount</th>\n",
       "      <th>explanation_mean</th>\n",
       "      <th>explanation_cumsum</th>\n",
       "      <th>attempt_no</th>\n",
       "      <th>content_count</th>\n",
       "      <th>content_sum</th>\n",
       "      <th>content_correctness</th>\n",
       "      <th>task_container_sum</th>\n",
       "      <th>task_container_std</th>\n",
       "      <th>task_container_correctness</th>\n",
       "    </tr>\n",
       "  </thead>\n",
       "  <tbody>\n",
       "    <tr>\n",
       "      <th>0</th>\n",
       "      <td>0</td>\n",
       "      <td>0</td>\n",
       "      <td>115</td>\n",
       "      <td>5692</td>\n",
       "      <td>0</td>\n",
       "      <td>1</td>\n",
       "      <td>3</td>\n",
       "      <td>1</td>\n",
       "      <td>25423.853516</td>\n",
       "      <td>0</td>\n",
       "      <td>...</td>\n",
       "      <td>0</td>\n",
       "      <td>0.0</td>\n",
       "      <td>0</td>\n",
       "      <td>1</td>\n",
       "      <td>36514</td>\n",
       "      <td>27221</td>\n",
       "      <td>0.745605</td>\n",
       "      <td>208704</td>\n",
       "      <td>0.249268</td>\n",
       "      <td>0.527344</td>\n",
       "    </tr>\n",
       "    <tr>\n",
       "      <th>1</th>\n",
       "      <td>1</td>\n",
       "      <td>0</td>\n",
       "      <td>115</td>\n",
       "      <td>5716</td>\n",
       "      <td>0</td>\n",
       "      <td>2</td>\n",
       "      <td>2</td>\n",
       "      <td>1</td>\n",
       "      <td>37000.000000</td>\n",
       "      <td>0</td>\n",
       "      <td>...</td>\n",
       "      <td>1</td>\n",
       "      <td>0.0</td>\n",
       "      <td>0</td>\n",
       "      <td>1</td>\n",
       "      <td>23991</td>\n",
       "      <td>17631</td>\n",
       "      <td>0.734863</td>\n",
       "      <td>172342</td>\n",
       "      <td>0.245850</td>\n",
       "      <td>0.435791</td>\n",
       "    </tr>\n",
       "    <tr>\n",
       "      <th>2</th>\n",
       "      <td>2</td>\n",
       "      <td>0</td>\n",
       "      <td>115</td>\n",
       "      <td>128</td>\n",
       "      <td>0</td>\n",
       "      <td>0</td>\n",
       "      <td>0</td>\n",
       "      <td>1</td>\n",
       "      <td>55000.000000</td>\n",
       "      <td>0</td>\n",
       "      <td>...</td>\n",
       "      <td>2</td>\n",
       "      <td>0.0</td>\n",
       "      <td>0</td>\n",
       "      <td>1</td>\n",
       "      <td>19619</td>\n",
       "      <td>18969</td>\n",
       "      <td>0.966797</td>\n",
       "      <td>269233</td>\n",
       "      <td>0.217651</td>\n",
       "      <td>0.680176</td>\n",
       "    </tr>\n",
       "    <tr>\n",
       "      <th>3</th>\n",
       "      <td>3</td>\n",
       "      <td>0</td>\n",
       "      <td>115</td>\n",
       "      <td>7860</td>\n",
       "      <td>0</td>\n",
       "      <td>3</td>\n",
       "      <td>0</td>\n",
       "      <td>1</td>\n",
       "      <td>19000.000000</td>\n",
       "      <td>0</td>\n",
       "      <td>...</td>\n",
       "      <td>3</td>\n",
       "      <td>0.0</td>\n",
       "      <td>0</td>\n",
       "      <td>1</td>\n",
       "      <td>21733</td>\n",
       "      <td>20751</td>\n",
       "      <td>0.954590</td>\n",
       "      <td>214721</td>\n",
       "      <td>0.248169</td>\n",
       "      <td>0.542969</td>\n",
       "    </tr>\n",
       "    <tr>\n",
       "      <th>4</th>\n",
       "      <td>4</td>\n",
       "      <td>0</td>\n",
       "      <td>115</td>\n",
       "      <td>7922</td>\n",
       "      <td>0</td>\n",
       "      <td>4</td>\n",
       "      <td>1</td>\n",
       "      <td>1</td>\n",
       "      <td>11000.000000</td>\n",
       "      <td>0</td>\n",
       "      <td>...</td>\n",
       "      <td>4</td>\n",
       "      <td>0.0</td>\n",
       "      <td>0</td>\n",
       "      <td>1</td>\n",
       "      <td>19409</td>\n",
       "      <td>18501</td>\n",
       "      <td>0.953125</td>\n",
       "      <td>330079</td>\n",
       "      <td>0.249512</td>\n",
       "      <td>0.477051</td>\n",
       "    </tr>\n",
       "  </tbody>\n",
       "</table>\n",
       "<p>5 rows × 27 columns</p>\n",
       "</div>"
      ],
      "text/plain": [
       "   row_id  timestamp  user_id  content_id  content_type_id  task_container_id  \\\n",
       "0       0          0      115        5692                0                  1   \n",
       "1       1          0      115        5716                0                  2   \n",
       "2       2          0      115         128                0                  0   \n",
       "3       3          0      115        7860                0                  3   \n",
       "4       4          0      115        7922                0                  4   \n",
       "\n",
       "   user_answer  answered_correctly  prior_question_elapsed_time  \\\n",
       "0            3                   1                 25423.853516   \n",
       "1            2                   1                 37000.000000   \n",
       "2            0                   1                 55000.000000   \n",
       "3            0                   1                 19000.000000   \n",
       "4            1                   1                 11000.000000   \n",
       "\n",
       "   prior_question_had_explanation  ...  user_correct_cumcount  \\\n",
       "0                               0  ...                      0   \n",
       "1                               0  ...                      1   \n",
       "2                               0  ...                      2   \n",
       "3                               0  ...                      3   \n",
       "4                               0  ...                      4   \n",
       "\n",
       "   explanation_mean  explanation_cumsum  attempt_no  content_count  \\\n",
       "0               0.0                   0           1          36514   \n",
       "1               0.0                   0           1          23991   \n",
       "2               0.0                   0           1          19619   \n",
       "3               0.0                   0           1          21733   \n",
       "4               0.0                   0           1          19409   \n",
       "\n",
       "   content_sum  content_correctness  task_container_sum  task_container_std  \\\n",
       "0        27221             0.745605              208704            0.249268   \n",
       "1        17631             0.734863              172342            0.245850   \n",
       "2        18969             0.966797              269233            0.217651   \n",
       "3        20751             0.954590              214721            0.248169   \n",
       "4        18501             0.953125              330079            0.249512   \n",
       "\n",
       "   task_container_correctness  \n",
       "0                    0.527344  \n",
       "1                    0.435791  \n",
       "2                    0.680176  \n",
       "3                    0.542969  \n",
       "4                    0.477051  \n",
       "\n",
       "[5 rows x 27 columns]"
      ]
     },
     "execution_count": 51,
     "metadata": {},
     "output_type": "execute_result"
    }
   ],
   "source": [
    "train_df.head()"
   ]
  },
  {
   "cell_type": "code",
   "execution_count": 52,
   "metadata": {
    "papermill": {
     "duration": 0.086283,
     "end_time": "2020-12-14T22:16:18.478406",
     "exception": false,
     "start_time": "2020-12-14T22:16:18.392123",
     "status": "completed"
    },
    "tags": []
   },
   "outputs": [],
   "source": [
    "#train_df.drop(columns=['content_type_id'], inplace=True)"
   ]
  },
  {
   "cell_type": "code",
   "execution_count": 53,
   "metadata": {
    "papermill": {
     "duration": 0.08864,
     "end_time": "2020-12-14T22:16:18.642104",
     "exception": false,
     "start_time": "2020-12-14T22:16:18.553464",
     "status": "completed"
    },
    "tags": []
   },
   "outputs": [
    {
     "data": {
      "text/plain": [
       "row_id                                 int64\n",
       "timestamp                              int16\n",
       "user_id                                int32\n",
       "content_id                             int16\n",
       "content_type_id                         int8\n",
       "task_container_id                      int16\n",
       "user_answer                            int64\n",
       "answered_correctly                      int8\n",
       "prior_question_elapsed_time          float32\n",
       "prior_question_had_explanation          int8\n",
       "user_lecture_cumsum                     int8\n",
       "user_lecture_lv                      float16\n",
       "lagtime                                int32\n",
       "lagtime_mean                           int32\n",
       "delta_prior_question_elapsed_time      int32\n",
       "user_correctness                     float16\n",
       "user_correct_cumsum                    int16\n",
       "user_correct_cumcount                  int16\n",
       "explanation_mean                     float16\n",
       "explanation_cumsum                     int16\n",
       "attempt_no                              int8\n",
       "content_count                          int32\n",
       "content_sum                            int32\n",
       "content_correctness                  float16\n",
       "task_container_sum                     int32\n",
       "task_container_std                   float16\n",
       "task_container_correctness           float16\n",
       "dtype: object"
      ]
     },
     "execution_count": 53,
     "metadata": {},
     "output_type": "execute_result"
    }
   ],
   "source": [
    "train_df.dtypes"
   ]
  },
  {
   "cell_type": "markdown",
   "metadata": {
    "papermill": {
     "duration": 0.093939,
     "end_time": "2020-12-14T22:16:18.811563",
     "exception": false,
     "start_time": "2020-12-14T22:16:18.717624",
     "status": "completed"
    },
    "tags": []
   },
   "source": [
    "# SAKT Part I"
   ]
  },
  {
   "cell_type": "code",
   "execution_count": 54,
   "metadata": {
    "papermill": {
     "duration": 54.861322,
     "end_time": "2020-12-14T22:17:13.749242",
     "exception": false,
     "start_time": "2020-12-14T22:16:18.88792",
     "status": "completed"
    },
    "tags": []
   },
   "outputs": [
    {
     "name": "stdout",
     "output_type": "stream",
     "text": [
      "number skills 13523\n"
     ]
    },
    {
     "data": {
      "text/plain": [
       "0"
      ]
     },
     "execution_count": 54,
     "metadata": {},
     "output_type": "execute_result"
    }
   ],
   "source": [
    "#HDKIM \n",
    "\n",
    "MAX_SEQ = 160\n",
    "\n",
    "skills = train_df[\"content_id\"].unique()\n",
    "n_skill = len(skills)\n",
    "print(\"number skills\", len(skills))\n",
    "\n",
    "group = train_df[['user_id', 'content_id', 'answered_correctly']].groupby('user_id').apply(lambda r: (\n",
    "            r['content_id'].values,\n",
    "            r['answered_correctly'].values))\n",
    "\n",
    "for user_id in group.index:\n",
    "    q, qa = group[user_id]\n",
    "    if len(q)>MAX_SEQ:\n",
    "        group[user_id] = (q[-MAX_SEQ:],qa[-MAX_SEQ:])\n",
    "        \n",
    "import pickle\n",
    "pickle.dump(group, open(\"group.pkl\", \"wb\"))\n",
    "del group\n",
    "gc.collect()\n",
    "\n",
    "#HDKIMHDKIM\n"
   ]
  },
  {
   "cell_type": "markdown",
   "metadata": {
    "papermill": {
     "duration": 0.072634,
     "end_time": "2020-12-14T22:17:13.895115",
     "exception": false,
     "start_time": "2020-12-14T22:17:13.822481",
     "status": "completed"
    },
    "tags": []
   },
   "source": [
    "# Train"
   ]
  },
  {
   "cell_type": "code",
   "execution_count": 55,
   "metadata": {
    "papermill": {
     "duration": 0.090055,
     "end_time": "2020-12-14T22:17:14.058363",
     "exception": false,
     "start_time": "2020-12-14T22:17:13.968308",
     "status": "completed"
    },
    "tags": []
   },
   "outputs": [],
   "source": [
    "features = [\n",
    "    'lagtime',\n",
    "    'lagtime_mean',\n",
    "   # 'content_id',\n",
    "   # 'task_container_id',\n",
    "    'user_lecture_cumsum', # X\n",
    "    'user_lecture_lv',\n",
    "    'prior_question_elapsed_time',\n",
    "    'delta_prior_question_elapsed_time',\n",
    "    'user_correctness',\n",
    "    'user_correct_cumcount', #X\n",
    "    'user_correct_cumsum', #X\n",
    "    'content_correctness',\n",
    "   # 'content_correctness_std',\n",
    "    'content_count',\n",
    "    'content_sum', #X\n",
    "    'task_container_correctness',\n",
    "   # 'task_container_std',\n",
    "   # 'task_container_sum',\n",
    "    'bundle_correctness',\n",
    "    'attempt_no',\n",
    "    'part',\n",
    "    'part_correctness_mean',\n",
    "   # 'part_correctness_std',\n",
    "    'tags1',\n",
    "    'tags1_correctness_mean',\n",
    "  #  'tags1_correctness_std',\n",
    "    'bundle_id',\n",
    "  #  'part_bundle_id',\n",
    "    'explanation_mean', \n",
    "    'explanation_cumsum',\n",
    "    'prior_question_had_explanation',\n",
    "    ]\n",
    "categorical_columns= [\n",
    "    'part',        \n",
    "    'tags1',\n",
    "    'bundle_id',\n",
    "   # 'part_bundle_id',\n",
    "    'prior_question_had_explanation',\n",
    "    ]\n",
    "\n",
    "\n"
   ]
  },
  {
   "cell_type": "code",
   "execution_count": 58,
   "metadata": {
    "papermill": {
     "duration": 44.350575,
     "end_time": "2020-12-14T22:17:58.482866",
     "exception": false,
     "start_time": "2020-12-14T22:17:14.132291",
     "status": "completed"
    },
    "tags": []
   },
   "outputs": [
    {
     "name": "stdout",
     "output_type": "stream",
     "text": [
      "sample end\n",
      "valid_df length： 2285439\n"
     ]
    },
    {
     "name": "stderr",
     "output_type": "stream",
     "text": [
      "/tmp/ipykernel_2263198/2957649719.py:55: FutureWarning: The frame.append method is deprecated and will be removed from pandas in a future version. Use pandas.concat instead.\n",
      "  valid_df = valid_df.append(valid_df_newuser)\n"
     ]
    }
   ],
   "source": [
    "flag_lgbm=True\n",
    "clfs = list()\n",
    "params = {\n",
    "    'num_leaves': 350,\n",
    "    'max_bin':700,\n",
    "    'min_child_weight': 0.03454472573214212,\n",
    "    'feature_fraction': 0.58,\n",
    "    'bagging_fraction': 0.58,\n",
    "    'objective': 'binary',\n",
    "    'max_depth': -1,\n",
    "    'learning_rate': 0.05,\n",
    "    \"boosting_type\": \"gbdt\",\n",
    "    \"bagging_seed\": 11,\n",
    "    \"metric\": 'auc',\n",
    "    \"verbosity\": -1,\n",
    "    'reg_alpha': 0.3899927210061127,\n",
    "    'reg_lambda': 0.6485237330340494,\n",
    "    'random_state': 47\n",
    "    }\n",
    "trains=list()\n",
    "valids=list()\n",
    "num=1\n",
    "for i in range(0,num):\n",
    "  \n",
    "    #train_df=train_df.reset_index(drop=True)\n",
    "    train_df_clf=train_df.sample(n=20000*1000)\n",
    "    print('sample end')\n",
    "    #train_df.drop(train_df_clf.index, inplace=True)\n",
    "    #print('train_df drop end')\n",
    "    \n",
    "    users=train_df_clf['user_id'].drop_duplicates()#去重\n",
    "    \n",
    "    users=users.sample(frac=0.025)\n",
    "    users_df=pd.DataFrame()\n",
    "    users_df['user_id']=users.values\n",
    "  \n",
    "  \n",
    "    valid_df_newuser = pd.merge(train_df_clf, users_df, on=['user_id'], how='inner')\n",
    "    #\n",
    "    #train_df_clf.drop(valid_df_newuser.index, inplace=True)\n",
    "   \n",
    "    #-----------\n",
    "    #train_df_clf=train_df_clf.sample(frac=0.2)\n",
    "    #train_df_clf.drop(valid_df_newuser.index, inplace=True)\n",
    "    train_df_clf = pd.merge(train_df_clf, questions_df, on='content_id', how='left')#\n",
    "    valid_df_newuser = pd.merge(valid_df_newuser, questions_df, on='content_id', how='left')#\n",
    "\n",
    "    valid_df=train_df_clf.sample(frac=0.09)\n",
    "    train_df_clf.drop(valid_df.index, inplace=True)\n",
    "   \n",
    "    valid_df = valid_df.append(valid_df_newuser)\n",
    "    #\n",
    "\n",
    "    trains.append(train_df_clf)\n",
    "    valids.append(valid_df)\n",
    "    print('valid_df length：',len(valid_df))\n",
    "    #train_df=train_df.reset_index(drop=True)"
   ]
  },
  {
   "cell_type": "code",
   "execution_count": 59,
   "metadata": {
    "papermill": {
     "duration": 0.162873,
     "end_time": "2020-12-14T22:17:58.720407",
     "exception": false,
     "start_time": "2020-12-14T22:17:58.557534",
     "status": "completed"
    },
    "tags": []
   },
   "outputs": [
    {
     "data": {
      "text/plain": [
       "1846"
      ]
     },
     "execution_count": 59,
     "metadata": {},
     "output_type": "execute_result"
    }
   ],
   "source": [
    "#del train_df\n",
    "del train_df_clf\n",
    "del valid_df\n",
    "gc.collect()"
   ]
  },
  {
   "cell_type": "code",
   "execution_count": 60,
   "metadata": {
    "papermill": {
     "duration": 3608.250434,
     "end_time": "2020-12-14T23:18:07.046659",
     "exception": false,
     "start_time": "2020-12-14T22:17:58.796225",
     "status": "completed"
    },
    "tags": []
   },
   "outputs": [
    {
     "name": "stderr",
     "output_type": "stream",
     "text": [
      "/srv/local/data/elastic-notebook/venv/lib/python3.8/site-packages/lightgbm/engine.py:181: UserWarning: 'early_stopping_rounds' argument is deprecated and will be removed in a future release of LightGBM. Pass 'early_stopping()' callback via 'callbacks' argument instead.\n",
      "  _log_warning(\"'early_stopping_rounds' argument is deprecated and will be removed in a future release of LightGBM. \"\n",
      "/srv/local/data/elastic-notebook/venv/lib/python3.8/site-packages/lightgbm/basic.py:2068: UserWarning: categorical_feature in Dataset is overridden.\n",
      "New categorical_feature is ['bundle_id', 'part', 'prior_question_had_explanation', 'tags1']\n",
      "  _log_warning('categorical_feature in Dataset is overridden.\\n'\n",
      "/srv/local/data/elastic-notebook/venv/lib/python3.8/site-packages/lightgbm/engine.py:239: UserWarning: 'verbose_eval' argument is deprecated and will be removed in a future release of LightGBM. Pass 'log_evaluation()' callback via 'callbacks' argument instead.\n",
      "  _log_warning(\"'verbose_eval' argument is deprecated and will be removed in a future release of LightGBM. \"\n",
      "/srv/local/data/elastic-notebook/venv/lib/python3.8/site-packages/lightgbm/basic.py:1780: UserWarning: Overriding the parameters from Reference Dataset.\n",
      "  _log_warning('Overriding the parameters from Reference Dataset.')\n",
      "/srv/local/data/elastic-notebook/venv/lib/python3.8/site-packages/lightgbm/basic.py:1513: UserWarning: categorical_column in param dict is overridden.\n",
      "  _log_warning(f'{cat_alias} in param dict is overridden.')\n"
     ]
    },
    {
     "name": "stdout",
     "output_type": "stream",
     "text": [
      "Training until validation scores don't improve for 50 rounds\n",
      "[50]\ttraining's auc: 0.769438\tvalid_1's auc: 0.767086\n",
      "[100]\ttraining's auc: 0.776444\tvalid_1's auc: 0.771871\n",
      "[150]\ttraining's auc: 0.780828\tvalid_1's auc: 0.773998\n",
      "[200]\ttraining's auc: 0.784103\tvalid_1's auc: 0.775254\n",
      "[250]\ttraining's auc: 0.786611\tvalid_1's auc: 0.77606\n",
      "[300]\ttraining's auc: 0.788353\tvalid_1's auc: 0.776634\n",
      "[350]\ttraining's auc: 0.789671\tvalid_1's auc: 0.777046\n",
      "[400]\ttraining's auc: 0.790717\tvalid_1's auc: 0.777269\n",
      "[450]\ttraining's auc: 0.791648\tvalid_1's auc: 0.777461\n",
      "[500]\ttraining's auc: 0.792521\tvalid_1's auc: 0.777686\n",
      "[550]\ttraining's auc: 0.793136\tvalid_1's auc: 0.777815\n",
      "[600]\ttraining's auc: 0.793836\tvalid_1's auc: 0.777956\n",
      "[650]\ttraining's auc: 0.794288\tvalid_1's auc: 0.778034\n",
      "[700]\ttraining's auc: 0.794853\tvalid_1's auc: 0.778141\n",
      "[750]\ttraining's auc: 0.795328\tvalid_1's auc: 0.77824\n",
      "[800]\ttraining's auc: 0.795783\tvalid_1's auc: 0.778322\n",
      "[850]\ttraining's auc: 0.796202\tvalid_1's auc: 0.778412\n",
      "[900]\ttraining's auc: 0.796557\tvalid_1's auc: 0.778491\n",
      "[950]\ttraining's auc: 0.79703\tvalid_1's auc: 0.778574\n",
      "[1000]\ttraining's auc: 0.797508\tvalid_1's auc: 0.778688\n",
      "[1050]\ttraining's auc: 0.797894\tvalid_1's auc: 0.77876\n",
      "[1100]\ttraining's auc: 0.798243\tvalid_1's auc: 0.778836\n",
      "[1150]\ttraining's auc: 0.798649\tvalid_1's auc: 0.778912\n",
      "[1200]\ttraining's auc: 0.799072\tvalid_1's auc: 0.778989\n",
      "[1250]\ttraining's auc: 0.79944\tvalid_1's auc: 0.779064\n",
      "[1300]\ttraining's auc: 0.799852\tvalid_1's auc: 0.779147\n",
      "[1350]\ttraining's auc: 0.800195\tvalid_1's auc: 0.779231\n",
      "[1400]\ttraining's auc: 0.800552\tvalid_1's auc: 0.779305\n",
      "[1450]\ttraining's auc: 0.800909\tvalid_1's auc: 0.779378\n",
      "[1500]\ttraining's auc: 0.801259\tvalid_1's auc: 0.779459\n",
      "[1550]\ttraining's auc: 0.801624\tvalid_1's auc: 0.779537\n",
      "[1600]\ttraining's auc: 0.801946\tvalid_1's auc: 0.779614\n",
      "[1650]\ttraining's auc: 0.802292\tvalid_1's auc: 0.779696\n",
      "[1700]\ttraining's auc: 0.802641\tvalid_1's auc: 0.779767\n",
      "[1750]\ttraining's auc: 0.803045\tvalid_1's auc: 0.779842\n",
      "[1800]\ttraining's auc: 0.803369\tvalid_1's auc: 0.779909\n",
      "[1850]\ttraining's auc: 0.803717\tvalid_1's auc: 0.779992\n",
      "[1900]\ttraining's auc: 0.804057\tvalid_1's auc: 0.780061\n",
      "[1950]\ttraining's auc: 0.804408\tvalid_1's auc: 0.780138\n",
      "[2000]\ttraining's auc: 0.804753\tvalid_1's auc: 0.780204\n",
      "[2050]\ttraining's auc: 0.805079\tvalid_1's auc: 0.780262\n",
      "[2100]\ttraining's auc: 0.805466\tvalid_1's auc: 0.780348\n",
      "[2150]\ttraining's auc: 0.805811\tvalid_1's auc: 0.780419\n",
      "[2200]\ttraining's auc: 0.806126\tvalid_1's auc: 0.780476\n",
      "[2250]\ttraining's auc: 0.806447\tvalid_1's auc: 0.780542\n",
      "[2300]\ttraining's auc: 0.80675\tvalid_1's auc: 0.780596\n",
      "[2350]\ttraining's auc: 0.807035\tvalid_1's auc: 0.78065\n",
      "[2400]\ttraining's auc: 0.807369\tvalid_1's auc: 0.780722\n",
      "[2450]\ttraining's auc: 0.807672\tvalid_1's auc: 0.780783\n",
      "[2500]\ttraining's auc: 0.807974\tvalid_1's auc: 0.780841\n",
      "[2550]\ttraining's auc: 0.808297\tvalid_1's auc: 0.780909\n",
      "[2600]\ttraining's auc: 0.80865\tvalid_1's auc: 0.780992\n",
      "[2650]\ttraining's auc: 0.808948\tvalid_1's auc: 0.781052\n",
      "[2700]\ttraining's auc: 0.809266\tvalid_1's auc: 0.781119\n",
      "[2750]\ttraining's auc: 0.809556\tvalid_1's auc: 0.781173\n",
      "[2800]\ttraining's auc: 0.809895\tvalid_1's auc: 0.781235\n",
      "[2850]\ttraining's auc: 0.81018\tvalid_1's auc: 0.781283\n",
      "[2900]\ttraining's auc: 0.810471\tvalid_1's auc: 0.78134\n",
      "[2950]\ttraining's auc: 0.810769\tvalid_1's auc: 0.781395\n",
      "[3000]\ttraining's auc: 0.811081\tvalid_1's auc: 0.781453\n",
      "[3050]\ttraining's auc: 0.811386\tvalid_1's auc: 0.78151\n",
      "[3100]\ttraining's auc: 0.811671\tvalid_1's auc: 0.781561\n",
      "[3150]\ttraining's auc: 0.811987\tvalid_1's auc: 0.781623\n",
      "[3200]\ttraining's auc: 0.812277\tvalid_1's auc: 0.781677\n",
      "[3250]\ttraining's auc: 0.812552\tvalid_1's auc: 0.781725\n",
      "[3300]\ttraining's auc: 0.812828\tvalid_1's auc: 0.781778\n",
      "[3350]\ttraining's auc: 0.813101\tvalid_1's auc: 0.781838\n",
      "[3400]\ttraining's auc: 0.813388\tvalid_1's auc: 0.78189\n",
      "[3450]\ttraining's auc: 0.813676\tvalid_1's auc: 0.781945\n",
      "[3500]\ttraining's auc: 0.813982\tvalid_1's auc: 0.782011\n",
      "[3550]\ttraining's auc: 0.814299\tvalid_1's auc: 0.782079\n",
      "[3600]\ttraining's auc: 0.814595\tvalid_1's auc: 0.782138\n",
      "[3650]\ttraining's auc: 0.814898\tvalid_1's auc: 0.782201\n",
      "[3700]\ttraining's auc: 0.815208\tvalid_1's auc: 0.78226\n",
      "[3750]\ttraining's auc: 0.815487\tvalid_1's auc: 0.782315\n",
      "[3800]\ttraining's auc: 0.815752\tvalid_1's auc: 0.782364\n",
      "[3850]\ttraining's auc: 0.81604\tvalid_1's auc: 0.782417\n",
      "[3900]\ttraining's auc: 0.816316\tvalid_1's auc: 0.782472\n",
      "[3950]\ttraining's auc: 0.81661\tvalid_1's auc: 0.782528\n",
      "[4000]\ttraining's auc: 0.816881\tvalid_1's auc: 0.782578\n",
      "[4050]\ttraining's auc: 0.817154\tvalid_1's auc: 0.782632\n",
      "[4100]\ttraining's auc: 0.81744\tvalid_1's auc: 0.782689\n",
      "[4150]\ttraining's auc: 0.817731\tvalid_1's auc: 0.782749\n",
      "[4200]\ttraining's auc: 0.818004\tvalid_1's auc: 0.782795\n",
      "[4250]\ttraining's auc: 0.818292\tvalid_1's auc: 0.782849\n",
      "[4300]\ttraining's auc: 0.818572\tvalid_1's auc: 0.782907\n",
      "[4350]\ttraining's auc: 0.818832\tvalid_1's auc: 0.782952\n",
      "[4400]\ttraining's auc: 0.819095\tvalid_1's auc: 0.782997\n",
      "[4450]\ttraining's auc: 0.819364\tvalid_1's auc: 0.783047\n",
      "[4500]\ttraining's auc: 0.819645\tvalid_1's auc: 0.783102\n",
      "[4550]\ttraining's auc: 0.819924\tvalid_1's auc: 0.783164\n",
      "[4600]\ttraining's auc: 0.82018\tvalid_1's auc: 0.783219\n",
      "[4650]\ttraining's auc: 0.820461\tvalid_1's auc: 0.783279\n",
      "[4700]\ttraining's auc: 0.820736\tvalid_1's auc: 0.783327\n",
      "[4750]\ttraining's auc: 0.820996\tvalid_1's auc: 0.783371\n",
      "[4800]\ttraining's auc: 0.821258\tvalid_1's auc: 0.783416\n",
      "[4850]\ttraining's auc: 0.821503\tvalid_1's auc: 0.783464\n",
      "[4900]\ttraining's auc: 0.821741\tvalid_1's auc: 0.78351\n",
      "[4950]\ttraining's auc: 0.82197\tvalid_1's auc: 0.783555\n",
      "[5000]\ttraining's auc: 0.822218\tvalid_1's auc: 0.783605\n",
      "Did not meet early stopping. Best iteration is:\n",
      "[5000]\ttraining's auc: 0.822218\tvalid_1's auc: 0.783605\n"
     ]
    },
    {
     "data": {
      "image/png": "[encoded data removed]",
      "text/plain": [
       "<Figure size 640x480 with 1 Axes>"
      ]
     },
     "metadata": {},
     "output_type": "display_data"
    }
   ],
   "source": [
    "\n",
    "for i in range(0,num):\n",
    "\n",
    "    tr_data = lgb.Dataset(trains[i][features], label=trains[i][target])\n",
    "    va_data = lgb.Dataset(valids[i][features], label=valids[i][target])\n",
    "    \n",
    "    del trains\n",
    "    del valids\n",
    "    gc.collect()\n",
    "\n",
    "    model = lgb.train(\n",
    "        params, \n",
    "        tr_data,\n",
    "        num_boost_round=500,\n",
    "        #valid_sets=[(train_df[features],train_df[target]), (valid_df[features],valid_df[target])], \n",
    "        valid_sets=[tr_data, va_data],\n",
    "        early_stopping_rounds=50,\n",
    "        feature_name=features,\n",
    "        categorical_feature=categorical_columns,\n",
    "        verbose_eval=50\n",
    "    )\n",
    "    clfs.append(model)\n",
    "    #print('auc:', roc_auc_score(valid_df[target], model.predict(valid_df[features])))\n",
    "    #model.save_model(f'model.txt')\n",
    "    lgb.plot_importance(model, importance_type='gain')\n",
    "    plt.show()\n",
    "\n",
    "    del tr_data\n",
    "    del va_data\n",
    "    gc.collect()"
   ]
  },
  {
   "cell_type": "markdown",
   "metadata": {
    "papermill": {
     "duration": 0.084916,
     "end_time": "2020-12-14T23:18:07.216196",
     "exception": false,
     "start_time": "2020-12-14T23:18:07.13128",
     "status": "completed"
    },
    "tags": []
   },
   "source": [
    "# Inference"
   ]
  },
  {
   "cell_type": "code",
   "execution_count": 61,
   "metadata": {
    "papermill": {
     "duration": 1.329476,
     "end_time": "2020-12-14T23:18:08.629765",
     "exception": false,
     "start_time": "2020-12-14T23:18:07.300289",
     "status": "completed"
    },
    "tags": []
   },
   "outputs": [
    {
     "data": {
      "text/plain": [
       "0"
      ]
     },
     "execution_count": 61,
     "metadata": {},
     "output_type": "execute_result"
    }
   ],
   "source": [
    "user_sum_dict = user_agg['sum'].astype('int16').to_dict(defaultdict(int))\n",
    "user_count_dict = user_agg['count'].astype('int16').to_dict(defaultdict(int))\n",
    "content_sum_dict = content_agg['sum'].astype('int32').to_dict(defaultdict(int))\n",
    "content_count_dict = content_agg['count'].astype('int32').to_dict(defaultdict(int))\n",
    "\n",
    "task_container_sum_dict = task_container_agg['sum'].astype('int32').to_dict(defaultdict(int))\n",
    "task_container_count_dict = task_container_agg['count'].astype('int32').to_dict(defaultdict(int))\n",
    "task_container_std_dict = task_container_agg['var'].astype('float16').to_dict(defaultdict(int))\n",
    "\n",
    "explanation_sum_dict = explanation_agg['sum'].astype('int16').to_dict(defaultdict(int))\n",
    "explanation_count_dict = explanation_agg['count'].astype('int16').to_dict(defaultdict(int))"
   ]
  },
  {
   "cell_type": "code",
   "execution_count": 62,
   "metadata": {
    "papermill": {
     "duration": 1.029558,
     "end_time": "2020-12-14T23:18:09.755493",
     "exception": false,
     "start_time": "2020-12-14T23:18:08.725935",
     "status": "completed"
    },
    "tags": []
   },
   "outputs": [
    {
     "data": {
      "text/plain": [
       "0"
      ]
     },
     "execution_count": 62,
     "metadata": {},
     "output_type": "execute_result"
    }
   ],
   "source": [
    "user_lecture_sum_dict = user_lecture_agg['sum'].astype('int16').to_dict(defaultdict(int))\n",
    "user_lecture_count_dict = user_lecture_agg['count'].astype('int16').to_dict(defaultdict(int))\n",
    "\n",
    "lagtime_mean_dict = lagtime_agg['mean'].astype('int32').to_dict(defaultdict(int))"
   ]
  },
  {
   "cell_type": "code",
   "execution_count": 63,
   "metadata": {
    "papermill": {
     "duration": 17.63684,
     "end_time": "2020-12-14T23:18:27.479727",
     "exception": false,
     "start_time": "2020-12-14T23:18:09.842887",
     "status": "completed"
    },
    "tags": []
   },
   "outputs": [
    {
     "data": {
      "text/plain": [
       "0"
      ]
     },
     "execution_count": 63,
     "metadata": {},
     "output_type": "execute_result"
    }
   ],
   "source": [
    "attempt_no_agg=attempt_no_agg[attempt_no_agg['sum'] >1]\n",
    "attempt_no_sum_dict = attempt_no_agg['sum'].to_dict(defaultdict(int))"
   ]
  },
  {
   "cell_type": "code",
   "execution_count": 64,
   "metadata": {
    "papermill": {
     "duration": 0.919729,
     "end_time": "2020-12-14T23:18:28.485513",
     "exception": false,
     "start_time": "2020-12-14T23:18:27.565784",
     "status": "completed"
    },
    "tags": []
   },
   "outputs": [
    {
     "data": {
      "text/plain": [
       "0"
      ]
     },
     "execution_count": 64,
     "metadata": {},
     "output_type": "execute_result"
    }
   ],
   "source": [
    "max_timestamp_u_dict=max_timestamp_u.set_index('user_id').to_dict()\n",
    "user_prior_question_elapsed_time_dict=user_prior_question_elapsed_time.set_index('user_id').to_dict()"
   ]
  },
  {
   "cell_type": "code",
   "execution_count": 65,
   "metadata": {
    "papermill": {
     "duration": 0.095201,
     "end_time": "2020-12-14T23:18:28.666074",
     "exception": false,
     "start_time": "2020-12-14T23:18:28.570873",
     "status": "completed"
    },
    "tags": []
   },
   "outputs": [
    {
     "data": {
      "text/plain": [
       "393656"
      ]
     },
     "execution_count": 65,
     "metadata": {},
     "output_type": "execute_result"
    }
   ],
   "source": [
    "len(max_timestamp_u_dict['max_time_stamp'])"
   ]
  },
  {
   "cell_type": "code",
   "execution_count": 66,
   "metadata": {
    "papermill": {
     "duration": 0.097785,
     "end_time": "2020-12-14T23:18:28.852995",
     "exception": false,
     "start_time": "2020-12-14T23:18:28.75521",
     "status": "completed"
    },
    "tags": []
   },
   "outputs": [],
   "source": [
    "def get_max_attempt(user_id,content_id):\n",
    "    k = (user_id,content_id)\n",
    "\n",
    "    if k in attempt_no_sum_dict.keys():\n",
    "        attempt_no_sum_dict[k]+=1\n",
    "        return attempt_no_sum_dict[k]\n",
    "\n",
    "    attempt_no_sum_dict[k] = 1\n",
    "    return attempt_no_sum_dict[k]"
   ]
  },
  {
   "cell_type": "code",
   "execution_count": 67,
   "metadata": {
    "papermill": {
     "duration": 0.099683,
     "end_time": "2020-12-14T23:18:29.040325",
     "exception": false,
     "start_time": "2020-12-14T23:18:28.940642",
     "status": "completed"
    },
    "tags": []
   },
   "outputs": [
    {
     "name": "stdout",
     "output_type": "stream",
     "text": [
      "16.3\n"
     ]
    }
   ],
   "source": [
    "print(psutil.virtual_memory().percent)"
   ]
  },
  {
   "cell_type": "markdown",
   "metadata": {
    "papermill": {
     "duration": 0.09523,
     "end_time": "2020-12-14T23:18:29.237949",
     "exception": false,
     "start_time": "2020-12-14T23:18:29.142719",
     "status": "completed"
    },
    "tags": []
   },
   "source": [
    "# SAKT Part II"
   ]
  },
  {
   "cell_type": "code",
   "execution_count": 68,
   "metadata": {
    "papermill": {
     "duration": 5.044192,
     "end_time": "2020-12-14T23:18:34.37302",
     "exception": false,
     "start_time": "2020-12-14T23:18:29.328828",
     "status": "completed"
    },
    "tags": []
   },
   "outputs": [
    {
     "name": "stdout",
     "output_type": "stream",
     "text": [
      "16.3\n"
     ]
    }
   ],
   "source": [
    "#HDKIM SAKT\n",
    "import torch\n",
    "import torch.nn as nn\n",
    "from torch.utils.data import Dataset, DataLoader\n",
    "\n",
    "class FFN(nn.Module):\n",
    "    def __init__(self, state_size=200):\n",
    "        super(FFN, self).__init__()\n",
    "        self.state_size = state_size\n",
    "\n",
    "        self.lr1 = nn.Linear(state_size, state_size)\n",
    "        self.relu = nn.ReLU()\n",
    "        self.lr2 = nn.Linear(state_size, state_size)\n",
    "        self.dropout = nn.Dropout(0.2)\n",
    "    \n",
    "    def forward(self, x):\n",
    "        x = self.lr1(x)\n",
    "        x = self.relu(x)\n",
    "        x = self.lr2(x)\n",
    "        return self.dropout(x)\n",
    "\n",
    "def future_mask(seq_length):\n",
    "    future_mask = np.triu(np.ones((seq_length, seq_length)), k=1).astype('bool')\n",
    "    return torch.from_numpy(future_mask)\n",
    "\n",
    "class SAKTModel(nn.Module):\n",
    "    def __init__(self, n_skill, max_seq=MAX_SEQ, embed_dim=128): #HDKIM 100\n",
    "        super(SAKTModel, self).__init__()\n",
    "        self.n_skill = n_skill\n",
    "        self.embed_dim = embed_dim\n",
    "\n",
    "        self.embedding = nn.Embedding(2*n_skill+1, embed_dim)\n",
    "        self.pos_embedding = nn.Embedding(max_seq-1, embed_dim)\n",
    "        self.e_embedding = nn.Embedding(n_skill+1, embed_dim)\n",
    "\n",
    "        self.multi_att = nn.MultiheadAttention(embed_dim=embed_dim, num_heads=8, dropout=0.2)\n",
    "\n",
    "        self.dropout = nn.Dropout(0.2)\n",
    "        self.layer_normal = nn.LayerNorm(embed_dim) \n",
    "\n",
    "        self.ffn = FFN(embed_dim)\n",
    "        self.pred = nn.Linear(embed_dim, 1)\n",
    "    \n",
    "    def forward(self, x, question_ids):\n",
    "        device = x.device        \n",
    "        x = self.embedding(x)\n",
    "        pos_id = torch.arange(x.size(1)).unsqueeze(0).to(device)\n",
    "\n",
    "        pos_x = self.pos_embedding(pos_id)\n",
    "        x = x + pos_x\n",
    "\n",
    "        e = self.e_embedding(question_ids)\n",
    "\n",
    "        x = x.permute(1, 0, 2) # x: [bs, s_len, embed] => [s_len, bs, embed]\n",
    "        e = e.permute(1, 0, 2)\n",
    "        att_mask = future_mask(x.size(0)).to(device)\n",
    "        att_output, att_weight = self.multi_att(e, x, x, attn_mask=att_mask)\n",
    "        att_output = self.layer_normal(att_output + e)\n",
    "        att_output = att_output.permute(1, 0, 2) # att_output: [s_len, bs, embed] => [bs, s_len, embed]\n",
    "\n",
    "        x = self.ffn(att_output)\n",
    "        x = self.layer_normal(x + att_output)\n",
    "        x = self.pred(x)\n",
    "\n",
    "        return x.squeeze(-1), att_weight\n",
    "    \n",
    "class TestDataset(Dataset):\n",
    "    def __init__(self, samples, test_df, skills, max_seq=MAX_SEQ): #HDKIM 100\n",
    "        super(TestDataset, self).__init__()\n",
    "        self.samples = samples\n",
    "        self.user_ids = [x for x in test_df[\"user_id\"].unique()]\n",
    "        self.test_df = test_df\n",
    "        self.skills = skills\n",
    "        self.n_skill = len(skills)\n",
    "        self.max_seq = max_seq\n",
    "\n",
    "    def __len__(self):\n",
    "        return self.test_df.shape[0]\n",
    "\n",
    "    def __getitem__(self, index):\n",
    "        test_info = self.test_df.iloc[index]\n",
    "\n",
    "        user_id = test_info[\"user_id\"]\n",
    "        target_id = test_info[\"content_id\"]\n",
    "\n",
    "        q = np.zeros(self.max_seq, dtype=int)\n",
    "        qa = np.zeros(self.max_seq, dtype=int)\n",
    "\n",
    "        if user_id in self.samples.index:\n",
    "            q_, qa_ = self.samples[user_id]\n",
    "            \n",
    "            seq_len = len(q_)\n",
    "\n",
    "            if seq_len >= self.max_seq:\n",
    "                q = q_[-self.max_seq:]\n",
    "                qa = qa_[-self.max_seq:]\n",
    "            else:\n",
    "                q[-seq_len:] = q_\n",
    "                qa[-seq_len:] = qa_          \n",
    "        \n",
    "        x = np.zeros(self.max_seq-1, dtype=int)\n",
    "        x = q[1:].copy()\n",
    "        x += (qa[1:] == 1) * self.n_skill\n",
    "        \n",
    "        questions = np.append(q[2:], [target_id])\n",
    "        \n",
    "        return x, questions\n",
    "\n",
    "device = torch.device(\"cuda\" if torch.cuda.is_available() else \"cpu\")\n",
    "SAKT_model = SAKTModel(n_skill, embed_dim=128)\n",
    "\n",
    "SAKT_model.load_state_dict(torch.load(\"/data/elastic-notebook/data/sakt-model/SAKT-HDKIM.pt\", map_location='cpu'))\n",
    "\n",
    "SAKT_model.to(device)\n",
    "SAKT_model.eval()\n",
    "\n",
    "import pickle\n",
    "group = pickle.load(open(\"group.pkl\", \"rb\"))\n",
    "\n",
    "print(psutil.virtual_memory().percent)\n",
    "\n",
    "#HDKIMHDKIM"
   ]
  }
 ],
 "metadata": {
  "kernelspec": {
   "display_name": "Python 3 (ipykernel)",
   "language": "python",
   "name": "python3"
  },
  "language_info": {
   "codemirror_mode": {
    "name": "ipython",
    "version": 3
   },
   "file_extension": ".py",
   "mimetype": "text/x-python",
   "name": "python",
   "nbconvert_exporter": "python",
   "pygments_lexer": "ipython3",
   "version": "3.8.10"
  }
 },
 "nbformat": 4,
 "nbformat_minor": 4
}

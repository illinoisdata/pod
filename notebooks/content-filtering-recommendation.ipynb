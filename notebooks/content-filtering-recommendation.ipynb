{
 "cells": [
  {
   "cell_type": "code",
   "execution_count": 1,
   "metadata": {},
   "outputs": [],
   "source": [
    "#Importing the necessary libraries and packages\n",
    "import numpy as np\n",
    "import pandas as pd\n",
    "import json\n",
    "from itertools import islice\n",
    "import matplotlib.pyplot as plt\n",
    "import seaborn as sns\n",
    "import os\n",
    "from nltk.corpus import stopwords\n",
    "from nltk.tokenize import word_tokenize\n",
    "from nltk.stem.wordnet import WordNetLemmatizer\n",
    "from sklearn.feature_extraction.text import TfidfVectorizer\n",
    "from sklearn.metrics.pairwise import linear_kernel"
   ]
  },
  {
   "cell_type": "markdown",
   "metadata": {},
   "source": [
    "## Arxiv Dataset and Recommendations:\n",
    "Arxiv Dataset is a public dataset available on [Kaggle](https://www.kaggle.com/datasets/Cornell-University/arxiv) and comprises of the meta data associated with all the research papers and articles that are published and put for display on the arxiv website. Since the dataset comprises of the meta-data rather than the complete documents and such, this meta data can be utilized to generate recommendations for its users based on what the user has already searched or looked into, which is also the purpose of this notebook.\n",
    "\n",
    "The approach we are going to take with this is that we are going to take a huge sample of articles from the given resource. We will then assume that some M number of articles/papers are those that the user has already viewed, which will then go on to generate the user profile. All the other articles we are going to take as those from which recommendations have to be given to the user. This generates a typical scenario where the user has read M documents and recommendations are to be given from the remaining N documents on the website (We are assuming that the user will not be recommended articles that he has already viewed, which is not quite the case). \n",
    "\n",
    "Note that this scenario represents a snapshot of the whole recommendation process rather the whole process itself. A recommendation process is iterative in nature i.e. the user reads a new document, it gets read and gets added to the user profile, which in turn results in updating the recommendations to the user as well. Here we are assuming some instance of the whole process.\n",
    "\n",
    "## Loading the Data:\n",
    "The data for the arxiv website is stored in JSON format. We are going to parse this JSON file as a generator object and fetch the first 250000 records from it (its not necessary to fetch the first ones but I have done so for simplicity). After obtaining the records, we distribute them into two sets i.e. user profile set and recommendations set. For our case, we have assumed that the user has read 500 random articles/papers from these articles, whereas the remaining ones are present on the website for recommendation purposes. Finally, to obtain a clear version of the dataframe, we clean out the unnecessary meta-data features to keep only those features which will help us determine the appropriate recommendations."
   ]
  },
  {
   "cell_type": "code",
   "execution_count": 2,
   "metadata": {},
   "outputs": [],
   "source": [
    "#Utility function to yield data from the stored file\n",
    "def extract_data(datapath):\n",
    "    with open(datapath, 'r') as datafile:\n",
    "        for line in datafile:\n",
    "            yield line\n",
    "            \n",
    "#Defining FILE_PATH variable\n",
    "BASE_PATH = '/data/elastic-notebook/data/arxiv-metadata-oai-snapshot/'\n",
    "FILE_NAME =  'arxiv-metadata-oai-snapshot.json'\n",
    "FILE_PATH = os.path.join(BASE_PATH, FILE_NAME)\n",
    "\n",
    "#Extracting data from input file as a data generator\n",
    "data_gen = extract_data(FILE_PATH)"
   ]
  },
  {
   "cell_type": "code",
   "execution_count": 3,
   "metadata": {},
   "outputs": [],
   "source": [
    "#Utility function to yield N records from the data generator\n",
    "def fetch_n_records(data_gen, chunksize=500):\n",
    "    return [json.loads(record) for record in islice(data_gen, chunksize)]\n",
    "\n",
    "#Fetching 150000 records from the given data for the use of recommender systems\n",
    "CHUNK_SIZE = 250000\n",
    "data_records = fetch_n_records(data_gen, CHUNK_SIZE)"
   ]
  },
  {
   "cell_type": "code",
   "execution_count": 4,
   "metadata": {},
   "outputs": [],
   "source": [
    "#Resampling method to fetch records for generating user_profile and recommendation algorithm\n",
    "def split_records(data_records, profile_capacity=100, random_state=42):\n",
    "    np.random.seed(random_state)\n",
    "    np.random.shuffle(data_records)\n",
    "    profile_records, recommend_records = data_records[:profile_capacity], data_records[profile_capacity:]\n",
    "    return profile_records, recommend_records\n",
    "\n",
    "#Splitting the fetched records into profile and recommendation records\n",
    "profile_records, recommend_records = split_records(data_records, profile_capacity=500)"
   ]
  },
  {
   "cell_type": "code",
   "execution_count": 5,
   "metadata": {},
   "outputs": [],
   "source": [
    "#Utility method to generate dataframe from list of dictionaries\n",
    "def get_dataframe(list_of_dicts, columns=None):\n",
    "    data = pd.DataFrame(list_of_dicts)\n",
    "    if columns:\n",
    "        data.columns = columns\n",
    "    return data\n",
    "\n",
    "#Generating dataframes for profile and recommend records\n",
    "profile_df = get_dataframe(profile_records)\n",
    "recommend_df = get_dataframe(recommend_records)"
   ]
  },
  {
   "cell_type": "code",
   "execution_count": 6,
   "metadata": {},
   "outputs": [],
   "source": [
    "#Utility method to filter out certain features which are of use\n",
    "def filter_features(data, features):\n",
    "    return data[features]\n",
    "\n",
    "#Filtering the profile and recommendation dataframes for useful features\n",
    "useful_features = ['title', 'categories', 'abstract', 'update_date']\n",
    "profile_df = filter_features(profile_df, useful_features)\n",
    "recommend_df = filter_features(recommend_df, useful_features)"
   ]
  },
  {
   "cell_type": "markdown",
   "metadata": {},
   "source": [
    "## Category Based Filtering and Ranking:\n",
    "For the given dataset, we find that the meta-data has four attributes (title, categories, abstract, update_date) that can be utilized the best on the basis of which we can perform recommendations (we can also use authors if we want to but I skipped them for this case). So first we need to filter out the N documents from the dataset and we will use the category attribute to determine it. This is because categories by meaning have more relevance and weight in terms of recommending new articles/papers in comparison to the other three attributes. \n",
    "\n",
    "To perform this filtering, we will first generate the category set for each record in the user profile dataframe and then count the occurrence of each category in total for the user profile. This gives us a category vector that represents the user profile with each key in the vector representing the weight of what the user views or reads. Using this computed vector, we can compute the score for each paper in the recommendation data by summation of weights for categories that represent that particular paper. \n",
    "\n",
    "This computed category score can be used for ranking the papers/articles in the recommendation data and sorted with a secondary attribute of update_date (since users are likely to visit the latest documents though not always if we keep contextual information in mind). Finally some top N (in our case 1000) papers from the set based on this category score and update date."
   ]
  },
  {
   "cell_type": "code",
   "execution_count": 7,
   "metadata": {},
   "outputs": [],
   "source": [
    "#Utility method to fetch the required possible categories\n",
    "def fetch_categories(df, category_col):\n",
    "    categories = set()\n",
    "    for i in range(len(df)):\n",
    "        categories.update(x for x in df.iloc[i][category_col].split())\n",
    "    return categories\n",
    "\n",
    "#Fetching all possible categories for the given data\n",
    "categories = fetch_categories(profile_df, 'categories') | fetch_categories(recommend_df, 'categories')"
   ]
  },
  {
   "cell_type": "code",
   "execution_count": 8,
   "metadata": {},
   "outputs": [],
   "source": [
    "#Utility method to generate category vector given categories of a certain item\n",
    "def generate_category_vector(item_cat):\n",
    "    item_cat = set(x for x in item_cat.split())\n",
    "    return item_cat\n",
    "\n",
    "#Generate category vector for each item in the user profile and recommender datasets\n",
    "profile_df['category_vectors'] = profile_df['categories'].apply(generate_category_vector)\n",
    "recommend_df['category_vectors'] = recommend_df['categories'].apply(generate_category_vector)"
   ]
  },
  {
   "cell_type": "code",
   "execution_count": 9,
   "metadata": {},
   "outputs": [],
   "source": [
    "#Utility method to generate category vector for user profile\n",
    "def generate_category_vector(user_data, category_col):\n",
    "    user_cats = {}\n",
    "    for i, row in user_data.iterrows():\n",
    "        cats = row[category_col]\n",
    "        for cat in cats:\n",
    "            user_cats[cat] = user_cats.get(cat, 0) + 1\n",
    "    return user_cats\n",
    "\n",
    "#Generating the user profile category vector\n",
    "user_cat_vector = generate_category_vector(profile_df, 'category_vectors')"
   ]
  },
  {
   "cell_type": "code",
   "execution_count": 10,
   "metadata": {},
   "outputs": [
    {
     "data": {
      "image/png": "[encoded data removed]",
      "text/plain": [
       "<Figure size 600x600 with 1 Axes>"
      ]
     },
     "metadata": {},
     "output_type": "display_data"
    }
   ],
   "source": [
    "#Visualizing the top 20 categories as per the obtained vector\n",
    "def visualize_top_cat(user_cat_vector, N=10):\n",
    "    sorted_vector = sorted(user_cat_vector.items(), key=lambda x:x[1], reverse=True)\n",
    "    top_N_values = list(islice(sorted_vector, N))\n",
    "    labels, values = zip(*top_N_values)\n",
    "    \n",
    "    plt.figure(figsize=(6,6))\n",
    "    x_values = [x for x in range(len(labels))]\n",
    "    plt.bar(x_values, values)\n",
    "    \n",
    "    plt.xticks(ticks=x_values, labels=labels, rotation=90)\n",
    "    plt.ylabel(\"Weight of Category\")\n",
    "    plt.xlabel(\"Categories\")\n",
    "    plt.title(\"Category Weightage\")\n",
    "    \n",
    "    plt.show()\n",
    "\n",
    "#Visual representation of top 20 categories with most views for the user\n",
    "visualize_top_cat(user_cat_vector, N=20)"
   ]
  },
  {
   "cell_type": "code",
   "execution_count": 11,
   "metadata": {},
   "outputs": [],
   "source": [
    "#Utility method to generate category score for recommended items\n",
    "def compute_recommend_score(recommend_item, user_cat_vector, filter_records):\n",
    "    score = 0\n",
    "    for item in recommend_item:\n",
    "        if item in filter_records:\n",
    "            continue\n",
    "        if item in user_cat_vector:\n",
    "            score += user_cat_vector[item]\n",
    "    return score\n",
    "\n",
    "#Compute the category score for each recommendation\n",
    "recommend_df['category_score'] = recommend_df['category_vectors'].apply(compute_recommend_score, \n",
    "                                                                        user_cat_vector=user_cat_vector,\n",
    "                                                                        filter_records=['math.IT', 'math-ph'])"
   ]
  },
  {
   "cell_type": "code",
   "execution_count": 12,
   "metadata": {},
   "outputs": [],
   "source": [
    "#Utility method to fetch first N records from recommended items based on certain feature(s)\n",
    "def fetch_N_recommendations(recommend_data, features, N=50):\n",
    "    recommendations = recommend_data.sort_values(features, ascending=False).head(N)\n",
    "    return recommendations\n",
    "\n",
    "#Fetch the first 1000 records based on category score for recommendations\n",
    "recommendations_df = fetch_N_recommendations(recommend_df, features=['category_score', 'update_date'], N=1000)"
   ]
  },
  {
   "cell_type": "markdown",
   "metadata": {},
   "source": [
    "## Title Based Filtering and Ranking:\n",
    "Now that we have the top 1000 recommended items based on the category score, we can utilize the next attribute to sort these obtained papers i.e. the title of the paper/article. To perform filtering based on title, we undergo a set of preprocessing steps on the title of each paper (for both user profile dataframe as well as recommendations dataframe). I have listed these processes and the outcomes for them in a bullet list as follows:\n",
    "\n",
    "* Lowercasing -> Converts the whole title into lowercase format\n",
    "* Tokenization -> Converts the lowercased title into a set of word tokens\n",
    "* Lemmatization -> Generates lemmatized words from the obtained tokens\n",
    "* Stopword Removal -> Removes all tokens which are stopwords in nature\n",
    "* Garbage Removal -> Removes all such characters which are useless for our case (punctuations, numbers)\n",
    "* Final Result -> Joins all the tokens into a single string (removes unit length tokens) and removes extra spaces from both sides\n",
    "\n",
    "The resultant obtained is stored as a new feature named 'preprocessed_title'.\n",
    "\n",
    "### Tf-idf Vectorization for User Profile:\n",
    "Since we need to use the user profile to compare the number of common words in documents, we will first generate tf-idf vectorizer for the user profile as well as the tf-idf vectors for it. This is done by using the __.fit_transform()__ method by passing the generated __preprocessed_title__ feature to the method.\n",
    "\n",
    "### Tf-idf Vectorization for Recommended Documents:\n",
    "The vectorizer is obtained for user_profile so that we can later use it to transform the records in the recommendations dataframe. The transform() method allows to take an already fitted vectorizer and filter out only the words from other documents that are part of the vectorizer itself. Once filtered, it then computes the tf-idf score for each word in each document. \n",
    "\n",
    "The tf-idf vectors that are obtained as a result of transform() method for both user profile as well as recommendations is a matrix that comprises of the words in the vectorizer as the set of columns and the different documents on which they are computed as the number of records. Thus, each cell contains the tf-idf score of a particular word (column) in a particular document (row). In our case, this gives the representation of unique words, used in the different titles that the user have viewed, in terms of the recommended paper's titles.\n",
    "\n",
    "### Cosine Similarity between Tf-idf Vectors:\n",
    "Now that both the user_profile and recommendations are represented as a set of tf-idf vectors for the same set of words, we can compute the similarity between each of the paper/article in the user profile and each paper/article in the recommendations. This is done by using pairwise cosine similarity between the two resultant tf-idf representations for the processed titles for the two dataframes. The resultant gives us a 500x1000 order matrix, where each row represents the cosine similarity for each user viewed document with all recommendation documents and each column represents the cosine similarity for each recommendation document with all the user viewed documents.\n",
    "\n",
    "### Cosine Similarity Filtering and Ranking:\n",
    "Since we require the similarity results for recommendations only (since they have to be used for recommendation purposes), we can sum the obtained results column-wise, giving us a singular vector of length 1000 (number of recommendation items). This result can be indexed before sorting so that the true index of each item can be remembered. Finally, we sort the result based on the highest similarity score to the lowest and use the indices values present with each value to fetch top 100 records with the most similarity to the titles already viewed by the user."
   ]
  },
  {
   "cell_type": "code",
   "execution_count": 13,
   "metadata": {},
   "outputs": [],
   "source": [
    "#Utility method to preprocess text\n",
    "def preprocess_text(text, accepted_puncs={'_','-'}):\n",
    "    lowercased = text.lower()\n",
    "    tokenized = word_tokenize(lowercased)\n",
    "    lemmatizer = WordNetLemmatizer()\n",
    "    lemmatized = [lemmatizer.lemmatize(token) for token in tokenized]\n",
    "    stop_words = set(stopwords.words('english'))\n",
    "    stopwords_free = ' '.join(x for x in lemmatized if (x not in stop_words))\n",
    "    garbage_free = ''.join(x for x in stopwords_free if ((x.isalpha()) or (x in accepted_puncs) or (x == ' ')))\n",
    "    final_result = ' '.join(x for x in garbage_free.split() if len(x) > 1)\n",
    "    return final_result.strip()\n",
    "\n",
    "#Preprocessing title for both dataframes\n",
    "profile_df['preprocessed_title'] = profile_df['title'].apply(preprocess_text)\n",
    "recommendations_df['preprocessed_title'] = recommendations_df['title'].apply(preprocess_text)"
   ]
  },
  {
   "cell_type": "code",
   "execution_count": 14,
   "metadata": {},
   "outputs": [],
   "source": [
    "#Utility function to compute tf-idf vectors for each record in the user profile\n",
    "def generate_user_tfidf_vector(user_data, feature_col):\n",
    "    profile_vectorizer = TfidfVectorizer()\n",
    "    profile_vectors = profile_vectorizer.fit_transform(user_data[feature_col])\n",
    "    return profile_vectorizer, profile_vectors\n",
    "\n",
    "#Obtain user profile vectorizer and vectors for preprocessed titles\n",
    "profile_vectorizer, profile_vectors = generate_user_tfidf_vector(profile_df, 'preprocessed_title')"
   ]
  },
  {
   "cell_type": "code",
   "execution_count": 15,
   "metadata": {},
   "outputs": [],
   "source": [
    "#Utility function to generate tfidf vectors for each record in recommendation items\n",
    "def generate_recommend_tfidf_vector(recommend_data, feature_col, profile_vectorizer):\n",
    "    recommend_vectors = profile_vectorizer.transform(recommend_data[feature_col])\n",
    "    return recommend_vectors\n",
    "\n",
    "#Obtain recommendation vectors for preprocessed titles using obtained user profile vectorizer\n",
    "recommendations_vectors = generate_recommend_tfidf_vector(recommendations_df, 'preprocessed_title', profile_vectorizer)"
   ]
  },
  {
   "cell_type": "code",
   "execution_count": 16,
   "metadata": {},
   "outputs": [],
   "source": [
    "#Utility function to compute pairwise cosine similarity between tf-idf vectors of documents\n",
    "def compute_pairwise_cosine_similarity(profle_vectors, recommend_vectors):\n",
    "    cosine_similarities = linear_kernel(profile_vectors, recommend_vectors)\n",
    "    cosine_vector = np.sum(cosine_similarities, axis=0)\n",
    "    return cosine_vector\n",
    "\n",
    "#Compute cosine similarity vector for user profile and recommendation items\n",
    "cosine_vector = compute_pairwise_cosine_similarity(profile_vectors, recommendations_vectors)"
   ]
  },
  {
   "cell_type": "code",
   "execution_count": 17,
   "metadata": {},
   "outputs": [],
   "source": [
    "#Utility function to generate an ordered dictionary of indices for each recommendation based on similarity\n",
    "def generate_similarity_indices_dict(cosine_vector):\n",
    "    indices_dict = {i:v for i,v in enumerate(cosine_vector)}\n",
    "    indices_dict = dict(sorted(indices_dict.items(), key = lambda x: x[1], reverse=True))\n",
    "    return indices_dict\n",
    "\n",
    "#Generate indices dict to select relevant items from recommendations\n",
    "indices_dict = generate_similarity_indices_dict(cosine_vector)"
   ]
  },
  {
   "cell_type": "code",
   "execution_count": 18,
   "metadata": {},
   "outputs": [],
   "source": [
    "#Utility function to fetch first N similar recommendation items\n",
    "def fetch_N_closest(recommend_df, indices_dict, N=200, sort_features=None):\n",
    "    top_N_indices = list(islice(indices_dict.keys(), N))\n",
    "    top_N_items = recommend_df.iloc[top_N_indices]\n",
    "    if sort_features:\n",
    "        top_N_items = top_N_items.sort_values(sort_features, ascending=False)\n",
    "    return top_N_items\n",
    "\n",
    "#Fetch top 100 recommendation items based on the similarity score\n",
    "N_closest_titles = fetch_N_closest(recommendations_df, indices_dict, N=500, sort_features='update_date')"
   ]
  },
  {
   "cell_type": "markdown",
   "metadata": {},
   "source": [
    "## Abstract Based Filtering and Ranking:\n",
    "The abstract based filtering makes use of the same steps as in the case of title, the difference being that we have now replaced the text in hand from titles to abstracts. The preprocessing, tf-idf generation, cosine similarity computation and recommendation filtering steps remain the same. The final output is sorted by the update date and is the resultant for our content filtering recommender."
   ]
  },
  {
   "cell_type": "code",
   "execution_count": 19,
   "metadata": {},
   "outputs": [],
   "source": [
    "#Preprocessing abstract for both dataframes\n",
    "profile_df['preprocessed_abstract'] = profile_df['abstract'].apply(preprocess_text)\n",
    "N_closest_titles['preprocessed_abstract'] = N_closest_titles['abstract'].apply(preprocess_text)"
   ]
  },
  {
   "cell_type": "code",
   "execution_count": 20,
   "metadata": {},
   "outputs": [],
   "source": [
    "#Obtain user profile vectorizer and vectors for preprocessed abstracts\n",
    "profile_vectorizer, profile_vectors = generate_user_tfidf_vector(profile_df, 'preprocessed_abstract')"
   ]
  },
  {
   "cell_type": "code",
   "execution_count": 21,
   "metadata": {},
   "outputs": [],
   "source": [
    "#Obtain recommendation vectors for preprocessed abstracts using obtained user profile vectorizer\n",
    "recommendations_vectors = generate_recommend_tfidf_vector(N_closest_titles, 'preprocessed_abstract', profile_vectorizer)"
   ]
  },
  {
   "cell_type": "code",
   "execution_count": 22,
   "metadata": {},
   "outputs": [],
   "source": [
    "#Compute cosine similarity vector for user profile and recommendation items\n",
    "cosine_vector = compute_pairwise_cosine_similarity(profile_vectors, recommendations_vectors)"
   ]
  },
  {
   "cell_type": "code",
   "execution_count": 23,
   "metadata": {},
   "outputs": [],
   "source": [
    "#Generate indices dict to select relevant items from recommendations\n",
    "indices_dict = generate_similarity_indices_dict(cosine_vector)"
   ]
  },
  {
   "cell_type": "code",
   "execution_count": 24,
   "metadata": {},
   "outputs": [],
   "source": [
    "#Fetch top 10 recommendation items based on the similarity score\n",
    "N_closest_abstracts = fetch_N_closest(N_closest_titles, indices_dict, N=100, sort_features='update_date')\n",
    "N_closest_documents = N_closest_abstracts[['title', 'categories', 'abstract', 'update_date', 'category_vectors']]"
   ]
  },
  {
   "cell_type": "code",
   "execution_count": 25,
   "metadata": {},
   "outputs": [
    {
     "data": {
      "text/html": [
       "<div>\n",
       "<style scoped>\n",
       "    .dataframe tbody tr th:only-of-type {\n",
       "        vertical-align: middle;\n",
       "    }\n",
       "\n",
       "    .dataframe tbody tr th {\n",
       "        vertical-align: top;\n",
       "    }\n",
       "\n",
       "    .dataframe thead th {\n",
       "        text-align: right;\n",
       "    }\n",
       "</style>\n",
       "<table border=\"1\" class=\"dataframe\">\n",
       "  <thead>\n",
       "    <tr style=\"text-align: right;\">\n",
       "      <th></th>\n",
       "      <th>title</th>\n",
       "      <th>categories</th>\n",
       "      <th>abstract</th>\n",
       "      <th>update_date</th>\n",
       "      <th>category_vectors</th>\n",
       "    </tr>\n",
       "  </thead>\n",
       "  <tbody>\n",
       "    <tr>\n",
       "      <th>227214</th>\n",
       "      <td>Abnormal Quantum Gravity Effect: Experimental ...</td>\n",
       "      <td>gr-qc astro-ph.CO cond-mat.quant-gas hep-th ma...</td>\n",
       "      <td>From the general assumption that gravity ori...</td>\n",
       "      <td>2018-12-05</td>\n",
       "      <td>{gr-qc, math.MP, cond-mat.quant-gas, quant-ph,...</td>\n",
       "    </tr>\n",
       "    <tr>\n",
       "      <th>94902</th>\n",
       "      <td>Dark matter and dark gauge fields</td>\n",
       "      <td>hep-ph astro-ph hep-th</td>\n",
       "      <td>Following the unexpected theoretical discove...</td>\n",
       "      <td>2017-08-23</td>\n",
       "      <td>{hep-th, hep-ph, astro-ph}</td>\n",
       "    </tr>\n",
       "    <tr>\n",
       "      <th>26479</th>\n",
       "      <td>Scaling of Entanglement Entropy at 2D quantum ...</td>\n",
       "      <td>cond-mat.str-el cond-mat.mes-hall cond-mat.sta...</td>\n",
       "      <td>The entanglement entropy of a pure quantum s...</td>\n",
       "      <td>2016-09-08</td>\n",
       "      <td>{quant-ph, cond-mat.mes-hall, cond-mat.str-el,...</td>\n",
       "    </tr>\n",
       "    <tr>\n",
       "      <th>115054</th>\n",
       "      <td>Dynamical Dirac Mass Generation in the Supersy...</td>\n",
       "      <td>hep-ph cond-mat.mes-hall cond-mat.str-el cond-...</td>\n",
       "      <td>The dynamical generation of Dirac mass in th...</td>\n",
       "      <td>2016-09-08</td>\n",
       "      <td>{gr-qc, cond-mat.mes-hall, hep-ph, cond-mat.su...</td>\n",
       "    </tr>\n",
       "    <tr>\n",
       "      <th>161472</th>\n",
       "      <td>Perturbations In A Non-Uniform Dark Energy Flu...</td>\n",
       "      <td>astro-ph gr-qc hep-ph hep-th</td>\n",
       "      <td>We propose a unified single-field descriptio...</td>\n",
       "      <td>2016-05-25</td>\n",
       "      <td>{gr-qc, hep-th, hep-ph, astro-ph}</td>\n",
       "    </tr>\n",
       "  </tbody>\n",
       "</table>\n",
       "</div>"
      ],
      "text/plain": [
       "                                                    title  \\\n",
       "227214  Abnormal Quantum Gravity Effect: Experimental ...   \n",
       "94902                   Dark matter and dark gauge fields   \n",
       "26479   Scaling of Entanglement Entropy at 2D quantum ...   \n",
       "115054  Dynamical Dirac Mass Generation in the Supersy...   \n",
       "161472  Perturbations In A Non-Uniform Dark Energy Flu...   \n",
       "\n",
       "                                               categories  \\\n",
       "227214  gr-qc astro-ph.CO cond-mat.quant-gas hep-th ma...   \n",
       "94902                              hep-ph astro-ph hep-th   \n",
       "26479   cond-mat.str-el cond-mat.mes-hall cond-mat.sta...   \n",
       "115054  hep-ph cond-mat.mes-hall cond-mat.str-el cond-...   \n",
       "161472                       astro-ph gr-qc hep-ph hep-th   \n",
       "\n",
       "                                                 abstract update_date  \\\n",
       "227214    From the general assumption that gravity ori...  2018-12-05   \n",
       "94902     Following the unexpected theoretical discove...  2017-08-23   \n",
       "26479     The entanglement entropy of a pure quantum s...  2016-09-08   \n",
       "115054    The dynamical generation of Dirac mass in th...  2016-09-08   \n",
       "161472    We propose a unified single-field descriptio...  2016-05-25   \n",
       "\n",
       "                                         category_vectors  \n",
       "227214  {gr-qc, math.MP, cond-mat.quant-gas, quant-ph,...  \n",
       "94902                          {hep-th, hep-ph, astro-ph}  \n",
       "26479   {quant-ph, cond-mat.mes-hall, cond-mat.str-el,...  \n",
       "115054  {gr-qc, cond-mat.mes-hall, hep-ph, cond-mat.su...  \n",
       "161472                  {gr-qc, hep-th, hep-ph, astro-ph}  "
      ]
     },
     "execution_count": 25,
     "metadata": {},
     "output_type": "execute_result"
    }
   ],
   "source": [
    "#Displaying the top 5 recommended documents\n",
    "N_closest_documents.head()"
   ]
  },
  {
   "cell_type": "code",
   "execution_count": 26,
   "metadata": {},
   "outputs": [
    {
     "data": {
      "image/png": "[encoded data removed]",
      "text/plain": [
       "<Figure size 600x600 with 1 Axes>"
      ]
     },
     "metadata": {},
     "output_type": "display_data"
    }
   ],
   "source": [
    "#Generating the recommendations category vector\n",
    "recommendations_cat_vector = generate_category_vector(N_closest_documents, 'category_vectors')\n",
    "\n",
    "#Visualizing the top categories in the recommendation documents\n",
    "visualize_top_cat(recommendations_cat_vector, N=20)"
   ]
  },
  {
   "cell_type": "markdown",
   "metadata": {},
   "source": [
    "This graph is somewhat related to the user profle category weightage but differs from it as well. This is because category isn't the only factor that has been used in determining the result, rather we have used similarity in titles and abstracts as well as the update_date to provide the latest ones first. These all factors combined give us a similar but not the same graph for the recommended documents. This sums up our implementation of content based filtering recommendation systems. Next time, we will look into collaborative filtering and its different implementations. Happy Learning! "
   ]
  }
 ],
 "metadata": {
  "kernelspec": {
   "display_name": "Python 3 (ipykernel)",
   "language": "python",
   "name": "python3"
  },
  "language_info": {
   "codemirror_mode": {
    "name": "ipython",
    "version": 3
   },
   "file_extension": ".py",
   "mimetype": "text/x-python",
   "name": "python",
   "nbconvert_exporter": "python",
   "pygments_lexer": "ipython3",
   "version": "3.8.10"
  }
 },
 "nbformat": 4,
 "nbformat_minor": 4
}

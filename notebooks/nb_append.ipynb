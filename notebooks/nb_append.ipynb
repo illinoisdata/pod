{
 "cells": [
  {
   "cell_type": "code",
   "execution_count": null,
   "id": "e675fa25-28f6-4f52-8c3c-f137c43fda32",
   "metadata": {},
   "outputs": [],
   "source": [
    "import numpy as np\n",
    "size_in_floats = 128000  # 1 MB"
   ]
  },
  {
   "cell_type": "code",
   "execution_count": null,
   "id": "2192ae09-ef6c-4e0d-b264-67acc707ee30",
   "metadata": {},
   "outputs": [],
   "source": [
    "array_1 = np.random.rand(size_in_floats)"
   ]
  },
  {
   "cell_type": "code",
   "execution_count": null,
   "id": "4845323f-5cea-49f6-b7bf-b579eaa240ac",
   "metadata": {},
   "outputs": [],
   "source": [
    "array_2 = np.random.rand(size_in_floats)"
   ]
  },
  {
   "cell_type": "code",
   "execution_count": null,
   "id": "8f58fe3d-cad6-4118-bc97-b3b43ce79106",
   "metadata": {},
   "outputs": [],
   "source": [
    "array_3 = np.random.rand(size_in_floats)"
   ]
  },
  {
   "cell_type": "code",
   "execution_count": null,
   "id": "7c5ad7d6-f2a0-41ed-b6b7-1e5eaed9ac96",
   "metadata": {},
   "outputs": [],
   "source": [
    "array_4 = np.random.rand(size_in_floats)"
   ]
  },
  {
   "cell_type": "code",
   "execution_count": null,
   "id": "9d2223f1-f526-4330-8a6d-7c9c9664ac9a",
   "metadata": {},
   "outputs": [],
   "source": [
    "array_5 = np.random.rand(size_in_floats)"
   ]
  },
  {
   "cell_type": "code",
   "execution_count": null,
   "id": "ef136989-20ea-474f-bed8-c6d7cc754c28",
   "metadata": {},
   "outputs": [],
   "source": [
    "array_6 = np.random.rand(size_in_floats)"
   ]
  },
  {
   "cell_type": "code",
   "execution_count": null,
   "id": "2cd30ec4-c315-4fa1-865c-892a22704247",
   "metadata": {},
   "outputs": [],
   "source": [
    "array_7 = np.random.rand(size_in_floats)"
   ]
  },
  {
   "cell_type": "code",
   "execution_count": null,
   "id": "4f349215-d850-4a8a-9fad-fde7692aeb52",
   "metadata": {},
   "outputs": [],
   "source": [
    "array_8 = np.random.rand(size_in_floats)"
   ]
  },
  {
   "cell_type": "code",
   "execution_count": null,
   "id": "97ac0032-9c23-4930-ab4f-9687c372e5f2",
   "metadata": {},
   "outputs": [],
   "source": [
    "array_9 = np.random.rand(size_in_floats)"
   ]
  },
  {
   "cell_type": "code",
   "execution_count": null,
   "id": "91d8e67f-91db-418d-9668-7f67c3bf7cc0",
   "metadata": {},
   "outputs": [],
   "source": [
    "array_10 = np.random.rand(size_in_floats)"
   ]
  },
  {
   "cell_type": "code",
   "execution_count": null,
   "id": "c37fad1d-0e7e-4bb3-887a-2b6573652a61",
   "metadata": {},
   "outputs": [],
   "source": [
    "array_11 = np.random.rand(size_in_floats)"
   ]
  },
  {
   "cell_type": "code",
   "execution_count": null,
   "id": "a5158dc2-574c-4c4a-88ed-d43befc81109",
   "metadata": {},
   "outputs": [],
   "source": [
    "array_12 = np.random.rand(size_in_floats)"
   ]
  }
 ],
 "metadata": {
  "kernelspec": {
   "display_name": "Python 3 (ipykernel)",
   "language": "python",
   "name": "python3"
  },
  "language_info": {
   "codemirror_mode": {
    "name": "ipython",
    "version": 3
   },
   "file_extension": ".py",
   "mimetype": "text/x-python",
   "name": "python",
   "nbconvert_exporter": "python",
   "pygments_lexer": "ipython3",
   "version": "3.11.9"
  }
 },
 "nbformat": 4,
 "nbformat_minor": 5
}

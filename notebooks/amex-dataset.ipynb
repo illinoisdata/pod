{
 "cells": [
  {
   "cell_type": "markdown",
   "metadata": {},
   "source": [
    "**Importing Libraries**"
   ]
  },
  {
   "cell_type": "code",
   "execution_count": 1,
   "metadata": {},
   "outputs": [
    {
     "name": "stderr",
     "output_type": "stream",
     "text": [
      "2023-02-13 17:46:15.835324: W tensorflow/stream_executor/platform/default/dso_loader.cc:64] Could not load dynamic library 'libcudart.so.11.0'; dlerror: libcudart.so.11.0: cannot open shared object file: No such file or directory\n",
      "2023-02-13 17:46:15.835366: I tensorflow/stream_executor/cuda/cudart_stub.cc:29] Ignore above cudart dlerror if you do not have a GPU set up on your machine.\n"
     ]
    }
   ],
   "source": [
    "import pandas as pd\n",
    "import numpy as np\n",
    "import gc\n",
    "import matplotlib.pyplot as plt\n",
    "import seaborn as sns\n",
    "\n",
    "from sklearn.impute import SimpleImputer\n",
    "from sklearn.preprocessing import StandardScaler\n",
    "from sklearn.model_selection import train_test_split\n",
    "\n",
    "import tensorflow\n",
    "from tensorflow.keras.models import Sequential\n",
    "from tensorflow.keras.layers import Dense\n",
    "from keras.callbacks import EarlyStopping"
   ]
  },
  {
   "cell_type": "markdown",
   "metadata": {},
   "source": [
    "# Loading the Dataset\n",
    "\n",
    "\n",
    "Loading the 2 most recent transactions of the customers."
   ]
  },
  {
   "cell_type": "code",
   "execution_count": 2,
   "metadata": {},
   "outputs": [],
   "source": [
    "number_of_transactions = 2"
   ]
  },
  {
   "cell_type": "code",
   "execution_count": 3,
   "metadata": {},
   "outputs": [],
   "source": [
    "data = pd.read_csv('/data/elastic-notebook/data/amex-default-prediction/train_data.csv', nrows=200000).groupby('customer_ID').tail(number_of_transactions).set_index('customer_ID', drop=True).sort_index()\n",
    "labels = pd.read_csv('/data/elastic-notebook/data/amex-default-prediction/train_labels.csv').set_index('customer_ID', drop=True).sort_index()"
   ]
  },
  {
   "cell_type": "markdown",
   "metadata": {},
   "source": [
    "**Merging the Training data with Labels**"
   ]
  },
  {
   "cell_type": "code",
   "execution_count": 4,
   "metadata": {},
   "outputs": [],
   "source": [
    "train_df = pd.merge(data, labels, left_index=True, right_index=True)  "
   ]
  },
  {
   "cell_type": "code",
   "execution_count": 5,
   "metadata": {},
   "outputs": [
    {
     "data": {
      "text/html": [
       "<div>\n",
       "<style scoped>\n",
       "    .dataframe tbody tr th:only-of-type {\n",
       "        vertical-align: middle;\n",
       "    }\n",
       "\n",
       "    .dataframe tbody tr th {\n",
       "        vertical-align: top;\n",
       "    }\n",
       "\n",
       "    .dataframe thead th {\n",
       "        text-align: right;\n",
       "    }\n",
       "</style>\n",
       "<table border=\"1\" class=\"dataframe\">\n",
       "  <thead>\n",
       "    <tr style=\"text-align: right;\">\n",
       "      <th></th>\n",
       "      <th>S_2</th>\n",
       "      <th>P_2</th>\n",
       "      <th>D_39</th>\n",
       "      <th>B_1</th>\n",
       "      <th>B_2</th>\n",
       "      <th>R_1</th>\n",
       "      <th>S_3</th>\n",
       "      <th>D_41</th>\n",
       "      <th>B_3</th>\n",
       "      <th>D_42</th>\n",
       "      <th>...</th>\n",
       "      <th>D_137</th>\n",
       "      <th>D_138</th>\n",
       "      <th>D_139</th>\n",
       "      <th>D_140</th>\n",
       "      <th>D_141</th>\n",
       "      <th>D_142</th>\n",
       "      <th>D_143</th>\n",
       "      <th>D_144</th>\n",
       "      <th>D_145</th>\n",
       "      <th>target</th>\n",
       "    </tr>\n",
       "    <tr>\n",
       "      <th>customer_ID</th>\n",
       "      <th></th>\n",
       "      <th></th>\n",
       "      <th></th>\n",
       "      <th></th>\n",
       "      <th></th>\n",
       "      <th></th>\n",
       "      <th></th>\n",
       "      <th></th>\n",
       "      <th></th>\n",
       "      <th></th>\n",
       "      <th></th>\n",
       "      <th></th>\n",
       "      <th></th>\n",
       "      <th></th>\n",
       "      <th></th>\n",
       "      <th></th>\n",
       "      <th></th>\n",
       "      <th></th>\n",
       "      <th></th>\n",
       "      <th></th>\n",
       "      <th></th>\n",
       "    </tr>\n",
       "  </thead>\n",
       "  <tbody>\n",
       "    <tr>\n",
       "      <th>0000099d6bd597052cdcda90ffabf56573fe9d7c79be5fbac11a8ed792feb62a</th>\n",
       "      <td>2018-02-21</td>\n",
       "      <td>0.937349</td>\n",
       "      <td>0.002425</td>\n",
       "      <td>0.019837</td>\n",
       "      <td>1.008307</td>\n",
       "      <td>0.000607</td>\n",
       "      <td>0.102985</td>\n",
       "      <td>0.006174</td>\n",
       "      <td>0.007454</td>\n",
       "      <td>NaN</td>\n",
       "      <td>...</td>\n",
       "      <td>NaN</td>\n",
       "      <td>NaN</td>\n",
       "      <td>0.001563</td>\n",
       "      <td>0.001976</td>\n",
       "      <td>0.002569</td>\n",
       "      <td>NaN</td>\n",
       "      <td>0.001098</td>\n",
       "      <td>0.006346</td>\n",
       "      <td>0.004204</td>\n",
       "      <td>0</td>\n",
       "    </tr>\n",
       "    <tr>\n",
       "      <th>0000099d6bd597052cdcda90ffabf56573fe9d7c79be5fbac11a8ed792feb62a</th>\n",
       "      <td>2018-03-13</td>\n",
       "      <td>0.934745</td>\n",
       "      <td>0.009119</td>\n",
       "      <td>0.009382</td>\n",
       "      <td>1.007647</td>\n",
       "      <td>0.006104</td>\n",
       "      <td>0.135021</td>\n",
       "      <td>0.001604</td>\n",
       "      <td>0.007174</td>\n",
       "      <td>NaN</td>\n",
       "      <td>...</td>\n",
       "      <td>NaN</td>\n",
       "      <td>NaN</td>\n",
       "      <td>0.007186</td>\n",
       "      <td>0.004234</td>\n",
       "      <td>0.005086</td>\n",
       "      <td>NaN</td>\n",
       "      <td>0.005810</td>\n",
       "      <td>0.002970</td>\n",
       "      <td>0.008533</td>\n",
       "      <td>0</td>\n",
       "    </tr>\n",
       "    <tr>\n",
       "      <th>00000fd6641609c6ece5454664794f0340ad84dddce9a267a310b5ae68e9d8e5</th>\n",
       "      <td>2018-02-06</td>\n",
       "      <td>0.878856</td>\n",
       "      <td>0.536290</td>\n",
       "      <td>0.034558</td>\n",
       "      <td>1.005419</td>\n",
       "      <td>0.007248</td>\n",
       "      <td>0.159486</td>\n",
       "      <td>0.006274</td>\n",
       "      <td>0.008733</td>\n",
       "      <td>NaN</td>\n",
       "      <td>...</td>\n",
       "      <td>NaN</td>\n",
       "      <td>NaN</td>\n",
       "      <td>0.006658</td>\n",
       "      <td>0.004627</td>\n",
       "      <td>0.004820</td>\n",
       "      <td>NaN</td>\n",
       "      <td>0.008272</td>\n",
       "      <td>0.002528</td>\n",
       "      <td>0.003584</td>\n",
       "      <td>0</td>\n",
       "    </tr>\n",
       "    <tr>\n",
       "      <th>00000fd6641609c6ece5454664794f0340ad84dddce9a267a310b5ae68e9d8e5</th>\n",
       "      <td>2018-03-25</td>\n",
       "      <td>0.880519</td>\n",
       "      <td>0.178126</td>\n",
       "      <td>0.034684</td>\n",
       "      <td>1.004028</td>\n",
       "      <td>0.006911</td>\n",
       "      <td>0.165509</td>\n",
       "      <td>0.005552</td>\n",
       "      <td>0.005068</td>\n",
       "      <td>NaN</td>\n",
       "      <td>...</td>\n",
       "      <td>NaN</td>\n",
       "      <td>NaN</td>\n",
       "      <td>0.002980</td>\n",
       "      <td>0.007479</td>\n",
       "      <td>0.007870</td>\n",
       "      <td>NaN</td>\n",
       "      <td>0.003284</td>\n",
       "      <td>0.003169</td>\n",
       "      <td>0.008514</td>\n",
       "      <td>0</td>\n",
       "    </tr>\n",
       "    <tr>\n",
       "      <th>00001b22f846c82c51f6e3958ccd81970162bae8b007e80662ef27519fcc18c1</th>\n",
       "      <td>2018-02-09</td>\n",
       "      <td>0.866342</td>\n",
       "      <td>0.001526</td>\n",
       "      <td>0.008318</td>\n",
       "      <td>0.818953</td>\n",
       "      <td>0.006756</td>\n",
       "      <td>NaN</td>\n",
       "      <td>0.009511</td>\n",
       "      <td>0.004373</td>\n",
       "      <td>NaN</td>\n",
       "      <td>...</td>\n",
       "      <td>NaN</td>\n",
       "      <td>NaN</td>\n",
       "      <td>0.008112</td>\n",
       "      <td>0.009543</td>\n",
       "      <td>0.003328</td>\n",
       "      <td>NaN</td>\n",
       "      <td>0.004781</td>\n",
       "      <td>0.007325</td>\n",
       "      <td>0.005606</td>\n",
       "      <td>0</td>\n",
       "    </tr>\n",
       "  </tbody>\n",
       "</table>\n",
       "<p>5 rows × 190 columns</p>\n",
       "</div>"
      ],
      "text/plain": [
       "                                                           S_2       P_2  \\\n",
       "customer_ID                                                                \n",
       "0000099d6bd597052cdcda90ffabf56573fe9d7c79be5fb...  2018-02-21  0.937349   \n",
       "0000099d6bd597052cdcda90ffabf56573fe9d7c79be5fb...  2018-03-13  0.934745   \n",
       "00000fd6641609c6ece5454664794f0340ad84dddce9a26...  2018-02-06  0.878856   \n",
       "00000fd6641609c6ece5454664794f0340ad84dddce9a26...  2018-03-25  0.880519   \n",
       "00001b22f846c82c51f6e3958ccd81970162bae8b007e80...  2018-02-09  0.866342   \n",
       "\n",
       "                                                        D_39       B_1  \\\n",
       "customer_ID                                                              \n",
       "0000099d6bd597052cdcda90ffabf56573fe9d7c79be5fb...  0.002425  0.019837   \n",
       "0000099d6bd597052cdcda90ffabf56573fe9d7c79be5fb...  0.009119  0.009382   \n",
       "00000fd6641609c6ece5454664794f0340ad84dddce9a26...  0.536290  0.034558   \n",
       "00000fd6641609c6ece5454664794f0340ad84dddce9a26...  0.178126  0.034684   \n",
       "00001b22f846c82c51f6e3958ccd81970162bae8b007e80...  0.001526  0.008318   \n",
       "\n",
       "                                                         B_2       R_1  \\\n",
       "customer_ID                                                              \n",
       "0000099d6bd597052cdcda90ffabf56573fe9d7c79be5fb...  1.008307  0.000607   \n",
       "0000099d6bd597052cdcda90ffabf56573fe9d7c79be5fb...  1.007647  0.006104   \n",
       "00000fd6641609c6ece5454664794f0340ad84dddce9a26...  1.005419  0.007248   \n",
       "00000fd6641609c6ece5454664794f0340ad84dddce9a26...  1.004028  0.006911   \n",
       "00001b22f846c82c51f6e3958ccd81970162bae8b007e80...  0.818953  0.006756   \n",
       "\n",
       "                                                         S_3      D_41  \\\n",
       "customer_ID                                                              \n",
       "0000099d6bd597052cdcda90ffabf56573fe9d7c79be5fb...  0.102985  0.006174   \n",
       "0000099d6bd597052cdcda90ffabf56573fe9d7c79be5fb...  0.135021  0.001604   \n",
       "00000fd6641609c6ece5454664794f0340ad84dddce9a26...  0.159486  0.006274   \n",
       "00000fd6641609c6ece5454664794f0340ad84dddce9a26...  0.165509  0.005552   \n",
       "00001b22f846c82c51f6e3958ccd81970162bae8b007e80...       NaN  0.009511   \n",
       "\n",
       "                                                         B_3  D_42  ...  \\\n",
       "customer_ID                                                         ...   \n",
       "0000099d6bd597052cdcda90ffabf56573fe9d7c79be5fb...  0.007454   NaN  ...   \n",
       "0000099d6bd597052cdcda90ffabf56573fe9d7c79be5fb...  0.007174   NaN  ...   \n",
       "00000fd6641609c6ece5454664794f0340ad84dddce9a26...  0.008733   NaN  ...   \n",
       "00000fd6641609c6ece5454664794f0340ad84dddce9a26...  0.005068   NaN  ...   \n",
       "00001b22f846c82c51f6e3958ccd81970162bae8b007e80...  0.004373   NaN  ...   \n",
       "\n",
       "                                                    D_137  D_138     D_139  \\\n",
       "customer_ID                                                                  \n",
       "0000099d6bd597052cdcda90ffabf56573fe9d7c79be5fb...    NaN    NaN  0.001563   \n",
       "0000099d6bd597052cdcda90ffabf56573fe9d7c79be5fb...    NaN    NaN  0.007186   \n",
       "00000fd6641609c6ece5454664794f0340ad84dddce9a26...    NaN    NaN  0.006658   \n",
       "00000fd6641609c6ece5454664794f0340ad84dddce9a26...    NaN    NaN  0.002980   \n",
       "00001b22f846c82c51f6e3958ccd81970162bae8b007e80...    NaN    NaN  0.008112   \n",
       "\n",
       "                                                       D_140     D_141  D_142  \\\n",
       "customer_ID                                                                     \n",
       "0000099d6bd597052cdcda90ffabf56573fe9d7c79be5fb...  0.001976  0.002569    NaN   \n",
       "0000099d6bd597052cdcda90ffabf56573fe9d7c79be5fb...  0.004234  0.005086    NaN   \n",
       "00000fd6641609c6ece5454664794f0340ad84dddce9a26...  0.004627  0.004820    NaN   \n",
       "00000fd6641609c6ece5454664794f0340ad84dddce9a26...  0.007479  0.007870    NaN   \n",
       "00001b22f846c82c51f6e3958ccd81970162bae8b007e80...  0.009543  0.003328    NaN   \n",
       "\n",
       "                                                       D_143     D_144  \\\n",
       "customer_ID                                                              \n",
       "0000099d6bd597052cdcda90ffabf56573fe9d7c79be5fb...  0.001098  0.006346   \n",
       "0000099d6bd597052cdcda90ffabf56573fe9d7c79be5fb...  0.005810  0.002970   \n",
       "00000fd6641609c6ece5454664794f0340ad84dddce9a26...  0.008272  0.002528   \n",
       "00000fd6641609c6ece5454664794f0340ad84dddce9a26...  0.003284  0.003169   \n",
       "00001b22f846c82c51f6e3958ccd81970162bae8b007e80...  0.004781  0.007325   \n",
       "\n",
       "                                                       D_145  target  \n",
       "customer_ID                                                           \n",
       "0000099d6bd597052cdcda90ffabf56573fe9d7c79be5fb...  0.004204       0  \n",
       "0000099d6bd597052cdcda90ffabf56573fe9d7c79be5fb...  0.008533       0  \n",
       "00000fd6641609c6ece5454664794f0340ad84dddce9a26...  0.003584       0  \n",
       "00000fd6641609c6ece5454664794f0340ad84dddce9a26...  0.008514       0  \n",
       "00001b22f846c82c51f6e3958ccd81970162bae8b007e80...  0.005606       0  \n",
       "\n",
       "[5 rows x 190 columns]"
      ]
     },
     "execution_count": 5,
     "metadata": {},
     "output_type": "execute_result"
    }
   ],
   "source": [
    "train_df.head()"
   ]
  },
  {
   "cell_type": "code",
   "execution_count": 6,
   "metadata": {},
   "outputs": [
    {
     "name": "stdout",
     "output_type": "stream",
     "text": [
      "The number of observations in Training Dataset is : 32978\n"
     ]
    }
   ],
   "source": [
    "print(\"The number of observations in Training Dataset is :\",len(train_df))"
   ]
  },
  {
   "cell_type": "code",
   "execution_count": 7,
   "metadata": {},
   "outputs": [
    {
     "data": {
      "text/html": [
       "<div>\n",
       "<style scoped>\n",
       "    .dataframe tbody tr th:only-of-type {\n",
       "        vertical-align: middle;\n",
       "    }\n",
       "\n",
       "    .dataframe tbody tr th {\n",
       "        vertical-align: top;\n",
       "    }\n",
       "\n",
       "    .dataframe thead th {\n",
       "        text-align: right;\n",
       "    }\n",
       "</style>\n",
       "<table border=\"1\" class=\"dataframe\">\n",
       "  <thead>\n",
       "    <tr style=\"text-align: right;\">\n",
       "      <th></th>\n",
       "      <th>S_2</th>\n",
       "      <th>P_2</th>\n",
       "      <th>D_39</th>\n",
       "      <th>B_1</th>\n",
       "      <th>B_2</th>\n",
       "      <th>R_1</th>\n",
       "      <th>S_3</th>\n",
       "      <th>D_41</th>\n",
       "      <th>B_3</th>\n",
       "      <th>D_42</th>\n",
       "      <th>...</th>\n",
       "      <th>D_137</th>\n",
       "      <th>D_138</th>\n",
       "      <th>D_139</th>\n",
       "      <th>D_140</th>\n",
       "      <th>D_141</th>\n",
       "      <th>D_142</th>\n",
       "      <th>D_143</th>\n",
       "      <th>D_144</th>\n",
       "      <th>D_145</th>\n",
       "      <th>target</th>\n",
       "    </tr>\n",
       "    <tr>\n",
       "      <th>customer_ID</th>\n",
       "      <th></th>\n",
       "      <th></th>\n",
       "      <th></th>\n",
       "      <th></th>\n",
       "      <th></th>\n",
       "      <th></th>\n",
       "      <th></th>\n",
       "      <th></th>\n",
       "      <th></th>\n",
       "      <th></th>\n",
       "      <th></th>\n",
       "      <th></th>\n",
       "      <th></th>\n",
       "      <th></th>\n",
       "      <th></th>\n",
       "      <th></th>\n",
       "      <th></th>\n",
       "      <th></th>\n",
       "      <th></th>\n",
       "      <th></th>\n",
       "      <th></th>\n",
       "    </tr>\n",
       "  </thead>\n",
       "  <tbody>\n",
       "    <tr>\n",
       "      <th>0000099d6bd597052cdcda90ffabf56573fe9d7c79be5fbac11a8ed792feb62a</th>\n",
       "      <td>2018-02-21</td>\n",
       "      <td>0.937349</td>\n",
       "      <td>0.002425</td>\n",
       "      <td>0.019837</td>\n",
       "      <td>1.008307</td>\n",
       "      <td>0.000607</td>\n",
       "      <td>0.102985</td>\n",
       "      <td>0.006174</td>\n",
       "      <td>0.007454</td>\n",
       "      <td>NaN</td>\n",
       "      <td>...</td>\n",
       "      <td>NaN</td>\n",
       "      <td>NaN</td>\n",
       "      <td>0.001563</td>\n",
       "      <td>0.001976</td>\n",
       "      <td>0.002569</td>\n",
       "      <td>NaN</td>\n",
       "      <td>0.001098</td>\n",
       "      <td>0.006346</td>\n",
       "      <td>0.004204</td>\n",
       "      <td>0</td>\n",
       "    </tr>\n",
       "    <tr>\n",
       "      <th>0000099d6bd597052cdcda90ffabf56573fe9d7c79be5fbac11a8ed792feb62a</th>\n",
       "      <td>2018-03-13</td>\n",
       "      <td>0.934745</td>\n",
       "      <td>0.009119</td>\n",
       "      <td>0.009382</td>\n",
       "      <td>1.007647</td>\n",
       "      <td>0.006104</td>\n",
       "      <td>0.135021</td>\n",
       "      <td>0.001604</td>\n",
       "      <td>0.007174</td>\n",
       "      <td>NaN</td>\n",
       "      <td>...</td>\n",
       "      <td>NaN</td>\n",
       "      <td>NaN</td>\n",
       "      <td>0.007186</td>\n",
       "      <td>0.004234</td>\n",
       "      <td>0.005086</td>\n",
       "      <td>NaN</td>\n",
       "      <td>0.005810</td>\n",
       "      <td>0.002970</td>\n",
       "      <td>0.008533</td>\n",
       "      <td>0</td>\n",
       "    </tr>\n",
       "    <tr>\n",
       "      <th>00000fd6641609c6ece5454664794f0340ad84dddce9a267a310b5ae68e9d8e5</th>\n",
       "      <td>2018-02-06</td>\n",
       "      <td>0.878856</td>\n",
       "      <td>0.536290</td>\n",
       "      <td>0.034558</td>\n",
       "      <td>1.005419</td>\n",
       "      <td>0.007248</td>\n",
       "      <td>0.159486</td>\n",
       "      <td>0.006274</td>\n",
       "      <td>0.008733</td>\n",
       "      <td>NaN</td>\n",
       "      <td>...</td>\n",
       "      <td>NaN</td>\n",
       "      <td>NaN</td>\n",
       "      <td>0.006658</td>\n",
       "      <td>0.004627</td>\n",
       "      <td>0.004820</td>\n",
       "      <td>NaN</td>\n",
       "      <td>0.008272</td>\n",
       "      <td>0.002528</td>\n",
       "      <td>0.003584</td>\n",
       "      <td>0</td>\n",
       "    </tr>\n",
       "    <tr>\n",
       "      <th>00000fd6641609c6ece5454664794f0340ad84dddce9a267a310b5ae68e9d8e5</th>\n",
       "      <td>2018-03-25</td>\n",
       "      <td>0.880519</td>\n",
       "      <td>0.178126</td>\n",
       "      <td>0.034684</td>\n",
       "      <td>1.004028</td>\n",
       "      <td>0.006911</td>\n",
       "      <td>0.165509</td>\n",
       "      <td>0.005552</td>\n",
       "      <td>0.005068</td>\n",
       "      <td>NaN</td>\n",
       "      <td>...</td>\n",
       "      <td>NaN</td>\n",
       "      <td>NaN</td>\n",
       "      <td>0.002980</td>\n",
       "      <td>0.007479</td>\n",
       "      <td>0.007870</td>\n",
       "      <td>NaN</td>\n",
       "      <td>0.003284</td>\n",
       "      <td>0.003169</td>\n",
       "      <td>0.008514</td>\n",
       "      <td>0</td>\n",
       "    </tr>\n",
       "    <tr>\n",
       "      <th>00001b22f846c82c51f6e3958ccd81970162bae8b007e80662ef27519fcc18c1</th>\n",
       "      <td>2018-02-09</td>\n",
       "      <td>0.866342</td>\n",
       "      <td>0.001526</td>\n",
       "      <td>0.008318</td>\n",
       "      <td>0.818953</td>\n",
       "      <td>0.006756</td>\n",
       "      <td>NaN</td>\n",
       "      <td>0.009511</td>\n",
       "      <td>0.004373</td>\n",
       "      <td>NaN</td>\n",
       "      <td>...</td>\n",
       "      <td>NaN</td>\n",
       "      <td>NaN</td>\n",
       "      <td>0.008112</td>\n",
       "      <td>0.009543</td>\n",
       "      <td>0.003328</td>\n",
       "      <td>NaN</td>\n",
       "      <td>0.004781</td>\n",
       "      <td>0.007325</td>\n",
       "      <td>0.005606</td>\n",
       "      <td>0</td>\n",
       "    </tr>\n",
       "  </tbody>\n",
       "</table>\n",
       "<p>5 rows × 190 columns</p>\n",
       "</div>"
      ],
      "text/plain": [
       "                                                           S_2       P_2  \\\n",
       "customer_ID                                                                \n",
       "0000099d6bd597052cdcda90ffabf56573fe9d7c79be5fb...  2018-02-21  0.937349   \n",
       "0000099d6bd597052cdcda90ffabf56573fe9d7c79be5fb...  2018-03-13  0.934745   \n",
       "00000fd6641609c6ece5454664794f0340ad84dddce9a26...  2018-02-06  0.878856   \n",
       "00000fd6641609c6ece5454664794f0340ad84dddce9a26...  2018-03-25  0.880519   \n",
       "00001b22f846c82c51f6e3958ccd81970162bae8b007e80...  2018-02-09  0.866342   \n",
       "\n",
       "                                                        D_39       B_1  \\\n",
       "customer_ID                                                              \n",
       "0000099d6bd597052cdcda90ffabf56573fe9d7c79be5fb...  0.002425  0.019837   \n",
       "0000099d6bd597052cdcda90ffabf56573fe9d7c79be5fb...  0.009119  0.009382   \n",
       "00000fd6641609c6ece5454664794f0340ad84dddce9a26...  0.536290  0.034558   \n",
       "00000fd6641609c6ece5454664794f0340ad84dddce9a26...  0.178126  0.034684   \n",
       "00001b22f846c82c51f6e3958ccd81970162bae8b007e80...  0.001526  0.008318   \n",
       "\n",
       "                                                         B_2       R_1  \\\n",
       "customer_ID                                                              \n",
       "0000099d6bd597052cdcda90ffabf56573fe9d7c79be5fb...  1.008307  0.000607   \n",
       "0000099d6bd597052cdcda90ffabf56573fe9d7c79be5fb...  1.007647  0.006104   \n",
       "00000fd6641609c6ece5454664794f0340ad84dddce9a26...  1.005419  0.007248   \n",
       "00000fd6641609c6ece5454664794f0340ad84dddce9a26...  1.004028  0.006911   \n",
       "00001b22f846c82c51f6e3958ccd81970162bae8b007e80...  0.818953  0.006756   \n",
       "\n",
       "                                                         S_3      D_41  \\\n",
       "customer_ID                                                              \n",
       "0000099d6bd597052cdcda90ffabf56573fe9d7c79be5fb...  0.102985  0.006174   \n",
       "0000099d6bd597052cdcda90ffabf56573fe9d7c79be5fb...  0.135021  0.001604   \n",
       "00000fd6641609c6ece5454664794f0340ad84dddce9a26...  0.159486  0.006274   \n",
       "00000fd6641609c6ece5454664794f0340ad84dddce9a26...  0.165509  0.005552   \n",
       "00001b22f846c82c51f6e3958ccd81970162bae8b007e80...       NaN  0.009511   \n",
       "\n",
       "                                                         B_3  D_42  ...  \\\n",
       "customer_ID                                                         ...   \n",
       "0000099d6bd597052cdcda90ffabf56573fe9d7c79be5fb...  0.007454   NaN  ...   \n",
       "0000099d6bd597052cdcda90ffabf56573fe9d7c79be5fb...  0.007174   NaN  ...   \n",
       "00000fd6641609c6ece5454664794f0340ad84dddce9a26...  0.008733   NaN  ...   \n",
       "00000fd6641609c6ece5454664794f0340ad84dddce9a26...  0.005068   NaN  ...   \n",
       "00001b22f846c82c51f6e3958ccd81970162bae8b007e80...  0.004373   NaN  ...   \n",
       "\n",
       "                                                    D_137  D_138     D_139  \\\n",
       "customer_ID                                                                  \n",
       "0000099d6bd597052cdcda90ffabf56573fe9d7c79be5fb...    NaN    NaN  0.001563   \n",
       "0000099d6bd597052cdcda90ffabf56573fe9d7c79be5fb...    NaN    NaN  0.007186   \n",
       "00000fd6641609c6ece5454664794f0340ad84dddce9a26...    NaN    NaN  0.006658   \n",
       "00000fd6641609c6ece5454664794f0340ad84dddce9a26...    NaN    NaN  0.002980   \n",
       "00001b22f846c82c51f6e3958ccd81970162bae8b007e80...    NaN    NaN  0.008112   \n",
       "\n",
       "                                                       D_140     D_141  D_142  \\\n",
       "customer_ID                                                                     \n",
       "0000099d6bd597052cdcda90ffabf56573fe9d7c79be5fb...  0.001976  0.002569    NaN   \n",
       "0000099d6bd597052cdcda90ffabf56573fe9d7c79be5fb...  0.004234  0.005086    NaN   \n",
       "00000fd6641609c6ece5454664794f0340ad84dddce9a26...  0.004627  0.004820    NaN   \n",
       "00000fd6641609c6ece5454664794f0340ad84dddce9a26...  0.007479  0.007870    NaN   \n",
       "00001b22f846c82c51f6e3958ccd81970162bae8b007e80...  0.009543  0.003328    NaN   \n",
       "\n",
       "                                                       D_143     D_144  \\\n",
       "customer_ID                                                              \n",
       "0000099d6bd597052cdcda90ffabf56573fe9d7c79be5fb...  0.001098  0.006346   \n",
       "0000099d6bd597052cdcda90ffabf56573fe9d7c79be5fb...  0.005810  0.002970   \n",
       "00000fd6641609c6ece5454664794f0340ad84dddce9a26...  0.008272  0.002528   \n",
       "00000fd6641609c6ece5454664794f0340ad84dddce9a26...  0.003284  0.003169   \n",
       "00001b22f846c82c51f6e3958ccd81970162bae8b007e80...  0.004781  0.007325   \n",
       "\n",
       "                                                       D_145  target  \n",
       "customer_ID                                                           \n",
       "0000099d6bd597052cdcda90ffabf56573fe9d7c79be5fb...  0.004204       0  \n",
       "0000099d6bd597052cdcda90ffabf56573fe9d7c79be5fb...  0.008533       0  \n",
       "00000fd6641609c6ece5454664794f0340ad84dddce9a26...  0.003584       0  \n",
       "00000fd6641609c6ece5454664794f0340ad84dddce9a26...  0.008514       0  \n",
       "00001b22f846c82c51f6e3958ccd81970162bae8b007e80...  0.005606       0  \n",
       "\n",
       "[5 rows x 190 columns]"
      ]
     },
     "execution_count": 7,
     "metadata": {},
     "output_type": "execute_result"
    }
   ],
   "source": [
    "train_df.head()"
   ]
  },
  {
   "cell_type": "markdown",
   "metadata": {},
   "source": [
    "**Descriptive Statistics**"
   ]
  },
  {
   "cell_type": "code",
   "execution_count": 8,
   "metadata": {},
   "outputs": [
    {
     "data": {
      "text/html": [
       "<div>\n",
       "<style scoped>\n",
       "    .dataframe tbody tr th:only-of-type {\n",
       "        vertical-align: middle;\n",
       "    }\n",
       "\n",
       "    .dataframe tbody tr th {\n",
       "        vertical-align: top;\n",
       "    }\n",
       "\n",
       "    .dataframe thead th {\n",
       "        text-align: right;\n",
       "    }\n",
       "</style>\n",
       "<table border=\"1\" class=\"dataframe\">\n",
       "  <thead>\n",
       "    <tr style=\"text-align: right;\">\n",
       "      <th></th>\n",
       "      <th>count</th>\n",
       "      <th>mean</th>\n",
       "      <th>std</th>\n",
       "      <th>min</th>\n",
       "      <th>25%</th>\n",
       "      <th>50%</th>\n",
       "      <th>75%</th>\n",
       "      <th>max</th>\n",
       "    </tr>\n",
       "  </thead>\n",
       "  <tbody>\n",
       "    <tr>\n",
       "      <th>P_2</th>\n",
       "      <td>32759.0</td>\n",
       "      <td>0.632882</td>\n",
       "      <td>0.266624</td>\n",
       "      <td>-3.552304e-01</td>\n",
       "      <td>0.447735</td>\n",
       "      <td>0.678158</td>\n",
       "      <td>0.859826</td>\n",
       "      <td>1.009943</td>\n",
       "    </tr>\n",
       "    <tr>\n",
       "      <th>D_39</th>\n",
       "      <td>32978.0</td>\n",
       "      <td>0.196908</td>\n",
       "      <td>0.369475</td>\n",
       "      <td>7.301857e-07</td>\n",
       "      <td>0.004974</td>\n",
       "      <td>0.009976</td>\n",
       "      <td>0.271073</td>\n",
       "      <td>5.036047</td>\n",
       "    </tr>\n",
       "    <tr>\n",
       "      <th>B_1</th>\n",
       "      <td>32978.0</td>\n",
       "      <td>0.140342</td>\n",
       "      <td>0.231423</td>\n",
       "      <td>-3.093297e-01</td>\n",
       "      <td>0.009007</td>\n",
       "      <td>0.034422</td>\n",
       "      <td>0.158221</td>\n",
       "      <td>1.324053</td>\n",
       "    </tr>\n",
       "    <tr>\n",
       "      <th>B_2</th>\n",
       "      <td>32975.0</td>\n",
       "      <td>0.585763</td>\n",
       "      <td>0.413427</td>\n",
       "      <td>6.180084e-06</td>\n",
       "      <td>0.068823</td>\n",
       "      <td>0.813246</td>\n",
       "      <td>1.001860</td>\n",
       "      <td>1.009999</td>\n",
       "    </tr>\n",
       "    <tr>\n",
       "      <th>R_1</th>\n",
       "      <td>32978.0</td>\n",
       "      <td>0.107610</td>\n",
       "      <td>0.278192</td>\n",
       "      <td>6.440720e-07</td>\n",
       "      <td>0.003001</td>\n",
       "      <td>0.005953</td>\n",
       "      <td>0.008901</td>\n",
       "      <td>2.507711</td>\n",
       "    </tr>\n",
       "    <tr>\n",
       "      <th>...</th>\n",
       "      <td>...</td>\n",
       "      <td>...</td>\n",
       "      <td>...</td>\n",
       "      <td>...</td>\n",
       "      <td>...</td>\n",
       "      <td>...</td>\n",
       "      <td>...</td>\n",
       "      <td>...</td>\n",
       "    </tr>\n",
       "    <tr>\n",
       "      <th>D_142</th>\n",
       "      <td>5767.0</td>\n",
       "      <td>0.394600</td>\n",
       "      <td>0.245088</td>\n",
       "      <td>-9.399561e-03</td>\n",
       "      <td>0.193622</td>\n",
       "      <td>0.380992</td>\n",
       "      <td>0.581989</td>\n",
       "      <td>1.751388</td>\n",
       "    </tr>\n",
       "    <tr>\n",
       "      <th>D_143</th>\n",
       "      <td>32729.0</td>\n",
       "      <td>0.181147</td>\n",
       "      <td>0.380926</td>\n",
       "      <td>1.653580e-08</td>\n",
       "      <td>0.003047</td>\n",
       "      <td>0.006103</td>\n",
       "      <td>0.009121</td>\n",
       "      <td>1.009993</td>\n",
       "    </tr>\n",
       "    <tr>\n",
       "      <th>D_144</th>\n",
       "      <td>32972.0</td>\n",
       "      <td>0.052129</td>\n",
       "      <td>0.181858</td>\n",
       "      <td>7.164186e-07</td>\n",
       "      <td>0.002707</td>\n",
       "      <td>0.005460</td>\n",
       "      <td>0.008242</td>\n",
       "      <td>1.342748</td>\n",
       "    </tr>\n",
       "    <tr>\n",
       "      <th>D_145</th>\n",
       "      <td>32729.0</td>\n",
       "      <td>0.063460</td>\n",
       "      <td>0.194880</td>\n",
       "      <td>4.609489e-08</td>\n",
       "      <td>0.003001</td>\n",
       "      <td>0.006053</td>\n",
       "      <td>0.009088</td>\n",
       "      <td>4.187805</td>\n",
       "    </tr>\n",
       "    <tr>\n",
       "      <th>target</th>\n",
       "      <td>32978.0</td>\n",
       "      <td>0.264085</td>\n",
       "      <td>0.440852</td>\n",
       "      <td>0.000000e+00</td>\n",
       "      <td>0.000000</td>\n",
       "      <td>0.000000</td>\n",
       "      <td>1.000000</td>\n",
       "      <td>1.000000</td>\n",
       "    </tr>\n",
       "  </tbody>\n",
       "</table>\n",
       "<p>187 rows × 8 columns</p>\n",
       "</div>"
      ],
      "text/plain": [
       "          count      mean       std           min       25%       50%  \\\n",
       "P_2     32759.0  0.632882  0.266624 -3.552304e-01  0.447735  0.678158   \n",
       "D_39    32978.0  0.196908  0.369475  7.301857e-07  0.004974  0.009976   \n",
       "B_1     32978.0  0.140342  0.231423 -3.093297e-01  0.009007  0.034422   \n",
       "B_2     32975.0  0.585763  0.413427  6.180084e-06  0.068823  0.813246   \n",
       "R_1     32978.0  0.107610  0.278192  6.440720e-07  0.003001  0.005953   \n",
       "...         ...       ...       ...           ...       ...       ...   \n",
       "D_142    5767.0  0.394600  0.245088 -9.399561e-03  0.193622  0.380992   \n",
       "D_143   32729.0  0.181147  0.380926  1.653580e-08  0.003047  0.006103   \n",
       "D_144   32972.0  0.052129  0.181858  7.164186e-07  0.002707  0.005460   \n",
       "D_145   32729.0  0.063460  0.194880  4.609489e-08  0.003001  0.006053   \n",
       "target  32978.0  0.264085  0.440852  0.000000e+00  0.000000  0.000000   \n",
       "\n",
       "             75%       max  \n",
       "P_2     0.859826  1.009943  \n",
       "D_39    0.271073  5.036047  \n",
       "B_1     0.158221  1.324053  \n",
       "B_2     1.001860  1.009999  \n",
       "R_1     0.008901  2.507711  \n",
       "...          ...       ...  \n",
       "D_142   0.581989  1.751388  \n",
       "D_143   0.009121  1.009993  \n",
       "D_144   0.008242  1.342748  \n",
       "D_145   0.009088  4.187805  \n",
       "target  1.000000  1.000000  \n",
       "\n",
       "[187 rows x 8 columns]"
      ]
     },
     "execution_count": 8,
     "metadata": {},
     "output_type": "execute_result"
    }
   ],
   "source": [
    "train_df.describe().T"
   ]
  },
  {
   "cell_type": "markdown",
   "metadata": {},
   "source": [
    "\n",
    "# Visualisation\n",
    "\n",
    "**Count Plot of the Target Variable**"
   ]
  },
  {
   "cell_type": "code",
   "execution_count": 9,
   "metadata": {},
   "outputs": [
    {
     "data": {
      "text/plain": [
       "<AxesSubplot: xlabel='target', ylabel='count'>"
      ]
     },
     "execution_count": 9,
     "metadata": {},
     "output_type": "execute_result"
    },
    {
     "data": {
      "image/png": "[encoded data removed]",
      "text/plain": [
       "<Figure size 640x480 with 1 Axes>"
      ]
     },
     "metadata": {},
     "output_type": "display_data"
    }
   ],
   "source": [
    "sns.countplot(x = 'target',data = train_df)"
   ]
  },
  {
   "cell_type": "markdown",
   "metadata": {},
   "source": [
    "# Pre-Processing"
   ]
  },
  {
   "cell_type": "markdown",
   "metadata": {},
   "source": [
    "**Dropping the Transaction Dates**"
   ]
  },
  {
   "cell_type": "code",
   "execution_count": 10,
   "metadata": {},
   "outputs": [],
   "source": [
    "drop_cols = ['S_2'] \n",
    "train_df.drop(drop_cols, inplace=True, axis=1)"
   ]
  },
  {
   "cell_type": "markdown",
   "metadata": {},
   "source": [
    "**Creating Training Labels and Data**"
   ]
  },
  {
   "cell_type": "code",
   "execution_count": 11,
   "metadata": {},
   "outputs": [],
   "source": [
    "train_df1 = pd.get_dummies(train_df)"
   ]
  },
  {
   "cell_type": "code",
   "execution_count": 12,
   "metadata": {},
   "outputs": [],
   "source": [
    "y = train_df1['target']\n",
    "X = train_df1.drop('target', axis=1)"
   ]
  },
  {
   "cell_type": "markdown",
   "metadata": {},
   "source": [
    "**Handling missing values**\n",
    "\n",
    "Missing values are imputed with the respective column mean."
   ]
  },
  {
   "cell_type": "code",
   "execution_count": 13,
   "metadata": {},
   "outputs": [],
   "source": [
    "col_names = X.columns\n",
    "imputer = SimpleImputer()\n",
    "X = pd.DataFrame(imputer.fit_transform(X))  \n",
    "X.columns = col_names"
   ]
  },
  {
   "cell_type": "markdown",
   "metadata": {},
   "source": [
    "**Standardization**"
   ]
  },
  {
   "cell_type": "code",
   "execution_count": 14,
   "metadata": {},
   "outputs": [],
   "source": [
    "scaler = StandardScaler()\n",
    "X = pd.DataFrame(scaler.fit_transform(X), index=X.index, columns=X.columns) "
   ]
  },
  {
   "cell_type": "markdown",
   "metadata": {},
   "source": [
    "**Splitting into training and validation sets**"
   ]
  },
  {
   "cell_type": "code",
   "execution_count": 15,
   "metadata": {},
   "outputs": [],
   "source": [
    "train_X, val_X, train_y, val_y = train_test_split(X, y, random_state = 1, shuffle=True, stratify=y, test_size=0.2)"
   ]
  },
  {
   "cell_type": "markdown",
   "metadata": {},
   "source": [
    "Memory cleanup to prevent out of memory error."
   ]
  },
  {
   "cell_type": "code",
   "execution_count": 16,
   "metadata": {},
   "outputs": [
    {
     "data": {
      "text/plain": [
       "19"
      ]
     },
     "execution_count": 16,
     "metadata": {},
     "output_type": "execute_result"
    }
   ],
   "source": [
    "del data, labels, X, y\n",
    "gc.collect()"
   ]
  },
  {
   "cell_type": "markdown",
   "metadata": {},
   "source": [
    "# Model Building"
   ]
  },
  {
   "cell_type": "markdown",
   "metadata": {},
   "source": [
    "**Logistic Regression**"
   ]
  },
  {
   "cell_type": "code",
   "execution_count": 17,
   "metadata": {},
   "outputs": [],
   "source": [
    "from sklearn.metrics import classification_report,accuracy_score\n",
    "from sklearn import metrics"
   ]
  },
  {
   "cell_type": "code",
   "execution_count": 18,
   "metadata": {},
   "outputs": [],
   "source": [
    "from sklearn.linear_model import LogisticRegression"
   ]
  },
  {
   "cell_type": "code",
   "execution_count": 19,
   "metadata": {},
   "outputs": [
    {
     "data": {
      "text/plain": [
       "LogisticRegression(C=100000.0, n_jobs=1, solver='liblinear')"
      ]
     },
     "execution_count": 19,
     "metadata": {},
     "output_type": "execute_result"
    }
   ],
   "source": [
    "clf_lr = LogisticRegression(n_jobs=1, C=1e5,solver='liblinear')\n",
    "clf_lr.fit(train_X, train_y)"
   ]
  },
  {
   "cell_type": "code",
   "execution_count": 20,
   "metadata": {},
   "outputs": [
    {
     "name": "stdout",
     "output_type": "stream",
     "text": [
      "Accuracy on Validation set : 0.8950879320800486\n",
      "\n",
      "\n",
      "              precision    recall  f1-score   support\n",
      "\n",
      "           0       0.92      0.94      0.93      4854\n",
      "           1       0.81      0.78      0.80      1742\n",
      "\n",
      "    accuracy                           0.90      6596\n",
      "   macro avg       0.87      0.86      0.86      6596\n",
      "weighted avg       0.89      0.90      0.89      6596\n",
      "\n",
      "CPU times: user 193 ms, sys: 823 ms, total: 1.02 s\n",
      "Wall time: 20 ms\n"
     ]
    }
   ],
   "source": [
    "\n",
    "y_pred_val_lr = clf_lr.predict(val_X)\n",
    "print('Accuracy on Validation set :',accuracy_score(val_y, y_pred_val_lr))\n",
    "print(\"\\n\")\n",
    "print(classification_report(val_y, y_pred_val_lr))"
   ]
  },
  {
   "cell_type": "markdown",
   "metadata": {},
   "source": [
    "**Support Vector Classifier**"
   ]
  },
  {
   "cell_type": "code",
   "execution_count": 21,
   "metadata": {},
   "outputs": [],
   "source": [
    "from sklearn.linear_model import SGDClassifier"
   ]
  },
  {
   "cell_type": "code",
   "execution_count": 22,
   "metadata": {},
   "outputs": [
    {
     "data": {
      "text/plain": [
       "SGDClassifier(alpha=0.001, max_iter=5, random_state=42, tol=None)"
      ]
     },
     "execution_count": 22,
     "metadata": {},
     "output_type": "execute_result"
    }
   ],
   "source": [
    "sgd = SGDClassifier(loss='hinge', penalty='l2',alpha=1e-3, random_state=42, max_iter=5, tol=None)\n",
    "sgd.fit(train_X, train_y)"
   ]
  },
  {
   "cell_type": "code",
   "execution_count": 23,
   "metadata": {},
   "outputs": [
    {
     "name": "stdout",
     "output_type": "stream",
     "text": [
      "Accuracy on Validation set : 0.8779563371740449\n",
      "\n",
      "\n",
      "              precision    recall  f1-score   support\n",
      "\n",
      "           0       0.92      0.92      0.92      4854\n",
      "           1       0.77      0.76      0.77      1742\n",
      "\n",
      "    accuracy                           0.88      6596\n",
      "   macro avg       0.84      0.84      0.84      6596\n",
      "weighted avg       0.88      0.88      0.88      6596\n",
      "\n",
      "CPU times: user 200 ms, sys: 693 ms, total: 893 ms\n",
      "Wall time: 16.5 ms\n"
     ]
    }
   ],
   "source": [
    "\n",
    "y_pred_val_sgd = sgd.predict(val_X)\n",
    "print('Accuracy on Validation set :',accuracy_score(val_y, y_pred_val_sgd))\n",
    "print(\"\\n\")\n",
    "print(classification_report(val_y, y_pred_val_sgd))"
   ]
  },
  {
   "cell_type": "markdown",
   "metadata": {},
   "source": [
    "**Decision Tree Classifier**"
   ]
  },
  {
   "cell_type": "code",
   "execution_count": 24,
   "metadata": {},
   "outputs": [],
   "source": [
    "from sklearn.tree import DecisionTreeClassifier"
   ]
  },
  {
   "cell_type": "code",
   "execution_count": 25,
   "metadata": {},
   "outputs": [
    {
     "data": {
      "text/plain": [
       "DecisionTreeClassifier(random_state=0)"
      ]
     },
     "execution_count": 25,
     "metadata": {},
     "output_type": "execute_result"
    }
   ],
   "source": [
    "dc = DecisionTreeClassifier(random_state=0)\n",
    "dc.fit(train_X, train_y)"
   ]
  },
  {
   "cell_type": "code",
   "execution_count": 26,
   "metadata": {},
   "outputs": [
    {
     "name": "stdout",
     "output_type": "stream",
     "text": [
      "Accuracy on Validation set : 0.8506670709520922\n",
      "\n",
      "\n",
      "              precision    recall  f1-score   support\n",
      "\n",
      "           0       0.90      0.90      0.90      4854\n",
      "           1       0.72      0.71      0.72      1742\n",
      "\n",
      "    accuracy                           0.85      6596\n",
      "   macro avg       0.81      0.81      0.81      6596\n",
      "weighted avg       0.85      0.85      0.85      6596\n",
      "\n",
      "CPU times: user 19.5 ms, sys: 0 ns, total: 19.5 ms\n",
      "Wall time: 17.9 ms\n"
     ]
    }
   ],
   "source": [
    "\n",
    "y_pred_val_dc = dc.predict(val_X)\n",
    "print('Accuracy on Validation set :',accuracy_score(val_y, y_pred_val_dc))\n",
    "print(\"\\n\")\n",
    "print(classification_report(val_y, y_pred_val_dc))"
   ]
  },
  {
   "cell_type": "code",
   "execution_count": 27,
   "metadata": {},
   "outputs": [],
   "source": [
    "from lightgbm import LGBMClassifier"
   ]
  },
  {
   "cell_type": "code",
   "execution_count": 28,
   "metadata": {},
   "outputs": [
    {
     "data": {
      "text/plain": [
       "LGBMClassifier()"
      ]
     },
     "execution_count": 28,
     "metadata": {},
     "output_type": "execute_result"
    }
   ],
   "source": [
    "lgbm = LGBMClassifier()\n",
    "lgbm.fit(train_X, train_y)"
   ]
  },
  {
   "cell_type": "code",
   "execution_count": 29,
   "metadata": {},
   "outputs": [
    {
     "name": "stdout",
     "output_type": "stream",
     "text": [
      "Accuracy on Validation set : 0.9035779260157671\n",
      "\n",
      "\n",
      "              precision    recall  f1-score   support\n",
      "\n",
      "           0       0.93      0.93      0.93      4854\n",
      "           1       0.82      0.82      0.82      1742\n",
      "\n",
      "    accuracy                           0.90      6596\n",
      "   macro avg       0.88      0.88      0.88      6596\n",
      "weighted avg       0.90      0.90      0.90      6596\n",
      "\n",
      "CPU times: user 4.84 s, sys: 14 ms, total: 4.86 s\n",
      "Wall time: 41.1 ms\n"
     ]
    }
   ],
   "source": [
    "\n",
    "y_pred_val_lgbm = lgbm.predict(val_X)\n",
    "print('Accuracy on Validation set :',accuracy_score(val_y, y_pred_val_lgbm))\n",
    "print(\"\\n\")\n",
    "print(classification_report(val_y, y_pred_val_lgbm))"
   ]
  },
  {
   "cell_type": "markdown",
   "metadata": {},
   "source": [
    "**Listing Accuracies on Validation Data**"
   ]
  },
  {
   "cell_type": "code",
   "execution_count": 30,
   "metadata": {},
   "outputs": [
    {
     "name": "stdout",
     "output_type": "stream",
     "text": [
      "\n",
      "Accuracy of Logistic Regression : 0.8950879320800486\n",
      "\n",
      "Accuracy of Support Vector : 0.8779563371740449\n",
      "\n",
      "Accuracy of Decision Tree : 0.8506670709520922\n",
      "\n",
      "Accuracy Light GBM Classifier : 0.9035779260157671\n"
     ]
    }
   ],
   "source": [
    "print('\\nAccuracy of Logistic Regression :',accuracy_score(val_y, y_pred_val_lr))\n",
    "print('\\nAccuracy of Support Vector :',accuracy_score(val_y, y_pred_val_sgd))\n",
    "print('\\nAccuracy of Decision Tree :',accuracy_score(val_y, y_pred_val_dc))\n",
    "print('\\nAccuracy Light GBM Classifier :',accuracy_score(val_y, y_pred_val_lgbm))"
   ]
  },
  {
   "cell_type": "markdown",
   "metadata": {},
   "source": [
    "# Inferences"
   ]
  },
  {
   "cell_type": "markdown",
   "metadata": {},
   "source": [
    "The best accuracy is obtained using Light GBM Classifier."
   ]
  }
 ],
 "metadata": {
  "kernelspec": {
   "display_name": "Python 3 (ipykernel)",
   "language": "python",
   "name": "python3"
  },
  "language_info": {
   "codemirror_mode": {
    "name": "ipython",
    "version": 3
   },
   "file_extension": ".py",
   "mimetype": "text/x-python",
   "name": "python",
   "nbconvert_exporter": "python",
   "pygments_lexer": "ipython3",
   "version": "3.8.10"
  }
 },
 "nbformat": 4,
 "nbformat_minor": 4
}

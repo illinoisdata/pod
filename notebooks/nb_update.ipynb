{
 "cells": [
  {
   "cell_type": "code",
   "execution_count": null,
   "metadata": {},
   "outputs": [],
   "source": [
    "import pandas as pd\n",
    "import numpy as np"
   ]
  },
  {
   "cell_type": "code",
   "execution_count": null,
   "metadata": {},
   "outputs": [],
   "source": [
    "# Creating a DataFrame with 1,000,000 rows\n",
    "df = pd.DataFrame({\n",
    "    'A': np.random.randint(1, 100, size=1000000),\n",
    "    'B': np.random.randint(1, 100, size=1000000),\n",
    "    'C': np.random.randn(1000000),\n",
    "    'D': np.random.choice(['foo', 'bar', 'baz', 'qux'], size=1000000),\n",
    "    'E': pd.date_range('2022-01-01', periods=1000000, freq='min')\n",
    "})\n",
    "df.head()"
   ]
  },
  {
   "cell_type": "code",
   "execution_count": null,
   "metadata": {},
   "outputs": [],
   "source": [
    "# Adding a new column F which is the sum of A and B\n",
    "df[\"F\"] = df[\"A\"] + df[\"B\"]\n",
    "df.head()"
   ]
  },
  {
   "cell_type": "code",
   "execution_count": null,
   "metadata": {},
   "outputs": [],
   "source": [
    "# Updating column A: setting values less than 50 to 0\n",
    "df.loc[df[\"A\"] < 50, \"A\"] = 0\n",
    "df.head()"
   ]
  },
  {
   "cell_type": "code",
   "execution_count": null,
   "metadata": {},
   "outputs": [],
   "source": [
    "# Applying a custom function to update column C\n",
    "df[\"C\"] = df[\"C\"].apply(lambda x: x**2 if x > 0 else x)\n",
    "df.head()"
   ]
  },
  {
   "cell_type": "code",
   "execution_count": null,
   "metadata": {},
   "outputs": [],
   "source": [
    "# Renaming columns\n",
    "df.rename(columns={\"A\": \"A_mod\", \"B\": \"B_mod\"}, inplace=True)\n",
    "df.head()"
   ]
  },
  {
   "cell_type": "code",
   "execution_count": null,
   "metadata": {},
   "outputs": [],
   "source": [
    "# Dropping column D\n",
    "df.drop(\"D\", axis=1, inplace=True)\n",
    "df.head()"
   ]
  },
  {
   "cell_type": "code",
   "execution_count": null,
   "metadata": {},
   "outputs": [],
   "source": [
    "# Reindexing the DataFrame\n",
    "df = df.reindex(index=df.index[::-1])\n",
    "df.head()"
   ]
  },
  {
   "cell_type": "code",
   "execution_count": null,
   "metadata": {},
   "outputs": [],
   "source": [
    "# Introducing some NaN values and filling them\n",
    "df.loc[0:100, \"C\"] = np.nan\n",
    "df.fillna({\"C\": 0}, inplace=True)\n",
    "df.head()"
   ]
  },
  {
   "cell_type": "code",
   "execution_count": null,
   "metadata": {},
   "outputs": [],
   "source": [
    "# Grouping by a column and updating another based on the group\n",
    "df[\"G\"] = df.groupby(\"B_mod\")[\"C\"].transform(\"mean\")\n",
    "df.head()"
   ]
  },
  {
   "cell_type": "code",
   "execution_count": null,
   "metadata": {},
   "outputs": [],
   "source": [
    "# Sorting the DataFrame by column E\n",
    "df.sort_values(\"E\", inplace=True)\n",
    "df.head()"
   ]
  },
  {
   "cell_type": "code",
   "execution_count": null,
   "metadata": {},
   "outputs": [],
   "source": [
    "# Merging with another DataFrame and updating values\n",
    "df = df.merge(\n",
    "    pd.DataFrame({\n",
    "        \"E\": pd.date_range(\"2022-01-01\", periods=10, freq=\"D\"),\n",
    "        \"H\": np.random.randint(1000, 5000, size=10)\n",
    "    }),\n",
    "    on=\"E\",\n",
    "    how=\"left\",\n",
    ")\n",
    "df.fillna({\"H\": 0}, inplace=True)\n",
    "df.head()"
   ]
  },
  {
   "cell_type": "code",
   "execution_count": null,
   "metadata": {},
   "outputs": [],
   "source": []
  }
 ],
 "metadata": {
  "kernelspec": {
   "display_name": "Python 3 (ipykernel)",
   "language": "python",
   "name": "python3"
  },
  "language_info": {
   "codemirror_mode": {
    "name": "ipython",
    "version": 3
   },
   "file_extension": ".py",
   "mimetype": "text/x-python",
   "name": "python",
   "nbconvert_exporter": "python",
   "pygments_lexer": "ipython3",
   "version": "3.11.9"
  }
 },
 "nbformat": 4,
 "nbformat_minor": 4
}
